{
 "cells": [
  {
   "cell_type": "code",
   "execution_count": 1,
   "id": "8aab4691",
   "metadata": {},
   "outputs": [],
   "source": [
    "# Q WA function to take a number as parameter \n",
    "# and  print True if given number is even else print False\n",
    "def check_even(n):\n",
    "    if n%2 == 0:\n",
    "        print(\"True\")\n",
    "    else:\n",
    "        print(\"False\")"
   ]
  },
  {
   "cell_type": "code",
   "execution_count": 2,
   "id": "2810d766",
   "metadata": {},
   "outputs": [
    {
     "name": "stdout",
     "output_type": "stream",
     "text": [
      "True\n"
     ]
    }
   ],
   "source": [
    "check_even(10)"
   ]
  },
  {
   "cell_type": "code",
   "execution_count": null,
   "id": "1d4e8390",
   "metadata": {},
   "outputs": [],
   "source": [
    "\"\"\"\n",
    "Q WA function to take list as parameter \n",
    "and print all numbers of given list which are divisible by 11\n",
    "\"\"\"\n",
    "\n",
    "def print_div11(list1):\n",
    "    for e in list1:\n",
    "        if e%11 ==0:\n",
    "            print(e)\n",
    "\n",
    "def print_div11_v1(list1):\n",
    "    new_list = [ e for e in list1 if e%11==0 ]\n",
    "    print(new_list)\n",
    "    \n",
    "l=[11,56,89,33,99]\n",
    "print_div11(l)\n",
    "print_div11_v1(l)"
   ]
  },
  {
   "cell_type": "code",
   "execution_count": 4,
   "id": "be1f9851",
   "metadata": {},
   "outputs": [
    {
     "name": "stdout",
     "output_type": "stream",
     "text": [
      "UE\n"
     ]
    }
   ],
   "source": [
    "# Q WA function to take a string as parameter. \n",
    "# Print its alternate characters starting from 2nd character\n",
    "def alternate(s1):\n",
    "    print(s1[1::2])\n",
    "alternate(\"PUNE\")"
   ]
  },
  {
   "cell_type": "code",
   "execution_count": 5,
   "id": "0020523b",
   "metadata": {},
   "outputs": [
    {
     "name": "stdout",
     "output_type": "stream",
     "text": [
      "k1\n",
      "k2\n",
      "89\n",
      "['k1', 'k2', 89]\n"
     ]
    }
   ],
   "source": [
    "#Q WA function to take dictionary as parameter. \n",
    "#Print all keys of the dictionary\n",
    "def print_keys(d1):\n",
    "    for key in d1:\n",
    "        print(key)\n",
    "    print(list(d1.keys()))\n",
    "d={\"k1\":45,\"k2\":78,89:100}\n",
    "print_keys(d)"
   ]
  },
  {
   "cell_type": "code",
   "execution_count": 6,
   "id": "aae06f62",
   "metadata": {},
   "outputs": [],
   "source": [
    "# Q WA function to take a dictionary as parameter. \n",
    "# Print value of key \"name\" if key \"rollno\" is having value 100.\n",
    "def check(d1):\n",
    "    if d1['rollno'] ==100:\n",
    "        print(d1['name'])"
   ]
  },
  {
   "cell_type": "code",
   "execution_count": 8,
   "id": "cae4b1ae",
   "metadata": {},
   "outputs": [
    {
     "name": "stdout",
     "output_type": "stream",
     "text": [
      "iacsd\n"
     ]
    }
   ],
   "source": [
    "d={'name':\"iacsd\",'rollno':500}\n",
    "d_new={'name':\"iacsd\",'rollno':100}\n",
    "check(d)\n",
    "check(d_new)"
   ]
  },
  {
   "cell_type": "code",
   "execution_count": 10,
   "id": "899aa5d2",
   "metadata": {},
   "outputs": [],
   "source": [
    "# WA to take dictionary as parameter\n",
    "# print value of key 'price' if key 'item' is milk\n",
    "def check(d1):\n",
    "    if d1['item'] == 'milk':\n",
    "        print(d1['price'])"
   ]
  },
  {
   "cell_type": "code",
   "execution_count": 11,
   "id": "6b001764",
   "metadata": {},
   "outputs": [
    {
     "name": "stdout",
     "output_type": "stream",
     "text": [
      "200\n"
     ]
    }
   ],
   "source": [
    "d={'item':'milk','price':200}\n",
    "check(d)"
   ]
  },
  {
   "cell_type": "code",
   "execution_count": 13,
   "id": "2132b1dc",
   "metadata": {},
   "outputs": [],
   "source": [
    "# Q WA function to take list of \n",
    "# strings as parameter and \n",
    "# print all strings which have character 's' 2 times\n",
    "def check_2s(list_str):\n",
    "    for word in list_str:\n",
    "        # check if word has charcter 's' 2 times\n",
    "        # Approach 1\n",
    "        count=0\n",
    "        for char in word:\n",
    "            if char =='s':\n",
    "                count +=1\n",
    "        if count == 2:\n",
    "            print(word)\n",
    "        ## Approach 1    \n",
    "        if word.count('s') == 2:\n",
    "            print(word)\n",
    "        "
   ]
  },
  {
   "cell_type": "code",
   "execution_count": 14,
   "id": "b29614e9",
   "metadata": {},
   "outputs": [
    {
     "name": "stdout",
     "output_type": "stream",
     "text": [
      "kluss\n",
      "kluss\n",
      "ssd\n",
      "ssd\n"
     ]
    }
   ],
   "source": [
    "l=[\"abc\",\"sss\",\"kluss\",\"ssd\",\"fghj\"]\n",
    "check_2s(l)"
   ]
  },
  {
   "cell_type": "code",
   "execution_count": 15,
   "id": "e3bfd3aa",
   "metadata": {},
   "outputs": [],
   "source": [
    "# Q WA function to take list of dictionaries. \n",
    "# Print all dictionaries which contain key \"id\".\n",
    "def check_id(list_dict):\n",
    "    for d in list_dict:\n",
    "        if 'id' in d.keys():\n",
    "            print(d)"
   ]
  },
  {
   "cell_type": "code",
   "execution_count": 17,
   "id": "6852da3b",
   "metadata": {},
   "outputs": [
    {
     "name": "stdout",
     "output_type": "stream",
     "text": [
      "{'id': 345, 'name': 'abcd', 'college': 'pune'}\n",
      "{'name': 'a', 'college': 'mumbai', 'id': 890}\n"
     ]
    }
   ],
   "source": [
    "list_d = [{'bookid':'123','bookname':\"python\"},\n",
    "         {'id':345,'name':'abcd','college':'pune'},\n",
    "         {'movieid':234,'moviename':'xyz'},\n",
    "          {'name':'a','college':'mumbai','id':890},\n",
    "         ]\n",
    "check_id(list_d)"
   ]
  },
  {
   "cell_type": "code",
   "execution_count": 18,
   "id": "0b80662f",
   "metadata": {},
   "outputs": [
    {
     "name": "stdout",
     "output_type": "stream",
     "text": [
      "1\n"
     ]
    }
   ],
   "source": [
    "# Q WA function to take string as parameter\n",
    "# Check if string is palindrome or not\n",
    "#If palindrome return 1\n",
    "#if not palindrome return 0\n",
    "def check_palindrome(string1):\n",
    "    if string1 == string1[::-1]:\n",
    "        return 1\n",
    "    else:\n",
    "        return 0\n",
    "print(check_palindrome('nitin'))"
   ]
  },
  {
   "cell_type": "code",
   "execution_count": 19,
   "id": "860e71e7",
   "metadata": {},
   "outputs": [
    {
     "name": "stdout",
     "output_type": "stream",
     "text": [
      "0\n"
     ]
    }
   ],
   "source": [
    "print(check_palindrome('abcd'))"
   ]
  },
  {
   "cell_type": "code",
   "execution_count": null,
   "id": "f6045a49",
   "metadata": {},
   "outputs": [],
   "source": []
  }
 ],
 "metadata": {
  "kernelspec": {
   "display_name": "Python 3 (ipykernel)",
   "language": "python",
   "name": "python3"
  },
  "language_info": {
   "codemirror_mode": {
    "name": "ipython",
    "version": 3
   },
   "file_extension": ".py",
   "mimetype": "text/x-python",
   "name": "python",
   "nbconvert_exporter": "python",
   "pygments_lexer": "ipython3",
   "version": "3.11.4"
  }
 },
 "nbformat": 4,
 "nbformat_minor": 5
}
