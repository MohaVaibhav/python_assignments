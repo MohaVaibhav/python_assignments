{
  "nbformat": 4,
  "nbformat_minor": 0,
  "metadata": {
    "colab": {
      "provenance": [],
      "include_colab_link": true
    },
    "kernelspec": {
      "name": "python3",
      "display_name": "Python 3"
    },
    "language_info": {
      "name": "python"
    }
  },
  "cells": [
    {
      "cell_type": "markdown",
      "metadata": {
        "id": "view-in-github",
        "colab_type": "text"
      },
      "source": [
        "<a href=\"https://colab.research.google.com/github/MohaVaibhav/python_assignments/blob/main/Menu_driven_prog.ipynb\" target=\"_parent\"><img src=\"https://colab.research.google.com/assets/colab-badge.svg\" alt=\"Open In Colab\"/></a>"
      ]
    },
    {
      "cell_type": "code",
      "execution_count": 1,
      "metadata": {
        "colab": {
          "base_uri": "https://localhost:8080/"
        },
        "id": "29_APlPX6BbZ",
        "outputId": "91c36a6a-3442-4dae-b4ca-75382f163e7f"
      },
      "outputs": [
        {
          "output_type": "execute_result",
          "data": {
            "text/plain": [
              "{'Arhan': 'Blue', 'Lisa': 'Yellow', 'Vinod': 'Purple', 'Jenny': 'Pink'}"
            ]
          },
          "metadata": {},
          "execution_count": 1
        }
      ],
      "source": [
        "people = {'Arhan':'Blue','Lisa':'Yellow','Vinod':'Purple','Jenny':'Pink'}\n",
        "people"
      ]
    },
    {
      "cell_type": "code",
      "source": [
        "# Que.1 - How many students are in the list\n",
        "\n",
        "# keys_p = people.keys()\n",
        "# count = len(people)\n",
        "# count\n",
        "\n",
        "#print(people.keys(),len(people))\n",
        "print(len(people))"
      ],
      "metadata": {
        "colab": {
          "base_uri": "https://localhost:8080/"
        },
        "id": "tFTVWhBM6l5s",
        "outputId": "e22da73d-205c-4bf6-db2a-f72e1996fc00"
      },
      "execution_count": 2,
      "outputs": [
        {
          "output_type": "stream",
          "name": "stdout",
          "text": [
            "4\n"
          ]
        }
      ]
    },
    {
      "cell_type": "code",
      "source": [
        "# Que.2 - Change Lisa's favourite color\n",
        "\n",
        "people['Lisa'] = 'Black'\n",
        "people"
      ],
      "metadata": {
        "colab": {
          "base_uri": "https://localhost:8080/"
        },
        "id": "U7p6Z-_o725f",
        "outputId": "fa57e504-5b9c-41aa-880c-1427884088ee"
      },
      "execution_count": null,
      "outputs": [
        {
          "output_type": "execute_result",
          "data": {
            "text/plain": [
              "{'Arhan': 'Blue', 'Lisa': 'Black', 'Vinod': 'Purple', 'Jenny': 'Pink'}"
            ]
          },
          "metadata": {},
          "execution_count": 10
        }
      ]
    },
    {
      "cell_type": "code",
      "source": [
        "# Que.2 - Remove Jenny and her favourite color\n",
        "\n",
        "# people['Jenny'] = 'Pink'\n",
        "# people\n",
        "\n",
        "del people['Jenny']\n",
        "people"
      ],
      "metadata": {
        "colab": {
          "base_uri": "https://localhost:8080/"
        },
        "id": "aSbAXbTP8QAt",
        "outputId": "d48042b8-427f-47b2-bdfb-062208aea299"
      },
      "execution_count": null,
      "outputs": [
        {
          "output_type": "execute_result",
          "data": {
            "text/plain": [
              "{'Arhan': 'Blue', 'Lisa': 'Black', 'Vinod': 'Purple'}"
            ]
          },
          "metadata": {},
          "execution_count": 15
        }
      ]
    },
    {
      "cell_type": "code",
      "source": [
        "# Sort & print students and their fav color alphabetically by their name\n",
        "\n",
        "dic1 = dict(sorted(people.items(), key=lambda x:x[0]))\n",
        "dic1"
      ],
      "metadata": {
        "colab": {
          "base_uri": "https://localhost:8080/"
        },
        "id": "EcuyqJb39OXi",
        "outputId": "04d2f217-9997-4bdf-89e0-776a52e25064"
      },
      "execution_count": 3,
      "outputs": [
        {
          "output_type": "execute_result",
          "data": {
            "text/plain": [
              "{'Arhan': 'Blue', 'Jenny': 'Pink', 'Lisa': 'Yellow', 'Vinod': 'Purple'}"
            ]
          },
          "metadata": {},
          "execution_count": 3
        }
      ]
    },
    {
      "cell_type": "markdown",
      "source": [
        "# **Menu Driven Program :**"
      ],
      "metadata": {
        "id": "nPecmqdxA4hz"
      }
    },
    {
      "cell_type": "code",
      "source": [
        "dict1 = {}\n",
        "while True:\n",
        "    key = input(\"Enter Name: \")\n",
        "    value = input(\"Enter Vehicle: \")\n",
        "    dict1[key] = value\n",
        "\n",
        "    a = input(\"You want to continue to accept multiple values? Enter y/n: \")\n",
        "    if a == \"n\":\n",
        "      break\n",
        "print(dict1)"
      ],
      "metadata": {
        "colab": {
          "base_uri": "https://localhost:8080/"
        },
        "id": "vUs8A-qyARo5",
        "outputId": "63e7119e-604b-4feb-a45a-b3e084b1e886"
      },
      "execution_count": 1,
      "outputs": [
        {
          "output_type": "stream",
          "name": "stdout",
          "text": [
            "Enter Name: Moha\n",
            "Enter Vehicle: BMW\n",
            "You want to continue to accept multiple values? Enter y/n: n\n",
            "{'Moha': 'BMW'}\n"
          ]
        }
      ]
    },
    {
      "cell_type": "code",
      "source": [
        "dict1[\"Saru\"] = \"Thar\"\n",
        "dict1"
      ],
      "metadata": {
        "colab": {
          "base_uri": "https://localhost:8080/"
        },
        "id": "qCfuvmTUXa9r",
        "outputId": "113de8a9-45a3-4289-f742-99e2124dd8c2"
      },
      "execution_count": 2,
      "outputs": [
        {
          "output_type": "execute_result",
          "data": {
            "text/plain": [
              "{'Moha': 'BMW', 'Saru': 'Thar'}"
            ]
          },
          "metadata": {},
          "execution_count": 2
        }
      ]
    },
    {
      "cell_type": "code",
      "source": [
        "def add_user(dict1):\n",
        "  new_user = input(\"Enter Name: \")\n",
        "  vehicle = input(\"Enter vahicle: \")\n",
        "  dict1[new_user] = vehicle\n",
        "  print(dict1)\n",
        "add_user(dict1)"
      ],
      "metadata": {
        "colab": {
          "base_uri": "https://localhost:8080/"
        },
        "id": "V3XSDjyqYLlZ",
        "outputId": "a81b0579-2493-4859-b484-f57db4556a0f"
      },
      "execution_count": 3,
      "outputs": [
        {
          "output_type": "stream",
          "name": "stdout",
          "text": [
            "Enter Name: tanu\n",
            "Enter vahicle: xx\n",
            "{'Moha': 'BMW', 'Saru': 'Thar', 'tanu': 'xx'}\n"
          ]
        }
      ]
    },
    {
      "cell_type": "code",
      "source": [
        "dict1[\"Moha\"]=\"Creta\"\n",
        "dict1"
      ],
      "metadata": {
        "colab": {
          "base_uri": "https://localhost:8080/"
        },
        "id": "714UdzKceNPj",
        "outputId": "e33bc912-f92e-4444-ab4b-2120bd5e85d0"
      },
      "execution_count": null,
      "outputs": [
        {
          "output_type": "execute_result",
          "data": {
            "text/plain": [
              "{'Shruti': 'Audi', 'Tanu': 'Range Rover', 'Alisha': 'Thar', 'Moha': 'Creta'}"
            ]
          },
          "metadata": {},
          "execution_count": 12
        }
      ]
    },
    {
      "cell_type": "code",
      "source": [
        "def del_user(dict1):\n",
        "  del_name = input(\"Enter name: \")\n",
        "  if del_name in dict1:\n",
        "    print(dict1[del_name])\n",
        "    msg = input(\"Want to delete name? Enter y/n: \")\n",
        "    if msg == 'y':\n",
        "      del dict1[del_name]\n",
        "    else:\n",
        "      print(\"No\")\n",
        "  else:\n",
        "    print(\"Name of user is not present\")\n",
        "  print(dict1)\n",
        "del_user(dict1)\n"
      ],
      "metadata": {
        "colab": {
          "base_uri": "https://localhost:8080/"
        },
        "id": "ataTb-2aZG2-",
        "outputId": "9bff78e3-db98-4a1a-da25-81b8f1ac2fb3"
      },
      "execution_count": 5,
      "outputs": [
        {
          "output_type": "stream",
          "name": "stdout",
          "text": [
            "Enter name: Saru\n",
            "Thar\n",
            "Want to delete name? Enter y/n: n\n",
            "No\n",
            "{'Moha': 'BMW', 'Saru': 'Thar', 'tanu': 'xx'}\n"
          ]
        }
      ]
    },
    {
      "cell_type": "code",
      "source": [
        "def mod_user(dict1):\n",
        "  mod_name = input(\"Enter name which you want to modify: \")\n",
        "  if mod_name in dict1:\n",
        "    print(dict1[mod_name])\n",
        "    new_value = input(\"Enter new value for name: \")\n",
        "    dict1[mod_name] = new_value\n",
        "  else:\n",
        "    print(\"Entered name is not present\")\n",
        "  print(dict1)\n",
        "mod_user(dict1)"
      ],
      "metadata": {
        "colab": {
          "base_uri": "https://localhost:8080/"
        },
        "id": "RkLXn8D2Zj6n",
        "outputId": "b770d187-749b-4de6-a180-81e01532335c"
      },
      "execution_count": 6,
      "outputs": [
        {
          "output_type": "stream",
          "name": "stdout",
          "text": [
            "Enter name which you want to modify: Saru\n",
            "Thar\n",
            "Enter new value for name: creta\n",
            "{'Moha': 'BMW', 'Saru': 'creta', 'tanu': 'xx'}\n"
          ]
        }
      ]
    },
    {
      "cell_type": "code",
      "source": [
        "def search(dict1):\n",
        "  search_name = input(\"Enter name which you want to search: \")\n",
        "  if search_name in dict1:\n",
        "    dict1.get(search_name)\n",
        "    print(\"Entered name is present.\",search_name)\n",
        "  else:\n",
        "    print(\"Search name not found\")\n",
        "search(dict1)\n"
      ],
      "metadata": {
        "colab": {
          "base_uri": "https://localhost:8080/"
        },
        "id": "n5l0hGh8iicu",
        "outputId": "1a7b25fe-dc10-4049-a8c1-2f8c3e4faf13"
      },
      "execution_count": 8,
      "outputs": [
        {
          "output_type": "stream",
          "name": "stdout",
          "text": [
            "Enter name which you want to search: Moha\n",
            "Entered name is present. Moha\n"
          ]
        }
      ]
    },
    {
      "cell_type": "code",
      "source": [
        "def all_person(dict1):\n",
        "  print(dict1.keys())\n",
        "all_person(dict1)\n"
      ],
      "metadata": {
        "colab": {
          "base_uri": "https://localhost:8080/"
        },
        "id": "zqKJfyAem3vO",
        "outputId": "2fc95a60-63e3-4cdb-f213-58b10c6ee2ee"
      },
      "execution_count": 9,
      "outputs": [
        {
          "output_type": "stream",
          "name": "stdout",
          "text": [
            "dict_keys(['Moha', 'Saru', 'tanu'])\n"
          ]
        }
      ]
    },
    {
      "cell_type": "code",
      "source": [
        "def all_values(dict1):\n",
        "  print(dict1.values())\n",
        "all_values(dict1)"
      ],
      "metadata": {
        "colab": {
          "base_uri": "https://localhost:8080/"
        },
        "id": "XGEI_K3to9Yw",
        "outputId": "9f30781f-b1d8-4416-be3e-15c158e55ad7"
      },
      "execution_count": 10,
      "outputs": [
        {
          "output_type": "stream",
          "name": "stdout",
          "text": [
            "dict_values(['BMW', 'creta', 'xx'])\n"
          ]
        }
      ]
    },
    {
      "cell_type": "code",
      "source": [
        "def main():\n",
        "  dict1 = {}\n",
        "  while True:\n",
        "     print(\"\\n Menu: \")\n",
        "     print(\"1. Add User\")\n",
        "     print(\"2. Delete User\")\n",
        "     print(\"3. Modify User\")\n",
        "     print(\"4. Search User\")\n",
        "     print(\"5. See all persons\")\n",
        "     print(\"6. See all values\")\n",
        "     print(\"7. Exit\")\n",
        "\n",
        "\n",
        "     choice = input(\"Enter Your Choice : \")\n",
        "\n",
        "     if choice == '1':\n",
        "       add_user(dict1)\n",
        "     elif choice == '2':\n",
        "       del_user(dict1)\n",
        "     elif choice == '3':\n",
        "       mod_user(dict1)\n",
        "     elif choice == '4':\n",
        "       search(dict1)\n",
        "     elif choice == '5':\n",
        "       all_person(dict1)\n",
        "     elif choice == '6':\n",
        "       all_values(dict1)\n",
        "     elif choice == '7':\n",
        "       print(\"Exiting Program\")\n",
        "       break\n",
        "     else:\n",
        "      print(\"Invalid Choice\")\n",
        "\n",
        "\n",
        "\n",
        "\n",
        "\n",
        "\n",
        "# if __name__ == \"__main__\":\n",
        "main()\n"
      ],
      "metadata": {
        "colab": {
          "base_uri": "https://localhost:8080/"
        },
        "id": "iDNst-8cpdhK",
        "outputId": "9e6a0c91-5258-427b-fa78-e1fd63bac20e"
      },
      "execution_count": 14,
      "outputs": [
        {
          "output_type": "stream",
          "name": "stdout",
          "text": [
            "\n",
            " Menu: \n",
            "1. Add User\n",
            "2. Delete User\n",
            "3. Modify User\n",
            "4. Search User\n",
            "5. See all persons\n",
            "6. See all values\n",
            "7. Exit\n",
            "Enter Your Choice : 1\n",
            "Enter Name: Shruti\n",
            "Enter vahicle: Thar\n",
            "{'Shruti': 'Thar'}\n",
            "\n",
            " Menu: \n",
            "1. Add User\n",
            "2. Delete User\n",
            "3. Modify User\n",
            "4. Search User\n",
            "5. See all persons\n",
            "6. See all values\n",
            "7. Exit\n",
            "Enter Your Choice : 5\n",
            "dict_keys(['Shruti'])\n",
            "\n",
            " Menu: \n",
            "1. Add User\n",
            "2. Delete User\n",
            "3. Modify User\n",
            "4. Search User\n",
            "5. See all persons\n",
            "6. See all values\n",
            "7. Exit\n",
            "Enter Your Choice : 6\n",
            "dict_values(['Thar'])\n",
            "\n",
            " Menu: \n",
            "1. Add User\n",
            "2. Delete User\n",
            "3. Modify User\n",
            "4. Search User\n",
            "5. See all persons\n",
            "6. See all values\n",
            "7. Exit\n",
            "Enter Your Choice : 7\n",
            "Exiting Program\n"
          ]
        }
      ]
    },
    {
      "cell_type": "code",
      "source": [],
      "metadata": {
        "id": "aezZHZwx1Y6r"
      },
      "execution_count": null,
      "outputs": []
    }
  ]
}