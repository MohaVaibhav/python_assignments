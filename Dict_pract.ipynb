{
  "nbformat": 4,
  "nbformat_minor": 0,
  "metadata": {
    "colab": {
      "provenance": [],
      "authorship_tag": "ABX9TyM8IrR6jdDXzBxdcLvImTAP",
      "include_colab_link": true
    },
    "kernelspec": {
      "name": "python3",
      "display_name": "Python 3"
    },
    "language_info": {
      "name": "python"
    }
  },
  "cells": [
    {
      "cell_type": "markdown",
      "metadata": {
        "id": "view-in-github",
        "colab_type": "text"
      },
      "source": [
        "<a href=\"https://colab.research.google.com/github/MohaVaibhav/python_assignments/blob/main/Dict_pract.ipynb\" target=\"_parent\"><img src=\"https://colab.research.google.com/assets/colab-badge.svg\" alt=\"Open In Colab\"/></a>"
      ]
    },
    {
      "cell_type": "markdown",
      "source": [
        "1. Write a Python script to sort (ascending and descending) a dictionary by value."
      ],
      "metadata": {
        "id": "rfvKb0I9Ggtt"
      }
    },
    {
      "cell_type": "code",
      "execution_count": null,
      "metadata": {
        "id": "bFPsnLVjGbq2"
      },
      "outputs": [],
      "source": []
    },
    {
      "cell_type": "markdown",
      "source": [
        "\n",
        "2. Write a Python script to add a key to a dictionary.\n",
        "\n",
        "Sample Dictionary : {0: 10, 1: 20}\n",
        "Expected Result : {0: 10, 1: 20, 2: 30}"
      ],
      "metadata": {
        "id": "iDJq1pVfGjON"
      }
    },
    {
      "cell_type": "code",
      "source": [
        "d2 = {0: 10, 1: 20}\n",
        "d2[2]=30\n",
        "d2\n",
        "d2[\"Tanu\"] =\"Moha\"\n",
        "d2"
      ],
      "metadata": {
        "colab": {
          "base_uri": "https://localhost:8080/"
        },
        "id": "aIIw1MlaGm9z",
        "outputId": "aa791dfb-5623-4eb1-f74a-1fa682dac700"
      },
      "execution_count": null,
      "outputs": [
        {
          "output_type": "execute_result",
          "data": {
            "text/plain": [
              "{0: 10, 1: 20, 2: 30, 'Tanu': 'Moha'}"
            ]
          },
          "metadata": {},
          "execution_count": 5
        }
      ]
    },
    {
      "cell_type": "markdown",
      "source": [
        "3. Write a Python script to concatenate the following dictionaries to create a new one.\n",
        "\n",
        "Sample Dictionary :\n",
        "dic1={1:10, 2:20}\n",
        "dic2={3:30, 4:40}\n",
        "dic3={5:50,6:60}\n",
        "Expected Result : {1: 10, 2: 20, 3: 30, 4: 40, 5: 50, 6: 60}\n"
      ],
      "metadata": {
        "id": "9qZojxgoHCTV"
      }
    },
    {
      "cell_type": "code",
      "source": [
        " dic1={1:10, 2:20}\n",
        " dic2={3:30, 4:40}\n",
        " dic3={5:50,6:60}\n",
        " dic1|dic2|dic3"
      ],
      "metadata": {
        "colab": {
          "base_uri": "https://localhost:8080/"
        },
        "id": "9xJ_E1xUHEf8",
        "outputId": "fdb8d644-b832-4289-857c-f99f857e1023"
      },
      "execution_count": null,
      "outputs": [
        {
          "output_type": "execute_result",
          "data": {
            "text/plain": [
              "{1: 10, 2: 20, 3: 30, 4: 40, 5: 50, 6: 60}"
            ]
          },
          "metadata": {},
          "execution_count": 7
        }
      ]
    },
    {
      "cell_type": "code",
      "source": [
        "d={**dic1,**dic2,**dic3}\n",
        "d"
      ],
      "metadata": {
        "colab": {
          "base_uri": "https://localhost:8080/"
        },
        "id": "1szmHwyDHoSz",
        "outputId": "bf0005c6-a852-4269-dfc9-af8131a06572"
      },
      "execution_count": null,
      "outputs": [
        {
          "output_type": "execute_result",
          "data": {
            "text/plain": [
              "{1: 10, 2: 20, 3: 30, 4: 40, 5: 50, 6: 60}"
            ]
          },
          "metadata": {},
          "execution_count": 8
        }
      ]
    },
    {
      "cell_type": "code",
      "source": [
        "d4 = {}\n",
        "for key,val in dic1.items():\n",
        "  d4[key]=val\n"
      ],
      "metadata": {
        "id": "XNTpmpjuH0kC"
      },
      "execution_count": null,
      "outputs": []
    },
    {
      "cell_type": "code",
      "source": [],
      "metadata": {
        "id": "iT5OYt1aL0ZR"
      },
      "execution_count": null,
      "outputs": []
    },
    {
      "cell_type": "markdown",
      "source": [
        "10. Write a Python program to sum all the items in a dictionary."
      ],
      "metadata": {
        "id": "QVQvHzSCIiVv"
      }
    },
    {
      "cell_type": "code",
      "source": [
        "d = {1: 10, 2: 20, 3: 30, 4: 40, 5: 50, 6: 60}\n",
        "str1= str(d)\n",
        "#for items in d:\n",
        "str1\n"
      ],
      "metadata": {
        "id": "RgdYSP17Iq__",
        "colab": {
          "base_uri": "https://localhost:8080/",
          "height": 35
        },
        "outputId": "d856c289-e967-4959-d205-b9f631f0ac0c"
      },
      "execution_count": null,
      "outputs": [
        {
          "output_type": "execute_result",
          "data": {
            "text/plain": [
              "'{1: 10, 2: 20, 3: 30, 4: 40, 5: 50, 6: 60}'"
            ],
            "application/vnd.google.colaboratory.intrinsic+json": {
              "type": "string"
            }
          },
          "metadata": {},
          "execution_count": 2
        }
      ]
    },
    {
      "cell_type": "markdown",
      "source": [
        "15. Write a Python program to get the maximum and minimum values of a dictionary.\n"
      ],
      "metadata": {
        "id": "nyPpDPKkL4Wn"
      }
    },
    {
      "cell_type": "code",
      "source": [
        "d = {1: -10, 2: -20, 3: -30, 4: -40, 5: -50, 6: -60}\n",
        "print(max(d.values()))\n",
        "print(min(d.values()))"
      ],
      "metadata": {
        "colab": {
          "base_uri": "https://localhost:8080/"
        },
        "id": "blIJItp7L6Y4",
        "outputId": "d8b40cc3-45ee-4aac-d837-6e758bdffd21"
      },
      "execution_count": null,
      "outputs": [
        {
          "output_type": "stream",
          "name": "stdout",
          "text": [
            "-10\n",
            "-60\n"
          ]
        }
      ]
    },
    {
      "cell_type": "markdown",
      "source": [
        "21. Write a Python program to create and display all combinations of letters, selecting each letter from a different key in a dictionary.\n",
        "Sample data : {'1':['a','b'], '2':['c','d']}\n",
        "Expected Output:\n",
        "ac\n",
        "ad\n",
        "bc\n",
        "bd"
      ],
      "metadata": {
        "id": "fQO5DgQx8Enb"
      }
    },
    {
      "cell_type": "code",
      "source": [
        "data = {'1':['a','b'], '2':['c','d']}\n",
        "x = data.values()\n",
        "flat=[]\n",
        "for element in x:\n",
        "  if type(element) is list:\n",
        "    for i in element:\n",
        "      flat.append(i)\n",
        "  else:\n",
        "    flat.append(element)\n",
        "flat"
      ],
      "metadata": {
        "colab": {
          "base_uri": "https://localhost:8080/"
        },
        "id": "TlBUy13-8GRb",
        "outputId": "7c9a5fc1-ae51-472a-e824-518d9fd98308"
      },
      "execution_count": null,
      "outputs": [
        {
          "output_type": "execute_result",
          "data": {
            "text/plain": [
              "['a', 'b', 'c', 'd']"
            ]
          },
          "metadata": {},
          "execution_count": 9
        }
      ]
    },
    {
      "cell_type": "code",
      "source": [
        "data = {'1':['a','b'], '2':['c','d']}\n",
        "x = list(data.values())\n",
        "print(type(x))\n",
        "print(x[0])\n",
        "l1=[]\n",
        "l1=data['1']\n",
        "l2=data['2']\n",
        "for r in l1:\n",
        "  for c in l2:\n",
        "    print(r+c)\n"
      ],
      "metadata": {
        "colab": {
          "base_uri": "https://localhost:8080/"
        },
        "id": "tlPfSBW290Q4",
        "outputId": "e89358be-7b03-4863-81e0-c10e5898fa83"
      },
      "execution_count": null,
      "outputs": [
        {
          "output_type": "stream",
          "name": "stdout",
          "text": [
            "<class 'list'>\n",
            "['a', 'b']\n",
            "ac\n",
            "ad\n",
            "bc\n",
            "bd\n"
          ]
        }
      ]
    },
    {
      "cell_type": "markdown",
      "source": [
        "23. Write a Python program to combine values in a list of dictionaries.\n",
        "Sample data: [{'item': 'item1', 'amount': 400}, {'item': 'item2', 'amount': 300}, {'item': 'item1', 'amount': 750}]\n",
        "Expected Output: Counter({'item1': 1150, 'item2': 300})"
      ],
      "metadata": {
        "id": "38Qp3puJ4sTN"
      }
    },
    {
      "cell_type": "code",
      "source": [
        "data= [{'item': 'item1', 'amount': 400}, {'item': 'item2', 'amount': 300}, {'item': 'item1', 'amount': 750}]\n",
        "d={}\n",
        "for i in data:\n",
        "  if i[\"item\"] in d:\n",
        "      d[i[\"item\"]]+=i[\"amount\"]\n",
        "  else:\n",
        "    d[i[\"item\"]]=i[\"amount\"]\n",
        "print(d)\n"
      ],
      "metadata": {
        "colab": {
          "base_uri": "https://localhost:8080/"
        },
        "id": "fbJ3AF1t4uh4",
        "outputId": "bb993442-de03-4fec-bf8e-a83d87b7818a"
      },
      "execution_count": null,
      "outputs": [
        {
          "output_type": "stream",
          "name": "stdout",
          "text": [
            "{'item1': 1150, 'item2': 300}\n"
          ]
        }
      ]
    },
    {
      "cell_type": "markdown",
      "source": [
        "\n",
        "4. Write a Python script to check whether a given key already exists in a dictionary.\n",
        "\n",
        "\n",
        "\n",
        "5. Write a Python program to iterate over dictionaries using for loops.\n",
        "\n",
        "\n",
        "\n",
        "6. Write a Python script to generate and print a dictionary that contains a number (between 1 and n) in the form (x, x*x).\n",
        "Sample Dictionary ( n = 5) :\n",
        "Expected Output : {1: 1, 2: 4, 3: 9, 4: 16, 5: 25}\n",
        "\n",
        "\n",
        "7. Write a Python script to print a dictionary where the keys are numbers between 1 and 15 (both included) and the values are the square of the keys.\n",
        "Sample Dictionary\n",
        "{1: 1, 2: 4, 3: 9, 4: 16, 5: 25, 6: 36, 7: 49, 8: 64, 9: 81, 10: 100, 11: 121, 12: 144, 13: 169, 14: 196, 15: 225}\n",
        "\n",
        "\n",
        "8. Write a Python script to merge two Python dictionaries.\n",
        "\n",
        "\n",
        "9. Write a Python program to iterate over dictionaries using for loops.\n",
        "\n",
        "11. Write a Python program to multiply all the items in a dictionary.\n",
        "\n",
        "\n",
        "12. Write a Python program to remove a key from a dictionary.\n",
        "\n",
        "\n",
        "13. Write a Python program to map two lists into a dictionary.\n",
        "\n",
        "\n",
        "14. Write a Python program to sort a given dictionary by key. And output should be a dictionary.\n",
        "16. Write a Python program to get a dictionary from an object's fields.\n",
        "\n",
        "\n",
        "17. Write a Python program to remove duplicates from the dictionary.\n",
        "\n",
        "\n",
        "18. Write a Python program to check if a dictionary is empty or not.\n",
        "\n",
        "\n",
        "19. Write a Python program to combine two dictionary by adding values for common keys.\n",
        "d1 = {'a': 100, 'b': 200, 'c':300}\n",
        "d2 = {'a': 300, 'b': 200, 'd':400}\n",
        "Sample output: Counter({'a': 400, 'b': 400, 'd': 400, 'c': 300})\n",
        "\n",
        "\n",
        "20. Write a Python program to print all distinct values in a dictionary.\n",
        "Sample Data : [{\"V\":\"S001\"}, {\"V\": \"S002\"}, {\"VI\": \"S001\"}, {\"VI\": \"S005\"}, {\"VII\":\"S005\"}, {\"V\":\"S009\"},{\"VIII\":\"S007\"}]\n",
        "Expected Output : Unique Values: {'S005', 'S002', 'S007', 'S001', 'S009'}\n",
        "\n",
        "\n",
        "\n",
        "\n",
        "\n",
        "22. Write a Python program to find the highest 3 values of corresponding keys in a dictionary.\n",
        "\n",
        "\n",
        "24. Write a Python program to create a dictionary from a string.\n",
        "Note: Track the count of the letters from the string.\n",
        "Sample string : 'w3resource'\n",
        "Expected output: {'w': 1, '3': 1, 'r': 2, 'e': 2, 's': 1, 'o': 1, 'u': 1, 'c': 1}\n",
        "\n",
        "\n",
        "25. Write a Python program to print a dictionary in table format.\n",
        "\n",
        "\n",
        "26. Write a Python program to count the values associated with a key in a dictionary.\n",
        "Expected Output:\n",
        "6\n",
        "2\n",
        "\n",
        "\n",
        "27. Write a Python program to convert a list into a nested dictionary of keys.\n",
        "\n",
        "Ex. i/p [1, 2, 3, 4]\n",
        "o/p  {1: {2: {3: {4: {}}}}}\n",
        "\n",
        "28. Write a Python program. There is a dictionary where values contain list of integers.\n",
        "So, program should sort that list and return complete dictionary\n",
        "Ex.\n",
        "i/p\n",
        "{'n1': [2, 3, 1], 'n2': [5, 1, 2], 'n3': [3, 2, 4]}\n",
        "o/p\n",
        "{'n1': [1, 2, 3], 'n2': [1, 2, 5], 'n3': [2, 3, 4]}\n",
        "\n",
        "\n",
        "29. Write a Python program to remove spaces from dictionary keys.\n",
        "After removing spaces if keys repeat then keep the latest value.\n",
        "Ex.\n",
        "i/p\n",
        "{'S  001': ['Math', 'Science'], 'S    002': ['Math', 'English'], 'S 3':['Math', 'English'], 'S3':['English'], }\n",
        "o/p\n",
        "{'S001': ['Math', 'Science'], 'S002': ['Math', 'English'], 'S3':['English']}\n",
        "\n",
        "\n",
        "30. Write a Python program to get the top three items in a shop.\n",
        "Sample data: {'item1': 45.50, 'item2':35, 'item3': 41.30, 'item4':55, 'item5': 24}\n",
        "Expected Output:\n",
        "item4 55\n",
        "item1 45.5\n",
        "item3 41.3\n",
        "\n",
        "\n",
        "31. Write a Python program to get the key, value and item in a dictionary.\n",
        "\n",
        "\n",
        "32. Write a Python program to print a dictionary line by line.\n",
        "Ex.\n",
        "i/p {'S001': ['Math', 'Science'], 'S002': ['Math', 'English'], 'S3':['English']}\n",
        "o/p\n",
        "'S001':['Math', 'Science']\n",
        "'S002':['Math', 'English']\n",
        "'S3':['English']\n",
        "\n",
        "\n",
        "33. Write a Python program to check if multiple keys exist in a dictionary.\n",
        "\n",
        "\n",
        "34. Write a Python program to count the total number of items under all keys in a dictionary value that is a list.\n",
        "Ex.\n",
        "i/p {'Alex': ['subj1', 'subj2', 'subj3'], 'David': ['subj1', 'subj2']}\n",
        "o/p total values : 5\n",
        "\n",
        "35. Write a Python program to sort dictionary by value.\n",
        "Sample data : {'Math':81, 'Physics':83, 'Chemistry':87}\n",
        "Expected data: [('Chemistry', 87), ('Physics', 83), ('Math', 81)]\n",
        "\n",
        "\n",
        "36. Write a Python program to create a dictionary from two lists without losing duplicate values.\n",
        "Sample lists: ['Class-V', 'Class-VI', 'Class-VII', 'Class-VIII'], [1, 2, 2, 3]\n",
        "Expected Output: defaultdict(<class 'set'>, {'Class-V': {1}, 'Class-VI': {2}, 'Class-VII': {2}, 'Class-VIII': {3}})\n",
        "\n",
        "\n",
        "37. Write a Python program to replace dictionary values with their sums.\n",
        "\n",
        "\n",
        "38. Write a Python program to match key values in two dictionaries.\n",
        "Sample dictionary: {'key1': 1, 'key2': 3, 'key3': 2}, {'key1': 1, 'key2': 2}\n",
        "Expected output: key1: 1 is present in both x and y\n",
        "\n",
        "\n",
        "39. Write a Python program to store dictionary data in a JSON file.\n",
        "Original dictionary:\n",
        "{'students': [{'firstName': 'Nikki', 'lastName': 'Roysden'}, {'firstName': 'Mervin', 'lastName': 'Friedland'}, {'firstName': 'Aron ', 'lastName': 'Wilkins'}], 'teachers': [{'firstName': 'Amberly', 'lastName': 'Calico'}, {'firstName': 'Regine', 'lastName': 'Agtarap'}]}\n",
        "<class 'dict'>\n",
        "Json file to dictionary:\n",
        "{'students': [{'firstName': 'Nikki', 'lastName': 'Roysden'}, {'firstName': 'Mervin', 'lastName': 'Friedland'}, {'firstName': 'Aron ', 'lastName': 'Wilkins'}], 'teachers': [{'firstName': 'Amberly', 'lastName': 'Calico'}, {'firstName': 'Regine', 'lastName': 'Agtarap'}]}\n",
        "\n",
        "Hint : Use JSON library\n",
        "\n",
        "40. Write a Python program to create a dictionary of keys x, y, and z where each key has as value a list from 11-20, 21-30, and 31-40 respectively. Access the fifth value of each key from the dictionary.\n",
        "{'x': [11, 12, 13, 14, 15, 16, 17, 18, 19],\n",
        "'y': [21, 22, 23, 24, 25, 26, 27, 28, 29],\n",
        "'z': [31, 32, 33, 34, 35, 36, 37, 38, 39]}\n",
        "15\n",
        "25\n",
        "35\n",
        "x has value [11, 12, 13, 14, 15, 16, 17, 18, 19]\n",
        "y has value [21, 22, 23, 24, 25, 26, 27, 28, 29]\n",
        "z has value [31, 32, 33, 34, 35, 36, 37, 38, 39]\n",
        "\n",
        "\n",
        "41. Write a Python program to drop empty items from a given dictionary.\n",
        "Original Dictionary:\n",
        "{'c1': 'Red', 'c2': 'Green', 'c3': None}\n",
        "New Dictionary after dropping empty items:\n",
        "{'c1': 'Red', 'c2': 'Green'}\n",
        "\n",
        "\n",
        "\n",
        "43. Write a Python program to convert more than one list to a nested dictionary.\n",
        "Original strings:\n",
        "['S001', 'S002', 'S003', 'S004']\n",
        "['Adina Park', 'Leyton Marsh', 'Duncan Boyle', 'Saim Richards']\n",
        "[85, 98, 89, 92]\n",
        "Nested dictionary:\n",
        "[{'S001': {'Adina Park': 85}}, {'S002': {'Leyton Marsh': 98}}, {'S003': {'Duncan Boyle': 89}}, {'S004': {'Saim Richards': 92}}]\n",
        "\n",
        "\n",
        "44. Write a Python program to filter the height and width of students, which are stored in a dictionary.\n",
        "Original Dictionary:\n",
        "{'Cierra Vega': (6.2, 70), 'Alden Cantrell': (5.9, 65), 'Kierra Gentry': (6.0, 68), 'Pierre Cox': (5.8, 66)}\n",
        "Height > 6ft and Weight> 70kg:\n",
        "{'Cierra Vega': (6.2, 70)}\n",
        "\n",
        "\n",
        "45. Write a Python program to verify that all values in a dictionary are the same.\n",
        "Original Dictionary:\n",
        "{'Cierra Vega': 12, 'Alden Cantrell': 12, 'Kierra Gentry': 12, 'Pierre Cox': 12}\n",
        "Check all are 12 in the dictionary.\n",
        "True\n",
        "Check all are 10 in the dictionary.\n",
        "False\n",
        "\n",
        "\n",
        "46. Write a Python program to create a dictionary grouping a sequence of key-value pairs into a dictionary of lists.\n",
        "Original list:\n",
        "[('yellow', 1), ('blue', 2), ('yellow', 3), ('blue', 4), ('red', 1)]\n",
        "Grouping a sequence of key-value pairs into a dictionary of lists:\n",
        "{'yellow': [1, 3], 'blue': [2, 4], 'red': [1]}\n",
        "\n",
        "\n",
        "\n",
        "\n",
        "48. Write a Python program to remove a specified dictionary from a given list.\n",
        "Original list of dictionary:\n",
        "[{'id': '#FF0000', 'color': 'Red'}, {'id': '#800000', 'color': 'Maroon'}, {'id': '#FFFF00', 'color': 'Yellow'}, {'id': '#808000', 'color': 'Olive'}]\n",
        "Remove id #FF0000 from the said list of dictionary:\n",
        "[{'id': '#800000', 'color': 'Maroon'}, {'id': '#FFFF00', 'color': 'Yellow'}, {'id': '#808000', 'color': 'Olive'}]\n",
        "\n",
        "\n",
        "49. Write a Python program to convert string values of a given dictionary into integer/float datatypes.\n",
        "Original list:\n",
        "[{'x': '10', 'y': '20', 'z': '30'}, {'p': '40', 'q': '50', 'r': '60'}]\n",
        "String values of a given dictionary, into integer types:\n",
        "[{'x': 10, 'y': 20, 'z': 30}, {'p': 40, 'q': 50, 'r': 60}]\n",
        "Original list:\n",
        "[{'x': '10.12', 'y': '20.23', 'z': '30'}, {'p': '40.00', 'q': '50.19', 'r': '60.99'}]\n",
        "String values of a given dictionary, into float types:\n",
        "[{'x': 10.12, 'y': 20.23, 'z': 30.0}, {'p': 40.0, 'q': 50.19, 'r': 60.99}]\n",
        "\n",
        "\n",
        "50. A Python dictionary contains List as a value. Write a Python program to clear the list values in the said dictionary.\n",
        "Original Dictionary:\n",
        "{'C1': [10, 20, 30], 'C2': [20, 30, 40], 'C3': [12, 34]}\n",
        "Clear the list values in the said dictionary:\n",
        "{'C1': [], 'C2': [], 'C3': []}\n",
        "\n",
        "\n",
        "\n",
        "53. Write a Python program to find the length of a dictionary of values.\n",
        "Original Dictionary:\n",
        "{1: 'red', 2: 'green', 3: 'black', 4: 'white', 5: 'black'}\n",
        "Length of dictionary values:\n",
        "{'red': 3, 'green': 5, 'black': 5, 'white': 5}\n",
        "Original Dictionary:\n",
        "{'1': 'Austin Little', '2': 'Natasha Howard', '3': 'Alfred Mullins', '4': 'Jamie Rowe'}\n",
        "Length of dictionary values:\n",
        "{'Austin Little': 13, 'Natasha Howard': 14, 'Alfred Mullins': 14, 'Jamie Rowe': 10}\n",
        "\n",
        "\n",
        "54. Write a Python program to get the depth of a dictionary.\n",
        "E. i/p {'a':1, 'b': {'c': {'d': {}}}}\n",
        "Expected Output:\n",
        "4\n",
        "Hint: One option is to use recurssive function or queue\n",
        "Ref : https://stackoverflow.com/questions/23499017/know-the-depth-of-a-dictionary\n",
        "\n",
        "\n",
        "\n",
        "\n",
        "70. Write a Python program to map the values of a given list to a dictionary using a function, where the key-value pairs consist of the original value as the key and the result of the function as the value.\n",
        "Sample Output:\n",
        "{1: 1, 2: 4, 3: 9, 4: 16}\n",
        "\n",
        "\n",
        "71. NOT Clear Question\n",
        "\n",
        "Write a Python program to retrieve the value of the nested key indicated by the given selector list from a dictionary or list.\n",
        "Sample Output:\n",
        "Russell\n",
        "2"
      ],
      "metadata": {
        "id": "UE8_A2ABGch2"
      }
    },
    {
      "cell_type": "markdown",
      "source": [
        "42. Write a Python program to filter a dictionary based on values.\n",
        "Original Dictionary:\n",
        "{'Cierra Vega': 175, 'Alden Cantrell': 180, 'Kierra Gentry': 165, 'Pierre Cox': 190}\n",
        "Marks greater than 170:\n",
        "{'Cierra Vega': 175, 'Alden Cantrell': 180, 'Pierre Cox': 190}"
      ],
      "metadata": {
        "id": "MVa-TDYn3CxI"
      }
    },
    {
      "cell_type": "code",
      "source": [
        "ori = {'Cierra Vega': 175, 'Alden Cantrell': 180, 'Kierra Gentry': 165, 'Pierre Cox': 190}\n",
        "d = {k:v for (k,v) in ori.items() if v > 170}\n",
        "d"
      ],
      "metadata": {
        "colab": {
          "base_uri": "https://localhost:8080/"
        },
        "id": "tnnh89O3CV74",
        "outputId": "43b26115-85a6-4491-daad-a709727f8529"
      },
      "execution_count": null,
      "outputs": [
        {
          "output_type": "execute_result",
          "data": {
            "text/plain": [
              "{'Cierra Vega': 175, 'Alden Cantrell': 180, 'Pierre Cox': 190}"
            ]
          },
          "metadata": {},
          "execution_count": 151
        }
      ]
    },
    {
      "cell_type": "markdown",
      "source": [],
      "metadata": {
        "id": "diUsV6JNI8Yv"
      }
    },
    {
      "cell_type": "markdown",
      "source": [
        "51. A Python Dictionary contains List as a value. Write a Python program to update the list values in the said dictionary.\n",
        "Original Dictionary:\n",
        "{'Math': [88, 89, 90], 'Physics': [92, 94, 89], 'Chemistry': [90, 87, 93]}\n",
        "Update the list values of the said dictionary:\n",
        "{'Math': [89, 90, 91], 'Physics': [90, 92, 87], 'Chemistry': [90, 87, 93]}"
      ],
      "metadata": {
        "id": "4fvx2nBj9hhu"
      }
    },
    {
      "cell_type": "code",
      "source": [
        "dic = {'Math': [88, 89, 90], 'Physics': [92, 94, 89], 'Chemistry': [90, 87, 93]}\n",
        "l=[]\n",
        "for k,v in dic.items():\n",
        "  if k == \"Math\":\n",
        "    for x in range(len(v)):\n",
        "        v[x] = v[x] + 1\n",
        "print(dic)\n"
      ],
      "metadata": {
        "colab": {
          "base_uri": "https://localhost:8080/"
        },
        "id": "CgSj0tCz9mYe",
        "outputId": "d9e88faf-fbb8-4940-f402-f492d454b402"
      },
      "execution_count": null,
      "outputs": [
        {
          "output_type": "stream",
          "name": "stdout",
          "text": [
            "{'Math': [89, 90, 91], 'Physics': [92, 94, 89], 'Chemistry': [90, 87, 93]}\n"
          ]
        }
      ]
    },
    {
      "cell_type": "markdown",
      "source": [
        "47. Write a Python program to split a given dictionary of lists into lists of dictionaries.\n",
        "Original dictionary of lists:\n",
        "{'Science': [88, 89, 62, 95], 'Language': [77, 78, 84, 80]}\n",
        "Split said dictionary of lists into list of dictionaries:\n",
        "[{'Science': 88, 'Language': 77}, {'Science': 89, 'Language': 78}, {'Science': 62, 'Language': 84}, {'Science': 95, 'Language': 80}]\n"
      ],
      "metadata": {
        "id": "BuBiuoQEI9W_"
      }
    },
    {
      "cell_type": "code",
      "source": [
        "ori = {'Science': [88, 89, 62, 95], 'Language': [77, 78, 84, 80]}\n",
        "\n",
        "for k,v in ori.items():\n",
        "  if k == 'Science':\n",
        "    science = v\n",
        "  else:\n",
        "    language = v\n",
        "science\n",
        "l = []\n",
        "for i in range(len(science)):\n",
        "  l.append({\"Science\":science[i],\"Language\":language[i]})\n",
        "l"
      ],
      "metadata": {
        "colab": {
          "base_uri": "https://localhost:8080/"
        },
        "id": "ZopK4rjNJBiG",
        "outputId": "2d193682-eb29-445e-c155-39c3b488149e"
      },
      "execution_count": null,
      "outputs": [
        {
          "output_type": "execute_result",
          "data": {
            "text/plain": [
              "[{'Science': 88, 'Language': 77},\n",
              " {'Science': 89, 'Language': 78},\n",
              " {'Science': 62, 'Language': 84},\n",
              " {'Science': 95, 'Language': 80}]"
            ]
          },
          "metadata": {},
          "execution_count": 171
        }
      ]
    },
    {
      "cell_type": "markdown",
      "source": [
        "52. Write a Python program to extract a list of values from a given list of dictionaries.\n",
        "Original Dictionary:\n",
        "[{'Math': 90, 'Science': 92}, {'Math': 89, 'Science': 94}, {'Math': 92, 'Science': 88}]\n",
        "Extract a list of values from said list of dictionaries where subject = Science\n",
        "[92, 94, 88]\n",
        "Original Dictionary:\n",
        "[{'Math': 90, 'Science': 92}, {'Math': 89, 'Science': 94}, {'Math': 92, 'Science': 88}]\n",
        "Extract a list of values from said list of dictionaries where subject = Math\n",
        "[90, 89, 92]"
      ],
      "metadata": {
        "id": "nMazvPVp9k4h"
      }
    },
    {
      "cell_type": "code",
      "source": [
        "l1 = [{'Math': 90, 'Science': 92}, {'Math': 89, 'Science': 94}, {'Math': 92, 'Science': 88}]\n",
        "math =[]\n",
        "science = []\n",
        "for x in l1:\n",
        "  m = [v for (k,v) in x.items() if k== \"Math\"]\n",
        "  math.append(m[0])\n",
        "  s = [v for (k,v) in x.items() if k== \"Science\"]\n",
        "  science.append(s[0])\n",
        "print(math)\n",
        "print(science)"
      ],
      "metadata": {
        "colab": {
          "base_uri": "https://localhost:8080/"
        },
        "id": "_HFgu5AKCQuf",
        "outputId": "d3134118-98f9-48d2-899d-72d0257adbab"
      },
      "execution_count": null,
      "outputs": [
        {
          "output_type": "stream",
          "name": "stdout",
          "text": [
            "[90, 89, 92]\n",
            "[92, 94, 88]\n"
          ]
        }
      ]
    },
    {
      "cell_type": "markdown",
      "source": [
        "55. Write a Python program to access dictionary key's element by index.\n",
        "Ex. {'physics': 80, 'math': 90, 'chemistry': 86}\n",
        "\n",
        "Expected Output:\n",
        "index value\n",
        "0 80\n",
        "1 90\n",
        "2 86\n",
        "\n",
        "\n",
        "56. Write a Python program to convert a dictionary into a list of lists.\n",
        "Original Dictionary:\n",
        "{1: 'red', 2: 'green', 3: 'black', 4: 'white', 5: 'black'}\n",
        "Convert the said dictionary into a list of lists:\n",
        "[[1, 'red'], [2, 'green'], [3, 'black'], [4, 'white'], [5, 'black']]\n",
        "Original Dictionary:\n",
        "{'1': 'Austin Little', '2': 'Natasha Howard', '3': 'Alfred Mullins', '4': 'Jamie Rowe'}\n",
        "Convert the said dictionary into a list of lists:\n",
        "[['1', 'Austin Little'], ['2', 'Natasha Howard'], ['3', 'Alfred Mullins'], ['4', 'Jamie Rowe']]\n",
        "\n",
        "\n",
        "58. Write a Python program to get list of dictionaries. Each dictionary should have 2 element combinations of key-value pairs in a given dictionary.\n",
        "Original Dictionary:\n",
        "{'V': [1, 4, 6, 10], 'VI': [1, 4, 12], 'VII': [1, 3, 8]}\n",
        "Combinations of key-value pairs of the said dictionary:\n",
        "[{'V': [1, 4, 6, 10], 'VI': [1, 4, 12]}, {'V': [1, 4, 6, 10], 'VII': [1, 3, 8]}, {'VI': [1, 4, 12], 'VII': [1, 3, 8]}]\n",
        "Original Dictionary:\n",
        "{'V': [1, 3, 5], 'VI': [1, 5]}\n",
        "Combinations of key-value pairs of the said dictionary:\n",
        "[{'V': [1, 3, 5], 'VI': [1, 5]}]\n"
      ],
      "metadata": {
        "id": "IWKnkSyTHEBj"
      }
    },
    {
      "cell_type": "markdown",
      "source": [
        "\n",
        "57. Write a Python program to filter even numbers from a dictionary of values.\n",
        "Original Dictionary:\n",
        "{'V': [1, 4, 6, 10], 'VI': [1, 4, 12], 'VII': [1, 3, 8]}\n",
        "Filter even numbers from said dictionary values:\n",
        "{'V': [4, 6, 10], 'VI': [4, 12], 'VII': [8]}\n",
        "Original Dictionary:\n",
        "{'V': [1, 3, 5], 'VI': [1, 5], 'VII': [2, 7, 9]}\n",
        "Filter even numbers from said dictionary values:\n",
        "{'V': [], 'VI': [], 'VII': [2]}"
      ],
      "metadata": {
        "id": "ySTMZS0BHSDD"
      }
    },
    {
      "cell_type": "code",
      "source": [
        "ori = {'V': [1, 4, 6, 10], 'VI': [1, 4, 12], 'VII': [1, 3, 8]}\n",
        "for k,v in ori.items():\n",
        "  for x in v:\n",
        "    if x%2 != 0:\n",
        "      v.remove(x)\n",
        "\n",
        "for k,v in ori.items():\n",
        "  v.clear()\n",
        "ori"
      ],
      "metadata": {
        "colab": {
          "base_uri": "https://localhost:8080/"
        },
        "id": "2Do_xAQAHUY9",
        "outputId": "c1a10dac-d5a5-4e3b-960d-6b5e10145916"
      },
      "execution_count": null,
      "outputs": [
        {
          "output_type": "execute_result",
          "data": {
            "text/plain": [
              "{'V': [], 'VI': [], 'VII': []}"
            ]
          },
          "metadata": {},
          "execution_count": 166
        }
      ]
    },
    {
      "cell_type": "markdown",
      "source": [],
      "metadata": {
        "id": "x3W_26vPHD-q"
      }
    },
    {
      "cell_type": "markdown",
      "source": [
        "\n",
        "59. Write a Python program to find the specified number of maximum values' in a given dictionary.\n",
        "Original Dictionary:\n",
        "{'a': 5, 'b': 14, 'c': 32, 'd': 35, 'e': 24, 'f': 100, 'g': 57, 'h': 8, 'i': 100}\n",
        "1 maximum value(s) in the said dictionary:\n",
        "['f']\n",
        "2 maximum value(s) in the said dictionary:\n",
        "['f', 'i']\n",
        "5 maximum value(s) in the said dictionary:\n",
        "['f', 'i', 'g', 'd', 'c']"
      ],
      "metadata": {
        "id": "C4RA_9fA5OUb"
      }
    },
    {
      "cell_type": "code",
      "source": [
        "d = {'a': 5, 'b': 14, 'c': 32, 'd': 35, 'e': 24, 'f': 100, 'g': 57, 'h': 8, 'i': 100}\n",
        "so = dict(sorted(d.items(),key=lambda d:d[1],reverse=True))\n",
        "n =1\n",
        "l=list(so.keys())\n",
        "print([l[0],])\n",
        "print([x for x in l[0:2]])\n",
        "print([x for x in l[:5]])"
      ],
      "metadata": {
        "colab": {
          "base_uri": "https://localhost:8080/"
        },
        "id": "nXdlvmpk5QMK",
        "outputId": "fa5cbd99-49f9-4c49-add1-e82a330b6bfb"
      },
      "execution_count": null,
      "outputs": [
        {
          "output_type": "stream",
          "name": "stdout",
          "text": [
            "['f']\n",
            "['f', 'i']\n",
            "['f', 'i', 'g', 'd', 'c']\n"
          ]
        }
      ]
    },
    {
      "cell_type": "markdown",
      "source": [
        "60. Write a Python program to find the shortest list of values for the keys in a given dictionary.\n",
        "Original Dictionary: {'V': [10, 12], 'VI': [10], 'VII': [10, 20, 30, 40], 'VIII': [20], 'IX': [10, 30, 50, 70], 'X': [80]}\n",
        "Shortest list of values with the keys of the said dictionary: ['VI', 'VIII', 'X']\n"
      ],
      "metadata": {
        "id": "VuWawWoV3zac"
      }
    },
    {
      "cell_type": "code",
      "source": [
        "ori = {'V': [10, 12], 'VI': [10], 'VII': [10, 20, 30, 40], 'VIII': [20], 'IX': [10, 30, 50, 70], 'X': [80]}\n",
        "l = list(ori.values())\n",
        "c =[]\n",
        "out =[]\n",
        "for i in l:\n",
        "  c.append(len(i))\n",
        "c.sort()\n",
        "m=c[0]\n",
        "for k,v in ori.items():\n",
        "  if len(v) == m:\n",
        "    out.append(k)\n",
        "print(out)\n"
      ],
      "metadata": {
        "colab": {
          "base_uri": "https://localhost:8080/"
        },
        "id": "GjYPE5tX30z2",
        "outputId": "b573f580-45fe-468a-d406-fbd00777b176"
      },
      "execution_count": null,
      "outputs": [
        {
          "output_type": "stream",
          "name": "stdout",
          "text": [
            "['VI', 'VIII', 'X']\n"
          ]
        }
      ]
    },
    {
      "cell_type": "markdown",
      "source": [
        "\n",
        "61. Write a Python program to count the frequency of every value inside dictionary.\n",
        "Original Dictionary:\n",
        "{'V': 10, 'VI': 10, 'VII': 40, 'VIII': 20, 'IX': 70, 'X': 80, 'XI': 40, 'XII': 20}\n",
        "Count the frequency of the said dictionary:\n",
        "Counter({10: 2, 40: 2, 20: 2, 70: 1, 80: 1})\n",
        "\n",
        "\n",
        "63. Write a Python program to convert a given list of lists to a dictionary.\n",
        "Original list of lists:\n",
        "[[1, 'Jean Castro', 'V'], [2, 'Lula Powell', 'V'], [3, 'Brian Howell', 'VI'], [4, 'Lynne Foster', 'VI'], [5, 'Zachary Simon', 'VII']]\n",
        "Convert the said list of lists to a dictionary:\n",
        "{1: ['Jean Castro', 'V'], 2: ['Lula Powell', 'V'], 3: ['Brian Howell', 'VI'], 4: ['Lynne Foster', 'VI'], 5: ['Zachary Simon', 'VII']}\n",
        "\n",
        "\n",
        "64. Write a Python program that creates key-value list pairings within a dictionary.\n",
        "Original dictionary:\n",
        "{1: ['Jean Castro'], 2: ['Lula Powell'], 3: ['Brian Howell'], 4: ['Lynne Foster'], 5: ['Zachary Simon']}\n",
        "A key-value list pairings of the said dictionary:\n",
        "[{1: 'Jean Castro', 2: 'Lula Powell', 3: 'Brian Howell', 4: 'Lynne Foster', 5: 'Zachary Simon'}]\n",
        "\n",
        "\n",
        "65. Write a Python program to get the total length of all values in a given dictionary with string values.\n",
        "Original dictionary:\n",
        "{'#FF0000': 'Red', '#800000': 'Maroon', '#FFFF00': 'Yellow', '#808000': 'Olive'}\n",
        "Total length of all values of the said dictionary with string values:\n",
        "20\n",
        "\n",
        "\n",
        "\n",
        "\n",
        "\n",
        "67. Write a Python program to invert a given dictionary with non-unique hashable values.\n",
        "Sample Output:\n",
        "{8: ['Ora Mckinney', 'Mathew Gilbert'], 7: ['Theodore Hollandl', 'Mae Fleming', 'Ivan Little']}\n",
        "\n"
      ],
      "metadata": {
        "id": "GBd6PJ66x5g8"
      }
    },
    {
      "cell_type": "markdown",
      "source": [
        "62. Write a Python program to extract values from a given dictionary and create a list of lists from those values.\n",
        "Original Dictionary:\n",
        "[{'student_id': 1, 'name': 'Jean Castro', 'class': 'V'}, {'student_id': 2, 'name': 'Lula Powell', 'class': 'V'}, {'student_id': 3, 'name': 'Brian Howell', 'class': 'VI'}, {'student_id': 4, 'name': 'Lynne Foster', 'class': 'VI'}, {'student_id': 5, 'name': 'Zachary Simon', 'class': 'VII'}]\n",
        "Extract values from the said dictionarie and create a list of lists using those values:\n",
        "[[1, 'Jean Castro', 'V'], [2, 'Lula Powell', 'V'], [3, 'Brian Howell', 'VI'], [4, 'Lynne Foster', 'VI'], [5, 'Zachary Simon', 'VII']]\n",
        "[[1, 'Jean Castro'], [2, 'Lula Powell'], [3, 'Brian Howell'], [4, 'Lynne Foster'], [5, 'Zachary Simon']]\n",
        "[['Jean Castro', 'V'], ['Lula Powell', 'V'], ['Brian Howell', 'VI'], ['Lynne Foster', 'VI'], ['Zachary Simon', 'VII']]"
      ],
      "metadata": {
        "id": "eW3NL2yn0fMf"
      }
    },
    {
      "cell_type": "code",
      "source": [
        "ori = [{'student_id': 1, 'name': 'Jean Castro', 'class': 'V'}, {'student_id': 2, 'name': 'Lula Powell', 'class': 'V'}, {'student_id': 3, 'name': 'Brian Howell', 'class': 'VI'}, {'student_id': 4, 'name': 'Lynne Foster', 'class': 'VI'}, {'student_id': 5, 'name': 'Zachary Simon', 'class': 'VII'}]\n",
        "lr = []\n",
        "lr2 = []\n",
        "for x in ori:\n",
        "  lr.append(list(x.values()))\n",
        "print(lr)\n",
        "for x in ori:\n",
        "  m=list(x.values())\n",
        "  sub_list = [m[0],m[1]]\n",
        "  lr2.append(sub_list)\n",
        "print(lr2)\n",
        "\n"
      ],
      "metadata": {
        "colab": {
          "base_uri": "https://localhost:8080/"
        },
        "id": "Lk4knbnQ0gRz",
        "outputId": "3605a8d0-3bd0-4ed6-954b-a76aa88c2b2f"
      },
      "execution_count": null,
      "outputs": [
        {
          "output_type": "stream",
          "name": "stdout",
          "text": [
            "[[1, 'Jean Castro', 'V'], [2, 'Lula Powell', 'V'], [3, 'Brian Howell', 'VI'], [4, 'Lynne Foster', 'VI'], [5, 'Zachary Simon', 'VII']]\n",
            "[[1, 'Jean Castro'], [2, 'Lula Powell'], [3, 'Brian Howell'], [4, 'Lynne Foster'], [5, 'Zachary Simon']]\n"
          ]
        }
      ]
    },
    {
      "cell_type": "markdown",
      "source": [
        "66. Write a Python program to check if a specific key and a value exist in list of dictionaries.\n",
        "Original dictionary:\n",
        "[{'student_id': 1, 'name': 'Jean Castro', 'class': 'V'},\n",
        "{'student_id': 2, 'name': 'Lula Powell', 'class': 'V'},\n",
        "{'student_id': 3, 'name': 'Brian Howell', 'class': 'VI'},\n",
        "{'student_id': 4, 'name': 'Lynne Foster', 'class': 'VI'},\n",
        "{'student_id': 5, 'name': 'Zachary Simon', 'class': 'VII'}]\n",
        "Check if a specific Key and a value exist in the said dictionary:\n",
        "print(test(students,'student_id', 1))\n",
        "print(test(students,'name', 'Brian Howell'))\n",
        "print(test(students,'class', 'VII'))\n",
        "print(test(students,'class', 'I'))\n",
        "print(test(students,'name', 'Brian Howelll'))\n",
        "print(test(students,'student_id', 11))\n",
        "O/p\n",
        "True\n",
        "True\n",
        "True\n",
        "False\n",
        "False\n",
        "False"
      ],
      "metadata": {
        "id": "Chnr7R6m0B-l"
      }
    },
    {
      "cell_type": "code",
      "source": [
        "test= [{'student_id': 1, 'name': 'Jean Castro', 'class': 'V'}, {'student_id': 2, 'name': 'Lula Powell', 'class': 'V'}, {'student_id': 3, 'name': 'Brian Howell', 'class': 'VI'}, {'student_id': 4, 'name': 'Lynne Foster', 'class': 'VI'}, {'student_id': 5, 'name': 'Zachary Simon', 'class': 'VII'}]\n",
        "print(test(students,'student_id', 1))\n",
        "print(test(students,'name', 'Brian Howell'))\n",
        "print(test(students,'class', 'VII'))\n",
        "print(test(students,'class', 'I'))\n",
        "print(test(students,'name', 'Brian Howelll'))\n",
        "print(test(students,'student_id', 11))\n",
        "for x in ori:\n",
        "  print(('student_id', 1) in x.items())\n"
      ],
      "metadata": {
        "colab": {
          "base_uri": "https://localhost:8080/"
        },
        "id": "n5nWqADQ0EGd",
        "outputId": "96c7073c-5d6e-4cff-b62e-8a48ce84a934"
      },
      "execution_count": null,
      "outputs": [
        {
          "output_type": "stream",
          "name": "stdout",
          "text": [
            "True\n",
            "False\n",
            "False\n",
            "False\n",
            "False\n"
          ]
        }
      ]
    },
    {
      "cell_type": "markdown",
      "source": [
        "\n",
        "68. Write a Python program to combine two or more dictionaries, creating a list of values for each key.\n",
        "Sample Output:\n",
        "Original dictionaries:\n",
        "{'w': 50, 'x': 100, 'y': 'Green', 'z': 400}\n",
        "{'x': 300, 'y': 'Red', 'z': 600}\n",
        "Combined dictionaries, creating a list of values for each key:\n",
        "{'w': [50], 'x': [100, 300], 'y': ['Green', 'Red'], 'z': [400, 600]}"
      ],
      "metadata": {
        "id": "nCADJP3nx8-b"
      }
    },
    {
      "cell_type": "code",
      "source": [
        "d1 = {'w': 50, 'x': 100, 'y': 'Green', 'z': 400}\n",
        "d2 = {'x': 300, 'y': 'Red', 'z': 600}\n",
        "d = {}\n",
        "for k,v in d1.items():\n",
        "  d[k] = [v,]\n",
        "for k,v in d2.items():\n",
        "  if k not in d.keys():\n",
        "    d[k] = [v,]\n",
        "  else:\n",
        "    d[k].append(v)\n",
        "print(d)\n"
      ],
      "metadata": {
        "colab": {
          "base_uri": "https://localhost:8080/"
        },
        "id": "SROVXy2px9qS",
        "outputId": "a234043f-8ba3-4248-a39e-b823caf3e618"
      },
      "execution_count": null,
      "outputs": [
        {
          "output_type": "stream",
          "name": "stdout",
          "text": [
            "{'w': [50], 'x': [100, 300], 'y': ['Green', 'Red'], 'z': [400, 600]}\n"
          ]
        }
      ]
    },
    {
      "cell_type": "markdown",
      "source": [
        "\n",
        "69. Write a Python program to group the elements of a given list based on the given function.\n",
        "Sample Output:\n",
        "Original list & function:\n",
        "[7, 23, 3.2, 3.3, 8.4]\n",
        "Function name: floor:\n",
        "Group the elements of the said list based on the given function:\n",
        "{7: [7], 23: [23], 3: [3.2, 3.3], 8: [8.4]}\n",
        "Original list & function:\n",
        "['Red', 'Green', 'Black', 'White', 'Pink']\n",
        "Function name: len:\n",
        "Group the elements of the said list based on the given function:\n",
        "{3: ['Red'], 5: ['Green', 'Black', 'White'], 4: ['Pink']}"
      ],
      "metadata": {
        "id": "Zh5Uj1Mik6Pi"
      }
    },
    {
      "cell_type": "code",
      "source": [
        "import math\n",
        "l = [7, 23, 3.2, 3.3, 8.4]\n",
        "d = {}\n",
        "l2 =[]\n",
        "for i in l:\n",
        "  #print(i)\n",
        "  m= math.floor(i)\n",
        "  if m not in d.keys():\n",
        "    d[m]=[i,]\n",
        "  else:\n",
        "    d[m].append(i)\n",
        "print(d)\n",
        "\n",
        "new = ['Red', 'Green', 'Black', 'White', 'Pink']\n",
        "o ={}\n",
        "for i in new:\n",
        "  l=len(i)\n",
        "  o[l] = [i,]\n",
        "o\n"
      ],
      "metadata": {
        "colab": {
          "base_uri": "https://localhost:8080/"
        },
        "id": "cqi1GygslFD2",
        "outputId": "48aeec78-751c-400d-ac8d-672ed495918b"
      },
      "execution_count": null,
      "outputs": [
        {
          "output_type": "stream",
          "name": "stdout",
          "text": [
            "{7: [7], 23: [23], 3: [3.2, 3.3], 8: [8.4]}\n"
          ]
        },
        {
          "output_type": "execute_result",
          "data": {
            "text/plain": [
              "{3: ['Red'], 5: ['White'], 4: ['Pink']}"
            ]
          },
          "metadata": {},
          "execution_count": 109
        }
      ]
    },
    {
      "cell_type": "markdown",
      "source": [
        "\n",
        "72. Write a Python program to invert a dictionary with unique hashable values.\n",
        "Ex. {\n",
        "  'Theodore': 10,\n",
        "  'Mathew': 11,\n",
        "  'Roxanne': 9,\n",
        "}\n",
        "Sample Output:\n",
        "{10: 'Theodore', 11: 'Mathew', 9: 'Roxanne'}\n"
      ],
      "metadata": {
        "id": "dT4rVa_TYJS7"
      }
    },
    {
      "cell_type": "code",
      "source": [
        "d =  { 'Theodore': 10, 'Mathew': 11, 'Roxanne': 9 }\n",
        "i = {}\n",
        "for k,v in d.items():\n",
        "  i[v]=k\n",
        "i"
      ],
      "metadata": {
        "colab": {
          "base_uri": "https://localhost:8080/"
        },
        "id": "pvOfE4lpxGbk",
        "outputId": "836b6abd-3a32-4057-c3cc-accc19fb6a73"
      },
      "execution_count": null,
      "outputs": [
        {
          "output_type": "execute_result",
          "data": {
            "text/plain": [
              "{10: 'Theodore', 11: 'Mathew', 9: 'Roxanne'}"
            ]
          },
          "metadata": {},
          "execution_count": 110
        }
      ]
    },
    {
      "cell_type": "markdown",
      "source": [
        "73. Write a Python program to convert a list of dictionaries into a list of values corresponding to the specified key.\n",
        "Sample Output:\n",
        "Original list of dictionaries:\n",
        "[{'name': 'Theodore', 'age': 18}, {'name': 'Mathew', 'age': 22}, {'name': 'Roxanne', 'age': 20}, {'name': 'David', 'age': 18}]\n",
        "Convert a list of dictionaries into a list of values corresponding to the specified key: age\n",
        "[18, 22, 20, 18]\n",
        "Convert a list of dictionaries into a list of values corresponding to the specified key: name\n",
        "['Theodore', 'Mathew', 'Roxanne', 'David']\n"
      ],
      "metadata": {
        "id": "9Rrmg5lxWmzU"
      }
    },
    {
      "cell_type": "code",
      "source": [
        "d = [{'name': 'Theodore', 'age': 18}, {'name': 'Mathew', 'age': 22}, {'name': 'Roxanne', 'age': 20}, {'name': 'David', 'age': 18}]\n",
        "l1 = []\n",
        "l2 = []\n",
        "for x in ld:\n",
        "  for value in x.values():\n",
        "    if type(value) == int:\n",
        "      l1.append(value)\n",
        "    else:\n",
        "      l2.append(value)\n",
        "print(l1)\n",
        "print(l2)"
      ],
      "metadata": {
        "colab": {
          "base_uri": "https://localhost:8080/"
        },
        "id": "JWTjMPr-ZCIS",
        "outputId": "00842b3d-5edf-433c-b944-f5557a1e80f6"
      },
      "execution_count": null,
      "outputs": [
        {
          "output_type": "stream",
          "name": "stdout",
          "text": [
            "[18, 22, 20, 18]\n",
            "['Theodore', 'Mathew', 'Roxanne', 'David']\n"
          ]
        }
      ]
    },
    {
      "cell_type": "markdown",
      "source": [
        "\n",
        "74. Write a Python program to create a dictionary with the same keys as the given dictionary and values generated by running the given function for each value.\n",
        "Sample Output:\n",
        "Original dictionary elements:\n",
        "{'Theodore': {'user': 'Theodore', 'age': 45}, 'Roxanne': {'user': 'Roxanne', 'age': 15}, 'Mathew': {'user': 'Mathew', 'age': 21}}\n",
        "Dictionary with the same keys and function : lambda x : x['age']\n",
        "{'Theodore': 45, 'Roxanne': 15, 'Mathew': 21}\n",
        "Dictionary with the same keys and function : lambda x : len(x)\n",
        "{'Theodore': 2, 'Roxanne': 2, 'Mathew': 2}"
      ],
      "metadata": {
        "id": "GdiMakqqWpgQ"
      }
    },
    {
      "cell_type": "code",
      "source": [
        "d = {'Theodore': {'user': 'Theodore', 'age': 45}, 'Roxanne': {'user': 'Roxanne', 'age': 15}, 'Mathew': {'user': 'Mathew', 'age': 21}}\n",
        "d1 ={}\n",
        "for x in d:\n",
        "  v = list(d[x].values())\n",
        "  d1[v[0]]=v[1]\n",
        "d1\n",
        "d2 = {k:len(str(v)) for (k,v) in d1.items()}\n",
        "d2\n",
        "\n",
        "\n",
        "\n"
      ],
      "metadata": {
        "colab": {
          "base_uri": "https://localhost:8080/"
        },
        "id": "9JAgK5_2Wslp",
        "outputId": "7a908664-5116-4e6f-bf5c-b9cb3d2a5ec7"
      },
      "execution_count": null,
      "outputs": [
        {
          "output_type": "execute_result",
          "data": {
            "text/plain": [
              "{'Theodore': 2, 'Roxanne': 2, 'Mathew': 2}"
            ]
          },
          "metadata": {},
          "execution_count": 83
        }
      ]
    },
    {
      "cell_type": "markdown",
      "source": [
        "\n",
        "75. Write a Python program to find all keys in a dictionary that have the given value.\n",
        "Sample Output:\n",
        "Original dictionary elements:\n",
        "{'Theodore': 19, 'Roxanne': 20, 'Mathew': 21, 'Betty': 20}\n",
        "Find all keys in the said dictionary that have the specified value: 20\n",
        "['Roxanne', 'Betty']\n",
        "\n"
      ],
      "metadata": {
        "id": "uagHoQDJYRvH"
      }
    },
    {
      "cell_type": "code",
      "source": [
        "d = {'Theodore': 19, 'Roxanne': 20, 'Mathew': 21, 'Betty': 20}\n",
        "l1 = []\n",
        "for k,v in d.items():\n",
        "  if v == 20:\n",
        "    l1.append(k)\n",
        "l1\n"
      ],
      "metadata": {
        "colab": {
          "base_uri": "https://localhost:8080/"
        },
        "id": "3aNQgyBHYUaT",
        "outputId": "4dee8cf3-715c-41e0-9d11-633d607c3793"
      },
      "execution_count": null,
      "outputs": [
        {
          "output_type": "execute_result",
          "data": {
            "text/plain": [
              "['Roxanne', 'Betty']"
            ]
          },
          "metadata": {},
          "execution_count": 51
        }
      ]
    },
    {
      "cell_type": "markdown",
      "source": [
        "\n",
        "76. Write a Python program to combine two lists into a dictionary.\n",
        "The elements of the first one serve as keys and the elements of the second one serve as values.\n",
        "Each item in the first list must be unique and hashable.\n",
        "Sample Output:\n",
        "Original lists:\n",
        "['a', 'b', 'c', 'd', 'e', 'f']\n",
        "[1, 2, 3, 4, 5]\n",
        "Combine the values of the said two lists into a dictionary:\n",
        "{'a': 1, 'b': 2, 'c': 3, 'd': 4, 'e': 5}\n"
      ],
      "metadata": {
        "id": "1farWBZrVO46"
      }
    },
    {
      "cell_type": "code",
      "source": [],
      "metadata": {
        "id": "iwme2CZ_YTVK"
      },
      "execution_count": null,
      "outputs": []
    },
    {
      "cell_type": "code",
      "source": [
        "k = ['a', 'b', 'c', 'd', 'e', 'f']\n",
        "v =  [1, 2, 3, 4, 5]\n",
        "d={}\n",
        "for key in k:\n",
        "  for value in v:\n",
        "    d[key] = value\n",
        "    v.remove(value)\n",
        "    break"
      ],
      "metadata": {
        "id": "FmF3zXCmVOQN"
      },
      "execution_count": null,
      "outputs": []
    },
    {
      "cell_type": "code",
      "source": [
        "d"
      ],
      "metadata": {
        "colab": {
          "base_uri": "https://localhost:8080/"
        },
        "id": "lnPjCGKvWDa8",
        "outputId": "dec9f66d-6c96-485d-f7ef-6d68521a1f2a"
      },
      "execution_count": null,
      "outputs": [
        {
          "output_type": "execute_result",
          "data": {
            "text/plain": [
              "{'a': 1, 'b': 2, 'c': 3, 'd': 4, 'e': 5}"
            ]
          },
          "metadata": {},
          "execution_count": 48
        }
      ]
    },
    {
      "cell_type": "markdown",
      "source": [
        "\n",
        "77. Write a Python program to transform a dictionary into a list of tuples.\n",
        "Sample Output:\n",
        "Original Dictionary:\n",
        "{'Red': 1, 'Green': 3, 'White': 5, 'Black': 2, 'Pink': 4}\n",
        "Convert the said dictionary to a list of tuples:\n",
        "[('Red', 1), ('Green', 3), ('White', 5), ('Black', 2), ('Pink', 4)]"
      ],
      "metadata": {
        "id": "UQF67hqjX_jL"
      }
    },
    {
      "cell_type": "markdown",
      "source": [
        "\n",
        "78. Write a Python program to create a flat list of all the keys in a flat dictionary.\n",
        "Sample Output:\n",
        "Original dictionary elements:\n",
        "{'Theodore': 19, 'Roxanne': 20, 'Mathew': 21, 'Betty': 20}\n",
        "Create a flat list of all the keys of the said flat dictionary:\n",
        "['Theodore', 'Roxanne', 'Mathew', 'Betty']\n",
        "\n",
        "\n",
        "79. Write a Python program to create a flat list of all the values in a flat dictionary.\n",
        "Sample Output:\n",
        "Original dictionary elements:\n",
        "{'Theodore': 19, 'Roxanne': 20, 'Mathew': 21, 'Betty': 20}\n",
        "Create a flat list of all the values of the said flat dictionary:\n",
        "[19, 20, 21, 20]\n"
      ],
      "metadata": {
        "id": "ZKEbUqPXX0ZN"
      }
    },
    {
      "cell_type": "markdown",
      "source": [
        "80. Write a Python program to find the key of the maximum and minimum value in a dictionary.\n",
        "Sample Output:\n",
        "Original dictionary elements:\n",
        "{'Theodore': 19, 'Roxanne': 22, 'Mathew': 21, 'Betty': 20}\n",
        "Finds the key of the maximum and minimum value of the said dictionary:\n",
        "('Roxanne', 'Theodore')"
      ],
      "metadata": {
        "id": "ZZVRe6cVZoFC"
      }
    },
    {
      "cell_type": "code",
      "source": [
        "d = {'Theodore': 19, 'Roxanne': 22, 'Mathew': 21, 'Betty': 20}\n",
        "v = dict(sorted(d.items(),key = lambda d:d[1],reverse = True))\n",
        "v1 = list(d.values())\n",
        "v1.sort(reverse =True)\n",
        "max = v1[0]\n",
        "min = v1[-1]\n",
        "l =[]\n",
        "for k,v in d.items():\n",
        "  if max == v:\n",
        "    l.append(k)\n",
        "  elif min == v:\n",
        "    l.append(k)\n",
        "t = tuple(l)"
      ],
      "metadata": {
        "id": "QdLEXCYGWEU-"
      },
      "execution_count": null,
      "outputs": []
    },
    {
      "cell_type": "code",
      "source": [
        "t"
      ],
      "metadata": {
        "colab": {
          "base_uri": "https://localhost:8080/"
        },
        "id": "lyMb8crHZ7Ek",
        "outputId": "c18195d8-7149-4a63-bb26-62396ae6fdec"
      },
      "execution_count": null,
      "outputs": [
        {
          "output_type": "execute_result",
          "data": {
            "text/plain": [
              "('Theodore', 'Roxanne')"
            ]
          },
          "metadata": {},
          "execution_count": 67
        }
      ]
    },
    {
      "cell_type": "code",
      "source": [
        "\n"
      ],
      "metadata": {
        "id": "NlauCMPSamPu"
      },
      "execution_count": null,
      "outputs": []
    },
    {
      "cell_type": "code",
      "source": [
        "v1"
      ],
      "metadata": {
        "colab": {
          "base_uri": "https://localhost:8080/"
        },
        "id": "j9hOZynibvxj",
        "outputId": "3c60010b-0dab-4adf-a4c0-77f7af86a5d0"
      },
      "execution_count": null,
      "outputs": [
        {
          "output_type": "execute_result",
          "data": {
            "text/plain": [
              "[22, 21, 20, 19]"
            ]
          },
          "metadata": {},
          "execution_count": 62
        }
      ]
    },
    {
      "cell_type": "code",
      "source": [
        "max ="
      ],
      "metadata": {
        "colab": {
          "base_uri": "https://localhost:8080/",
          "height": 176
        },
        "id": "irl7o8akbwzM",
        "outputId": "1b04ce80-8ddf-44b5-d8a7-7b26c28b5b40"
      },
      "execution_count": null,
      "outputs": [
        {
          "output_type": "error",
          "ename": "KeyError",
          "evalue": "22",
          "traceback": [
            "\u001b[0;31m---------------------------------------------------------------------------\u001b[0m",
            "\u001b[0;31mKeyError\u001b[0m                                  Traceback (most recent call last)",
            "\u001b[0;32m<ipython-input-64-984882fdf5c3>\u001b[0m in \u001b[0;36m<cell line: 1>\u001b[0;34m()\u001b[0m\n\u001b[1;32m      1\u001b[0m \u001b[0;32mfor\u001b[0m \u001b[0mi\u001b[0m \u001b[0;32min\u001b[0m \u001b[0mv1\u001b[0m\u001b[0;34m:\u001b[0m\u001b[0;34m\u001b[0m\u001b[0;34m\u001b[0m\u001b[0m\n\u001b[0;32m----> 2\u001b[0;31m   \u001b[0mpos\u001b[0m \u001b[0;34m=\u001b[0m \u001b[0mv1\u001b[0m\u001b[0;34m.\u001b[0m\u001b[0mindex\u001b[0m\u001b[0;34m(\u001b[0m\u001b[0mv\u001b[0m\u001b[0;34m[\u001b[0m\u001b[0mi\u001b[0m\u001b[0;34m]\u001b[0m\u001b[0;34m)\u001b[0m\u001b[0;34m\u001b[0m\u001b[0;34m\u001b[0m\u001b[0m\n\u001b[0m\u001b[1;32m      3\u001b[0m   \u001b[0mprint\u001b[0m\u001b[0;34m(\u001b[0m\u001b[0mpos\u001b[0m\u001b[0;34m)\u001b[0m\u001b[0;34m\u001b[0m\u001b[0;34m\u001b[0m\u001b[0m\n",
            "\u001b[0;31mKeyError\u001b[0m: 22"
          ]
        }
      ]
    },
    {
      "cell_type": "code",
      "source": [],
      "metadata": {
        "id": "ceTERidrciXy"
      },
      "execution_count": null,
      "outputs": []
    }
  ]
}