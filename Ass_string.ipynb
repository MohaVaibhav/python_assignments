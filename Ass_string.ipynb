{
  "nbformat": 4,
  "nbformat_minor": 0,
  "metadata": {
    "colab": {
      "provenance": [],
      "authorship_tag": "ABX9TyOAp5zQko2Qdv9NDmJDyEob",
      "include_colab_link": true
    },
    "kernelspec": {
      "name": "python3",
      "display_name": "Python 3"
    },
    "language_info": {
      "name": "python"
    }
  },
  "cells": [
    {
      "cell_type": "markdown",
      "metadata": {
        "id": "view-in-github",
        "colab_type": "text"
      },
      "source": [
        "<a href=\"https://colab.research.google.com/github/MohaVaibhav/python_assignments/blob/main/Ass_string.ipynb\" target=\"_parent\"><img src=\"https://colab.research.google.com/assets/colab-badge.svg\" alt=\"Open In Colab\"/></a>"
      ]
    },
    {
      "cell_type": "markdown",
      "source": [
        "1. Given a string of odd length greater than 7, return a new string made of the middle three characters\n",
        "of a given String\n",
        "Given:\n",
        "str1 = \"RakeshzipPetabb\"\n",
        "Output\n",
        "zip\n",
        "str2 = \"JazzbonAyxx\"\n",
        "Output\n",
        "bon"
      ],
      "metadata": {
        "id": "amrMO0PE_7lF"
      }
    },
    {
      "cell_type": "code",
      "execution_count": null,
      "metadata": {
        "colab": {
          "base_uri": "https://localhost:8080/"
        },
        "id": "hzveLnkAnSiD",
        "outputId": "805af90a-d107-4f71-8e50-6b9138b42ddc"
      },
      "outputs": [
        {
          "output_type": "stream",
          "name": "stdout",
          "text": [
            "zip\n",
            "bon\n"
          ]
        }
      ],
      "source": [
        "str1 = \"RakeshzipPetabb\"\n",
        "if len(str1)>7:\n",
        "  indx =len(str1)//2\n",
        "  s= str1[indx-1:indx+2]\n",
        "  print(s)\n",
        "str2 = \"JazzbonAyxx\"\n",
        "if len(str2)>7:\n",
        "  indx =len(str2)//2\n",
        "  s1= str2[indx-1:indx+2]\n",
        "  print(s1)"
      ]
    },
    {
      "cell_type": "markdown",
      "source": [
        "2. Given two strings, s1 and s2, create a new string by appending s2 in the middle of s1\n",
        "Given:\n",
        "s1 = \"Ault\"\n",
        "s2 = \"Kelly\"\n",
        "Expected Output:\n",
        "AuKellylt"
      ],
      "metadata": {
        "id": "wJtCZei6ABgc"
      }
    },
    {
      "cell_type": "code",
      "source": [
        "from os import lseek\n",
        "s1 =\"Ault\"\n",
        "s2 =\"Kelly\"\n",
        "indx=int(len(s1)/2 -1)\n",
        "s = s1[0:indx]+s2+s1[indx::]\n",
        "s"
      ],
      "metadata": {
        "id": "YI6uMkkF-rq_",
        "colab": {
          "base_uri": "https://localhost:8080/",
          "height": 35
        },
        "outputId": "3394c120-512a-4e6c-cb37-dd21007f5f14"
      },
      "execution_count": null,
      "outputs": [
        {
          "output_type": "execute_result",
          "data": {
            "text/plain": [
              "'AKellyult'"
            ],
            "application/vnd.google.colaboratory.intrinsic+json": {
              "type": "string"
            }
          },
          "metadata": {},
          "execution_count": 4
        }
      ]
    },
    {
      "cell_type": "markdown",
      "source": [
        "3. two strings, s1, and s2 return a new string made of the first, middle, and last characters each input\n",
        "string\n",
        "Given:\n",
        "s1 = \"America\"\n",
        "s2 = \"Japan\"\n",
        "Expected Output:\n",
        "AJrpan"
      ],
      "metadata": {
        "id": "EbxKZ3AwAHr8"
      }
    },
    {
      "cell_type": "code",
      "source": [
        "s1 = \"America\"\n",
        "s2 = \"Japan\"\n",
        "indx1 = len(s1)//2\n",
        "indx2 = len(s2)//2\n",
        "s3 = s1[0]+s2[0]+s1[indx1]+s2[indx2]+s1[-1]+s2[-1]\n",
        "s3"
      ],
      "metadata": {
        "id": "NEEtvIRA-sXX",
        "colab": {
          "base_uri": "https://localhost:8080/",
          "height": 35
        },
        "outputId": "f36ad99e-fa0a-4204-96a2-92e83469a661"
      },
      "execution_count": null,
      "outputs": [
        {
          "output_type": "execute_result",
          "data": {
            "text/plain": [
              "'AJrpan'"
            ],
            "application/vnd.google.colaboratory.intrinsic+json": {
              "type": "string"
            }
          },
          "metadata": {},
          "execution_count": 9
        }
      ]
    },
    {
      "cell_type": "markdown",
      "source": [
        "4. Given an input string with the combination of the lower and upper case arrange characters in such a\n",
        "way that all lowercase letters should come first.\n",
        "\n",
        "list on string will slpit the word of string"
      ],
      "metadata": {
        "id": "iC1VLMOc5xAr"
      }
    },
    {
      "cell_type": "code",
      "source": [
        "s4 = \"AbCdeFgH\"\n",
        "low4=\"\"\n",
        "up4=\"\"\n",
        "for i in s4:\n",
        "   if i.islower() == True :\n",
        "    low4 += i\n",
        "   else:\n",
        "    up4=up4+i\n",
        "o4 = low4+up4\n",
        "\n",
        "print(o4)\n"
      ],
      "metadata": {
        "colab": {
          "base_uri": "https://localhost:8080/"
        },
        "id": "sQg5kvil50YJ",
        "outputId": "26c805b5-baf6-48a8-fe19-b4a45273a889"
      },
      "execution_count": null,
      "outputs": [
        {
          "output_type": "stream",
          "name": "stdout",
          "text": [
            "bdegACFH\n"
          ]
        }
      ]
    },
    {
      "cell_type": "markdown",
      "source": [
        "5. create a third-string made of the first char of s1 then the last char of s2, Next, the second char of s1\n",
        "and second last char of s2, and so on. Any leftover chars go at the end of the result.\n",
        "Given:\n",
        "s1 = \"Abc\"\n",
        "s2 = \"Xyz\"\n",
        "Expected Output:\n",
        "AzbycX"
      ],
      "metadata": {
        "id": "Zu9er3ZN_kZe"
      }
    },
    {
      "cell_type": "code",
      "source": [
        "s1 =\"Abc\"\n",
        "s2 = \"Xyz\"\n",
        "for i in len(s1):\n",
        "  str = s1(i)+\n",
        "\n",
        "\n"
      ],
      "metadata": {
        "id": "KvqgJUtJ9OpD"
      },
      "execution_count": null,
      "outputs": []
    },
    {
      "cell_type": "markdown",
      "source": [
        "6. Find all occurrences of “USA” from right to left in a given string ignoring the case. also display the\n",
        "starting position\n",
        "Given:\n",
        "str1 = \"Welcome to USA. usa awesome, isn't it?\n",
        "Expected answer : 16, 11"
      ],
      "metadata": {
        "id": "sQ8ssplg-laA"
      }
    },
    {
      "cell_type": "code",
      "source": [
        "str1 = \"Welcome to USA. usa awesome, isn't it?\"\n",
        "s=str1.lower()\n",
        "import re\n",
        "m=re.finditer(\"usa\",s)\n",
        "l=[]\n",
        "for x in m:\n",
        "  l.append(x.start())\n",
        "l.sort(reverse=True)\n",
        "l\n"
      ],
      "metadata": {
        "id": "CkI_foXs-mm2",
        "colab": {
          "base_uri": "https://localhost:8080/"
        },
        "outputId": "3fb8a745-e04a-4f94-a10a-a928c40fdb6e"
      },
      "execution_count": null,
      "outputs": [
        {
          "output_type": "execute_result",
          "data": {
            "text/plain": [
              "[16, 11]"
            ]
          },
          "metadata": {},
          "execution_count": 30
        }
      ]
    },
    {
      "cell_type": "markdown",
      "source": [
        "7. Find all overlapping occurrences of given substring in given string\n",
        "Ex.\n",
        "String = 0111\n",
        "Substring = 11\n",
        "Expected answer : 2\n",
        "String : ANANAAAANNN\n",
        "Substring: ANA\n",
        "Expected answer : 2\n",
        "String : ANANAAAANNN\n",
        "Substring: AA\n",
        "Expected answer : 3"
      ],
      "metadata": {
        "id": "_-YWj0CVYiH6"
      }
    },
    {
      "cell_type": "code",
      "source": [
        "s=input(\"Enter a string\")\n",
        "sb =input(\"Enter a substring\")\n",
        "import re\n",
        "m = re.finditer(sb,s)\n",
        "count = 1\n",
        "for x in m:\n",
        "  #print(x.start())\n",
        "  count += 1\n",
        "count"
      ],
      "metadata": {
        "colab": {
          "base_uri": "https://localhost:8080/"
        },
        "id": "I9q4y1a22Huf",
        "outputId": "48a8e590-1845-4f82-b244-c1d28eecb04c"
      },
      "execution_count": null,
      "outputs": [
        {
          "name": "stdout",
          "output_type": "stream",
          "text": [
            "Enter a stringANANAAAANNN \n",
            "Enter a substringANA\n"
          ]
        },
        {
          "output_type": "execute_result",
          "data": {
            "text/plain": [
              "2"
            ]
          },
          "metadata": {},
          "execution_count": 35
        }
      ]
    },
    {
      "cell_type": "markdown",
      "source": [
        "8. Given a string in format Emp_name:Emp_id\n",
        "If emp_is is perfect square -- > Print only vowels from emp_name\n",
        "Else if emp_id is prime -- > print alternate characters from emp_name\n",
        "Else if emp_id is odd -- > print sum of ascii values of characters in emp_name\n",
        "Else print None"
      ],
      "metadata": {
        "id": "yuNBsjsTYpCp"
      }
    },
    {
      "cell_type": "code",
      "source": [
        "str8 =\"Moha:9\"\n",
        "s=str8.split(\":\")\n",
        "def user_fun(num):\n",
        "  if num>1:\n",
        "    for i in range(2,num):\n",
        "      if (num%i) == 0:\n",
        "        ch = \"not prime\"\n",
        "        break\n",
        "      else:\n",
        "        ch =\"prime\"\n",
        "  if ch == \"not prime\":\n",
        "    if num%2 != 0:\n",
        "      ch=\"odd\"\n",
        "    else:\n",
        "      ch=\"even\"\n",
        "  return ch\n",
        "if ch == prime:\n",
        "  out= [x for x in range(len(s)) if x]\n",
        "\n",
        "user_fun(16)\n",
        "\n"
      ],
      "metadata": {
        "colab": {
          "base_uri": "https://localhost:8080/",
          "height": 35
        },
        "id": "Q4T42P93suSd",
        "outputId": "6d18017e-cdfc-40e2-e5c6-fc39c8502a8a"
      },
      "execution_count": null,
      "outputs": [
        {
          "output_type": "execute_result",
          "data": {
            "text/plain": [
              "'even'"
            ],
            "application/vnd.google.colaboratory.intrinsic+json": {
              "type": "string"
            }
          },
          "metadata": {},
          "execution_count": 21
        }
      ]
    },
    {
      "cell_type": "markdown",
      "source": [
        "9. Find all mobile number mentioned in given paragraph of text\n",
        "Mobile number is always a 10 digit number no spaces no special characters\n",
        "Ex. Input= “this is a good number 9089786756 and 8900000000 is a desired number”\n",
        "Expected output: 9089786756 , 8900000000"
      ],
      "metadata": {
        "id": "cO7yTdTV6Cfh"
      }
    },
    {
      "cell_type": "code",
      "source": [
        "import re\n",
        "s= \"this is a good number 9089786756 and 8900000000 is a desired number\"\n",
        "l9 = s.split(\" \")\n",
        "\n",
        "for i in l9:\n",
        "  m=[]\n",
        "  s1=\"\"\n",
        "  if len(i) == 10:\n",
        "    m=re.findall(\"\\d\",i)\n",
        "    #print(m)\n",
        "    s1=s1.join(m)\n",
        "    print(s1)\n",
        "\n"
      ],
      "metadata": {
        "colab": {
          "base_uri": "https://localhost:8080/"
        },
        "id": "cnQtpNDQ6EWo",
        "outputId": "3394757d-757e-418c-d82d-ae803c1c2e91"
      },
      "execution_count": null,
      "outputs": [
        {
          "output_type": "stream",
          "name": "stdout",
          "text": [
            "9089786756\n",
            "8900000000\n"
          ]
        }
      ]
    },
    {
      "cell_type": "markdown",
      "source": [
        "11. Given a paragraph count number of words, sentences. Every sentence ends with either . or ? or !\n",
        "Print Count of how many normal sentences ending with . , how many interrogative sentences ( ending\n",
        "with ?) and how many exclamatory sentences ( ending with !).\n",
        "Ex.\n",
        "Input : “I am at CDAC. What about you? I am surprised by current weather!”\n",
        "Normal sentence : 1\n",
        "Interrogative: 1\n",
        "Exclamatory : 1"
      ],
      "metadata": {
        "id": "dUUGywck9NTj"
      }
    },
    {
      "cell_type": "code",
      "source": [
        "s = \"I am at CDAC. What about you? I am surprised by current weather!\"\n",
        "Normal_sentance = 0\n",
        "Interrogative =0\n",
        "Exclamatory = 0\n",
        "for i in s:\n",
        "  if i == \".\":\n",
        "    Normal_sentance += 1\n",
        "  elif i == \"!\":\n",
        "    Exclamatory += 1\n",
        "  elif i == \"?\":\n",
        "    Interrogative += 1\n",
        "  else:\n",
        "    pass\n",
        "\n",
        "print(Normal_sentance,Interrogative,Exclamatory)"
      ],
      "metadata": {
        "id": "xUP_Nmq79PRi",
        "colab": {
          "base_uri": "https://localhost:8080/"
        },
        "outputId": "3b5b090f-c153-4543-d02f-39c88ad5841c"
      },
      "execution_count": null,
      "outputs": [
        {
          "output_type": "stream",
          "name": "stdout",
          "text": [
            "1 1 1\n"
          ]
        }
      ]
    },
    {
      "cell_type": "code",
      "source": [
        "import re\n",
        "s= \"this is a good number 9089786756 and 8900000000 is a desired number\"\n",
        "l9 = s.split(\" \")\n",
        "for i in l9:\n",
        "  if len(i) == 10:\n",
        "    if i.isdigit() == True:\n",
        "      print(i)\n"
      ],
      "metadata": {
        "colab": {
          "base_uri": "https://localhost:8080/"
        },
        "id": "KgZI1-Au8kJ0",
        "outputId": "e2634ef3-530b-4ce9-ed52-94c72ecb07d1"
      },
      "execution_count": null,
      "outputs": [
        {
          "output_type": "stream",
          "name": "stdout",
          "text": [
            "9089786756\n",
            "8900000000\n"
          ]
        }
      ]
    },
    {
      "cell_type": "markdown",
      "source": [
        "10. Count occurrence of spaces, and special characters in given string\n",
        "Ex.\n",
        "Input: Fgh^f #89\n",
        "Expected output :\n",
        "Spaces: 1\n",
        "Special characters: 2"
      ],
      "metadata": {
        "id": "w9xYJuvp4GFc"
      }
    },
    {
      "cell_type": "code",
      "source": [
        "s = \"Fgh^f #89\"\n",
        "import re\n",
        "m = re.finditer(\"\\s|\\W\",s)\n",
        "for x in m:\n",
        "  print(x.start(),\">>>>>\",x.group())\n",
        "\n",
        "\n",
        "\n",
        "\"\"\"\n",
        "  if x.group() == \" \":\n",
        "    print(x.start(),\">>>>>\",x.group())\n",
        "  elif x.group() == \"#\":\n",
        "    print(x.start(),\">>>>>\",x.group())\n",
        "  elif x.group() == \"^\":\n",
        "    print(x.start(),\">>>>>\",x.group())\n",
        "\n",
        "spaces = 0\n",
        "spchar = 0\n",
        "for i in s:\n",
        "  if i.isspace() == True:\n",
        "    spaces = spaces + 1\n",
        "  elif i.isalnum() == False:\n",
        "    spchar = spchar +1\n",
        "  else:\n",
        "    pass\n",
        "print(f\"{spaces=}\")\n",
        "print(f\"{spchar=}\")\n",
        "\"\"\"\n",
        "\n"
      ],
      "metadata": {
        "id": "jKaqrwEIH23K",
        "colab": {
          "base_uri": "https://localhost:8080/",
          "height": 122
        },
        "outputId": "c058b466-7ec2-4160-f8e8-bfcc173962de"
      },
      "execution_count": null,
      "outputs": [
        {
          "output_type": "stream",
          "name": "stdout",
          "text": [
            "3 >>>>> ^\n",
            "5 >>>>>  \n",
            "6 >>>>> #\n"
          ]
        },
        {
          "output_type": "execute_result",
          "data": {
            "text/plain": [
              "'\\n  if x.group() == \" \":\\n    print(x.start(),\">>>>>\",x.group())\\n  elif x.group() == \"#\":\\n    print(x.start(),\">>>>>\",x.group())\\n  elif x.group() == \"^\":\\n    print(x.start(),\">>>>>\",x.group())\\n\\nspaces = 0\\nspchar = 0\\nfor i in s:\\n  if i.isspace() == True:\\n    spaces = spaces + 1\\n  elif i.isalnum() == False:\\n    spchar = spchar +1\\n  else:\\n    pass\\nprint(f\"{spaces=}\")\\nprint(f\"{spchar=}\")\\n'"
            ],
            "application/vnd.google.colaboratory.intrinsic+json": {
              "type": "string"
            }
          },
          "metadata": {},
          "execution_count": 46
        }
      ]
    },
    {
      "cell_type": "markdown",
      "source": [
        "12. You are given a string S and width w.\n",
        "Your task is to wrap the string into a paragraph of width w\n",
        "Example .\n",
        "String : “ABCDEFGHIJKLIMNOQRSTUVWXYZ”\n",
        "Width: 4\n",
        "Output:\n",
        "ABCD\n",
        "EFGH\n",
        "IJKL\n",
        "IMNO\n",
        "QRST\n",
        "UVWX\n",
        "YZ"
      ],
      "metadata": {
        "id": "0NBHhZX_H2lD"
      }
    },
    {
      "cell_type": "code",
      "source": [
        "s = \"ABCDEFGHIJKLIMNOQRSTUVWXYZ\"\n",
        "l = list(s)\n",
        "l\n",
        "for i in range(0,len(l),5):\n",
        "  l.insert(i,\" \")\n",
        "l.insert(-2,\" \")\n",
        "str2=\"\"\n",
        "str2=str2.join(l)\n",
        "str2\n",
        "\n",
        "\n",
        "\n"
      ],
      "metadata": {
        "id": "eKhjMI47Y9nw",
        "colab": {
          "base_uri": "https://localhost:8080/",
          "height": 35
        },
        "outputId": "16df4171-57c0-433a-bbd7-9cef481c656b"
      },
      "execution_count": null,
      "outputs": [
        {
          "output_type": "execute_result",
          "data": {
            "text/plain": [
              "' ABCD EFGH IJKL IMNO QRST UVWX YZ'"
            ],
            "application/vnd.google.colaboratory.intrinsic+json": {
              "type": "string"
            }
          },
          "metadata": {},
          "execution_count": 57
        }
      ]
    },
    {
      "cell_type": "code",
      "source": [],
      "metadata": {
        "id": "kRQSU_1TX1EQ"
      },
      "execution_count": null,
      "outputs": []
    },
    {
      "cell_type": "code",
      "source": [],
      "metadata": {
        "id": "0esLJ6iESw08"
      },
      "execution_count": null,
      "outputs": []
    }
  ]
}