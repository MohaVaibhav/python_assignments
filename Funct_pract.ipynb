{
  "nbformat": 4,
  "nbformat_minor": 0,
  "metadata": {
    "colab": {
      "provenance": [],
      "authorship_tag": "ABX9TyN/c/JqX+0IFIENG7nQMm1y",
      "include_colab_link": true
    },
    "kernelspec": {
      "name": "python3",
      "display_name": "Python 3"
    },
    "language_info": {
      "name": "python"
    }
  },
  "cells": [
    {
      "cell_type": "markdown",
      "metadata": {
        "id": "view-in-github",
        "colab_type": "text"
      },
      "source": [
        "<a href=\"https://colab.research.google.com/github/MohaVaibhav/python_assignments/blob/main/Funct_pract.ipynb\" target=\"_parent\"><img src=\"https://colab.research.google.com/assets/colab-badge.svg\" alt=\"Open In Colab\"/></a>"
      ]
    },
    {
      "cell_type": "markdown",
      "source": [
        "WAP funtion to multiply all odd numbers from 1 to 100 and print the result"
      ],
      "metadata": {
        "id": "UCDPEdVSisHO"
      }
    },
    {
      "cell_type": "code",
      "execution_count": null,
      "metadata": {
        "id": "g2XN-PykioDC"
      },
      "outputs": [],
      "source": [
        "def my_fun():\n",
        "  mul = 1\n",
        "  for i in range(1,100,2):\n",
        "   mul = mul * i\n",
        "  return mul\n",
        "\n"
      ]
    },
    {
      "cell_type": "code",
      "source": [
        "my_fun()"
      ],
      "metadata": {
        "colab": {
          "base_uri": "https://localhost:8080/"
        },
        "id": "IG7AMrMDjR7C",
        "outputId": "9214f0c4-62f3-4337-8a6f-97e573cafba2"
      },
      "execution_count": null,
      "outputs": [
        {
          "output_type": "execute_result",
          "data": {
            "text/plain": [
              "2725392139750729502980713245400918633290796330545803413734328823443106201171875"
            ]
          },
          "metadata": {},
          "execution_count": 5
        }
      ]
    },
    {
      "cell_type": "markdown",
      "source": [
        "WA function to calculate factorial of a function:"
      ],
      "metadata": {
        "id": "0Guw78FgkhGR"
      }
    },
    {
      "cell_type": "code",
      "source": [
        "def fact(n:int):\n",
        "  product = 1\n",
        "  for i in range(2,n+1):\n",
        "    product = product *i\n",
        "  return product\n",
        "\n"
      ],
      "metadata": {
        "id": "3A3Ot0LTjf7V"
      },
      "execution_count": null,
      "outputs": []
    },
    {
      "cell_type": "code",
      "source": [
        "fact(100)"
      ],
      "metadata": {
        "colab": {
          "base_uri": "https://localhost:8080/"
        },
        "id": "izqm8Z4hlIg8",
        "outputId": "5d87b42c-7842-4608-e61c-cd5c540b6322"
      },
      "execution_count": null,
      "outputs": [
        {
          "output_type": "execute_result",
          "data": {
            "text/plain": [
              "93326215443944152681699238856266700490715968264381621468592963895217599993229915608941463976156518286253697920827223758251185210916864000000000000000000000000"
            ]
          },
          "metadata": {},
          "execution_count": 7
        }
      ]
    },
    {
      "cell_type": "code",
      "source": [
        "print(len(str((fact(100)))))"
      ],
      "metadata": {
        "colab": {
          "base_uri": "https://localhost:8080/"
        },
        "id": "qPtkUWkzlKAE",
        "outputId": "05f058c3-9c65-4550-c499-f12bfacebf46"
      },
      "execution_count": null,
      "outputs": [
        {
          "output_type": "stream",
          "name": "stdout",
          "text": [
            "158\n"
          ]
        }
      ]
    },
    {
      "cell_type": "code",
      "source": [
        "def list_modify(a:list):\n",
        "  a[0]= 10\n",
        "\n"
      ],
      "metadata": {
        "id": "22dT-4FNlOGo"
      },
      "execution_count": null,
      "outputs": []
    },
    {
      "cell_type": "code",
      "source": [
        "list_modify(l1)\n"
      ],
      "metadata": {
        "id": "TZP2edXstk8q"
      },
      "execution_count": null,
      "outputs": []
    },
    {
      "cell_type": "code",
      "source": [],
      "metadata": {
        "id": "kri4a0RitqxK"
      },
      "execution_count": null,
      "outputs": []
    }
  ]
}