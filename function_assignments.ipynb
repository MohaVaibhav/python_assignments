{
 "cells": [
  {
   "cell_type": "markdown",
   "id": "23ab8414",
   "metadata": {},
   "source": [
    "1. Write function which takes two parameters account no and name of the user.\n",
    "Check if the account number is valid. Account no is valid only if it is a 4 digit number less than 5000\n",
    "Check if the name is valid. Name is valid if all characters are alphabets and no numbers or special chars in the name\n",
    "If both name and 'acc no' are valid return True \n",
    "If acc no is invalid return a message string saying “Account no is invalid”\n",
    "if name is invalid return None\n"
   ]
  },
  {
   "cell_type": "code",
   "execution_count": 9,
   "id": "09f955a7",
   "metadata": {},
   "outputs": [],
   "source": [
    "def check(accno, name):\n",
    "    \"\"\"\n",
    "    accno : is a string containing account no\n",
    "    name : is a string containing name\n",
    "    \"\"\"\n",
    "    if (len(accno)==4 ) and (999<int(accno) <5000): # and name.isalpha() == True:\n",
    "        if name.isalpha() == True:\n",
    "            return True\n",
    "        else:\n",
    "            return None\n",
    "    else:\n",
    "        msg = \"accno is invalid\"\n",
    "        return msg\n",
    "#         return \"accno is invalid\""
   ]
  },
  {
   "cell_type": "code",
   "execution_count": 10,
   "id": "589a21ba",
   "metadata": {},
   "outputs": [
    {
     "data": {
      "text/plain": [
       "'accno is invalid'"
      ]
     },
     "execution_count": 10,
     "metadata": {},
     "output_type": "execute_result"
    }
   ],
   "source": [
    "check('0002',\"xyz\")"
   ]
  },
  {
   "cell_type": "code",
   "execution_count": 1,
   "id": "6d5e20b7",
   "metadata": {},
   "outputs": [],
   "source": [
    "def validate_accno(accno):\n",
    "#     if (len(accno)==4 ) and int(accno) <5000:\n",
    "    if 999 < accno <5000:\n",
    "        return True\n",
    "    else:\n",
    "        return False\n",
    "def validate_name(name):\n",
    "    if name.isalpha() == True:\n",
    "        return True\n",
    "    else:\n",
    "        return False\n",
    "\n",
    "def check(accno, name):\n",
    "    \"\"\"\n",
    "    accno : is a string containing account no\n",
    "    name : is a string containing name\n",
    "    \"\"\"\n",
    "    if validate_accno(accno):\n",
    "        if validate_name(name):\n",
    "            return True\n",
    "        else:\n",
    "            return False\n",
    "    else:\n",
    "        msg = \"accno is invalid\"\n",
    "        return msg "
   ]
  },
  {
   "cell_type": "code",
   "execution_count": 4,
   "id": "08be7c43",
   "metadata": {},
   "outputs": [
    {
     "data": {
      "text/plain": [
       "'accno is invalid'"
      ]
     },
     "execution_count": 4,
     "metadata": {},
     "output_type": "execute_result"
    }
   ],
   "source": [
    "# check(1023,\"xyz\") # True\n",
    "# check(1023,\"xyz123\") # false\n",
    "check(00002,\"xyz\")"
   ]
  },
  {
   "cell_type": "markdown",
   "id": "49486cd0",
   "metadata": {},
   "source": [
    "3.  WA function to rotate given string by 2 position to right\n",
    "\n",
    "Ex.\n",
    "s1=”IACSD”\n",
    "Rotate by 2 place to right\n",
    "“SDIAC”\n",
    "\n",
    "4.  Generalize above function to rotate string to right by n\n",
    "\n",
    "5.  Generalize above function to rotate string by n to right or left"
   ]
  },
  {
   "cell_type": "code",
   "execution_count": 19,
   "id": "8cb48557",
   "metadata": {},
   "outputs": [
    {
     "name": "stdout",
     "output_type": "stream",
     "text": [
      "SDIAC\n",
      "SDIAC\n"
     ]
    }
   ],
   "source": [
    "# for loop\n",
    "s1= \"IACSD\"\n",
    "s2=\"\"\n",
    "# approach 1\n",
    "# for idx in range(len(s1)):\n",
    "#     s2 += s1[idx-2]\n",
    "# approach 2\n",
    "# for idx in range(len(s1)-2,len(s1)):\n",
    "#     s2 += s1[idx]\n",
    "# for idx in range(len(s1)-2):\n",
    "#     s2+=s1[idx]\n",
    "print(s2)\n",
    "# slicing approach\n",
    "s2 = s1[-2:] + s1[:-2]\n",
    "print(s2)"
   ]
  },
  {
   "cell_type": "code",
   "execution_count": 18,
   "id": "007a2fcd",
   "metadata": {},
   "outputs": [
    {
     "name": "stdout",
     "output_type": "stream",
     "text": [
      "CSDIA\n"
     ]
    }
   ],
   "source": [
    "s1= \"IACSD\"\n",
    "n=3\n",
    "s2 = s1[-n:] + s1[:-n]\n",
    "print(s2)"
   ]
  },
  {
   "cell_type": "markdown",
   "id": "18cb8fef",
   "metadata": {},
   "source": [
    "6. WAP to count number of passengers in every airline. Here we are given dictionary of passanger id and airline id\n",
    "Ex\n",
    "input_dir ={'p1':'a1','p2':'a10','p89':'a1','p5':'a10'}\n",
    "output: {'a1':2, 'a10':2}"
   ]
  },
  {
   "cell_type": "code",
   "execution_count": 20,
   "id": "47cae62d",
   "metadata": {},
   "outputs": [
    {
     "name": "stdout",
     "output_type": "stream",
     "text": [
      "['a1', 'a10', 'a1', 'a10']\n"
     ]
    }
   ],
   "source": [
    "input_dir ={'p1':'a1','p2':'a10','p89':'a1','p5':'a10'}\n",
    "vals = list(input_dir.values())\n",
    "print(vals)"
   ]
  },
  {
   "cell_type": "code",
   "execution_count": null,
   "id": "967748e1",
   "metadata": {},
   "outputs": [],
   "source": []
  }
 ],
 "metadata": {
  "kernelspec": {
   "display_name": "Python 3 (ipykernel)",
   "language": "python",
   "name": "python3"
  },
  "language_info": {
   "codemirror_mode": {
    "name": "ipython",
    "version": 3
   },
   "file_extension": ".py",
   "mimetype": "text/x-python",
   "name": "python",
   "nbconvert_exporter": "python",
   "pygments_lexer": "ipython3",
   "version": "3.11.4"
  }
 },
 "nbformat": 4,
 "nbformat_minor": 5
}
