{
  "nbformat": 4,
  "nbformat_minor": 0,
  "metadata": {
    "colab": {
      "provenance": [],
      "include_colab_link": true
    },
    "kernelspec": {
      "name": "python3",
      "display_name": "Python 3"
    },
    "language_info": {
      "name": "python"
    }
  },
  "cells": [
    {
      "cell_type": "markdown",
      "metadata": {
        "id": "view-in-github",
        "colab_type": "text"
      },
      "source": [
        "<a href=\"https://colab.research.google.com/github/MohaVaibhav/python_assignments/blob/main/Menu_driven_prog.ipynb\" target=\"_parent\"><img src=\"https://colab.research.google.com/assets/colab-badge.svg\" alt=\"Open In Colab\"/></a>"
      ]
    },
    {
      "cell_type": "code",
      "execution_count": null,
      "metadata": {
        "colab": {
          "base_uri": "https://localhost:8080/"
        },
        "id": "29_APlPX6BbZ",
        "outputId": "1de8669c-3f5c-4548-9349-f374bfacee81"
      },
      "outputs": [
        {
          "output_type": "execute_result",
          "data": {
            "text/plain": [
              "{'Arhan': 'Blue', 'Lisa': 'Yellow', 'Vinod': 'Purple', 'Jenny': 'Pink'}"
            ]
          },
          "metadata": {},
          "execution_count": 2
        }
      ],
      "source": [
        "people = {'Arhan':'Blue','Lisa':'Yellow','Vinod':'Purple','Jenny':'Pink'}\n",
        "people"
      ]
    },
    {
      "cell_type": "code",
      "source": [
        "# Que.1 - How many students are in the list\n",
        "\n",
        "# keys_p = people.keys()\n",
        "# count = len(people)\n",
        "# count\n",
        "\n",
        "print(people.keys(),len(people))\n"
      ],
      "metadata": {
        "colab": {
          "base_uri": "https://localhost:8080/"
        },
        "id": "tFTVWhBM6l5s",
        "outputId": "2a8ca4d2-4bc6-4ee2-e96f-b964b7caa10c"
      },
      "execution_count": null,
      "outputs": [
        {
          "output_type": "stream",
          "name": "stdout",
          "text": [
            "dict_keys(['Arhan', 'Lisa', 'Vinod', 'Jenny']) 4\n"
          ]
        }
      ]
    },
    {
      "cell_type": "code",
      "source": [
        "# Que.2 - Change Lisa's favourite color\n",
        "\n",
        "people['Lisa'] = 'Black'\n",
        "people"
      ],
      "metadata": {
        "colab": {
          "base_uri": "https://localhost:8080/"
        },
        "id": "U7p6Z-_o725f",
        "outputId": "fa57e504-5b9c-41aa-880c-1427884088ee"
      },
      "execution_count": null,
      "outputs": [
        {
          "output_type": "execute_result",
          "data": {
            "text/plain": [
              "{'Arhan': 'Blue', 'Lisa': 'Black', 'Vinod': 'Purple', 'Jenny': 'Pink'}"
            ]
          },
          "metadata": {},
          "execution_count": 10
        }
      ]
    },
    {
      "cell_type": "code",
      "source": [
        "# Que.2 - Remove Jenny and her favourite color\n",
        "\n",
        "# people['Jenny'] = 'Pink'\n",
        "# people\n",
        "\n",
        "del people['Jenny']\n",
        "people"
      ],
      "metadata": {
        "colab": {
          "base_uri": "https://localhost:8080/"
        },
        "id": "aSbAXbTP8QAt",
        "outputId": "d48042b8-427f-47b2-bdfb-062208aea299"
      },
      "execution_count": null,
      "outputs": [
        {
          "output_type": "execute_result",
          "data": {
            "text/plain": [
              "{'Arhan': 'Blue', 'Lisa': 'Black', 'Vinod': 'Purple'}"
            ]
          },
          "metadata": {},
          "execution_count": 15
        }
      ]
    },
    {
      "cell_type": "code",
      "source": [
        "# Sort & print students and their fav color alphabetically by their name\n",
        "\n",
        "dic1 = sorted(people.items(), key=lambda x:x[0])\n",
        "dic1"
      ],
      "metadata": {
        "colab": {
          "base_uri": "https://localhost:8080/"
        },
        "id": "EcuyqJb39OXi",
        "outputId": "44cde787-304c-461d-cea2-cc5bf9c17e7f"
      },
      "execution_count": null,
      "outputs": [
        {
          "output_type": "execute_result",
          "data": {
            "text/plain": [
              "[('Arhan', 'Blue'), ('Lisa', 'Black'), ('Vinod', 'Purple')]"
            ]
          },
          "metadata": {},
          "execution_count": 17
        }
      ]
    },
    {
      "cell_type": "markdown",
      "source": [
        "# **Menu Driven Program :**"
      ],
      "metadata": {
        "id": "nPecmqdxA4hz"
      }
    },
    {
      "cell_type": "code",
      "source": [
        "dict1 = {}\n",
        "while True:\n",
        "    key = input(\"Enter Name: \")\n",
        "    value = input(\"Enter Vehicle: \")\n",
        "    dict1[key] = value\n",
        "\n",
        "    a = input(\"You want to continue to accept multiple values? Enter y/n: \")\n",
        "    if a == \"n\":\n",
        "      break\n",
        "print(dict1)"
      ],
      "metadata": {
        "colab": {
          "base_uri": "https://localhost:8080/"
        },
        "id": "vUs8A-qyARo5",
        "outputId": "f855f4f1-cda1-4fe7-e913-095657b9c433"
      },
      "execution_count": null,
      "outputs": [
        {
          "output_type": "stream",
          "name": "stdout",
          "text": [
            "Enter Name: Shruti\n",
            "Enter Vehicle: Audi\n",
            "You want to continue to accept multiple values? Enter y/n: y\n",
            "Enter Name: Tanu\n",
            "Enter Vehicle: Thar\n",
            "You want to continue to accept multiple values? Enter y/n: y\n",
            "Enter Name: Alisha\n",
            "Enter Vehicle: Lambo\n",
            "You want to continue to accept multiple values? Enter y/n: y\n",
            "Enter Name: Moha\n",
            "Enter Vehicle: Fortuner\n",
            "You want to continue to accept multiple values? Enter y/n: n\n",
            "{'Shruti': 'Audi', 'Tanu': 'Thar', 'Alisha': 'Lambo', 'Moha': 'Fortuner'}\n"
          ]
        }
      ]
    },
    {
      "cell_type": "code",
      "source": [
        "dict1[\"Saru\"] = \"Thar\"\n",
        "dict1"
      ],
      "metadata": {
        "colab": {
          "base_uri": "https://localhost:8080/"
        },
        "id": "qCfuvmTUXa9r",
        "outputId": "1996e113-32c8-4425-e3a9-e31266c6fcb5"
      },
      "execution_count": null,
      "outputs": [
        {
          "output_type": "execute_result",
          "data": {
            "text/plain": [
              "{'Shruti': 'Audi',\n",
              " 'Tanu': 'Range Rover',\n",
              " 'Moha': 'Creta',\n",
              " 'Alisha': 'Lamborgini',\n",
              " 'Saru': 'Thar'}"
            ]
          },
          "metadata": {},
          "execution_count": 8
        }
      ]
    },
    {
      "cell_type": "code",
      "source": [
        "def add_user(dict1):\n",
        "  new_user = input(\"Enter Name: \")\n",
        "  vehicle = input(\"Enter vahicle: \")\n",
        "  dict1[new_user] = vehicle\n",
        "  print(dict1)\n",
        "add_user(dict1)"
      ],
      "metadata": {
        "colab": {
          "base_uri": "https://localhost:8080/"
        },
        "id": "V3XSDjyqYLlZ",
        "outputId": "aa3cf5e5-dc8a-4036-83ea-e6159e66cf0c"
      },
      "execution_count": null,
      "outputs": [
        {
          "output_type": "stream",
          "name": "stdout",
          "text": [
            "Enter Name: Nihal\n",
            "Enter vahicle: Fortuner\n",
            "{'Shruti': 'Audi', 'Tanu': 'Range Rover', 'Moha': 'Creta', 'Alisha': 'Lamborgini', 'Saru': 'Thar', 'Nihal': 'Fortuner'}\n"
          ]
        }
      ]
    },
    {
      "cell_type": "code",
      "source": [
        "dict1[\"Moha\"]=\"Creta\"\n",
        "dict1"
      ],
      "metadata": {
        "colab": {
          "base_uri": "https://localhost:8080/"
        },
        "id": "714UdzKceNPj",
        "outputId": "e33bc912-f92e-4444-ab4b-2120bd5e85d0"
      },
      "execution_count": null,
      "outputs": [
        {
          "output_type": "execute_result",
          "data": {
            "text/plain": [
              "{'Shruti': 'Audi', 'Tanu': 'Range Rover', 'Alisha': 'Thar', 'Moha': 'Creta'}"
            ]
          },
          "metadata": {},
          "execution_count": 12
        }
      ]
    },
    {
      "cell_type": "code",
      "source": [
        "def del_user(dict1):\n",
        "  del_name = input(\"Enter name: \")\n",
        "  if del_name in dict1:\n",
        "    print(dict1[del_name])\n",
        "    msg = input(\"Want to delete name? Enter y/n: \")\n",
        "    if msg == 'y':\n",
        "      del dict1[del_name]\n",
        "    else:\n",
        "      print(\"No\")\n",
        "  else:\n",
        "    print(\"Name of user is not present\")\n",
        "  print(dict1)\n",
        "del_user(dict1)\n"
      ],
      "metadata": {
        "colab": {
          "base_uri": "https://localhost:8080/"
        },
        "id": "ataTb-2aZG2-",
        "outputId": "f3dd7ca4-e5a6-45b0-c54a-6087cc0fce2b"
      },
      "execution_count": null,
      "outputs": [
        {
          "output_type": "stream",
          "name": "stdout",
          "text": [
            "Enter name: Alisha\n",
            "Lamborgini\n",
            "Want to delete name? Enter y/n: y\n",
            "{'Shruti': 'Audi', 'Tanu': 'Range Rover', 'Moha': 'Creta', 'Saru': 'Thar', 'Nihal': 'Fortuner'}\n"
          ]
        }
      ]
    },
    {
      "cell_type": "code",
      "source": [
        "def mod_user(dict1):\n",
        "  mod_name = input(\"Enter name which you want to modify: \")\n",
        "  if mod_name in dict1:\n",
        "    print(dict1[mod_name])\n",
        "    new_value = input(\"Enter new value for name: \")\n",
        "    dict1[mod_name] = new_value\n",
        "  else:\n",
        "    print(\"Entered name is not present\")\n",
        "  print(dict1)\n",
        "mod_user(dict1)"
      ],
      "metadata": {
        "colab": {
          "base_uri": "https://localhost:8080/"
        },
        "id": "RkLXn8D2Zj6n",
        "outputId": "07187c1f-8590-4864-c3dd-47f5f116de06"
      },
      "execution_count": null,
      "outputs": [
        {
          "output_type": "stream",
          "name": "stdout",
          "text": [
            "Enter name which you want to modify: Moha\n",
            "Creta\n",
            "Enter new value for name: BMW\n",
            "{'Shruti': 'Audi', 'Tanu': 'Range Rover', 'Moha': 'BMW', 'Saru': 'Thar', 'Nihal': 'Fortuner'}\n"
          ]
        }
      ]
    },
    {
      "cell_type": "code",
      "source": [
        "def search(dict1):\n",
        "  search_name = input(\"Enter name which you want to search: \")\n",
        "  if search_name in dict1:\n",
        "    dict1.get(search_name)\n",
        "    print(\"Entered name is present.\",search_name)\n",
        "  else:\n",
        "    print(\"Search name not found\")\n",
        "search(dict1)\n"
      ],
      "metadata": {
        "colab": {
          "base_uri": "https://localhost:8080/"
        },
        "id": "n5l0hGh8iicu",
        "outputId": "db58d176-a055-419c-b690-2454dd714529"
      },
      "execution_count": null,
      "outputs": [
        {
          "output_type": "stream",
          "name": "stdout",
          "text": [
            "Enter name which you want to search: Tanu\n",
            "Entered name is present. Tanu\n"
          ]
        }
      ]
    },
    {
      "cell_type": "code",
      "source": [
        "def all_person(dict1):\n",
        "  print(dict1.keys())\n",
        "all_person(dict1)\n"
      ],
      "metadata": {
        "colab": {
          "base_uri": "https://localhost:8080/"
        },
        "id": "zqKJfyAem3vO",
        "outputId": "c3df07c8-fbe2-4141-e688-9d803bfa0824"
      },
      "execution_count": null,
      "outputs": [
        {
          "output_type": "stream",
          "name": "stdout",
          "text": [
            "dict_keys(['Shruti', 'Tanu', 'Moha', 'Saru', 'Nihal'])\n"
          ]
        }
      ]
    },
    {
      "cell_type": "code",
      "source": [
        "def all_values(dict1):\n",
        "  print(dict1.values())\n",
        "all_values(dict1)"
      ],
      "metadata": {
        "colab": {
          "base_uri": "https://localhost:8080/"
        },
        "id": "XGEI_K3to9Yw",
        "outputId": "a4bf2091-c7d6-483c-f0fb-44e9947c4988"
      },
      "execution_count": null,
      "outputs": [
        {
          "output_type": "stream",
          "name": "stdout",
          "text": [
            "dict_values(['Audi', 'Range Rover', 'BMW', 'Thar', 'Fortuner'])\n"
          ]
        }
      ]
    },
    {
      "cell_type": "code",
      "source": [
        "def main():\n",
        "  dict1 = {}\n",
        "  while True:\n",
        "     print(\"\\n Menu: \")\n",
        "     print(\"1. Add User\")\n",
        "     print(\"2. Delete User\")\n",
        "     print(\"3. Modify User\")\n",
        "     print(\"4. Search User\")\n",
        "     print(\"5. See all persons\")\n",
        "     print(\"6. See all values\")\n",
        "     print(\"7. Exit\")\n",
        "\n",
        "     main_menu()\n",
        "     choice = input(\"Enter Your Choice : \")\n",
        "\n",
        "     if choice == '1':\n",
        "       add_user(dict1)\n",
        "     elif choice == '2':\n",
        "       del_user(dict1)\n",
        "     elif choice == '3':\n",
        "       mod_user(dict1)\n",
        "     elif choice == '4':\n",
        "       search(dict1)\n",
        "     elif choice == '5':\n",
        "       all_person(dict1)\n",
        "     elif choice == '6':\n",
        "       all_values(dict1)\n",
        "     elif choice == '7':\n",
        "       print(\"Exiting Program\")\n",
        "       break\n",
        "    else:\n",
        "      print(\"Invalid Choice\")\n",
        "\n",
        "\n",
        "\n",
        "\n",
        "\n",
        "\n",
        "# if __name__ == \"__main__\":\n",
        "main()\n"
      ],
      "metadata": {
        "colab": {
          "base_uri": "https://localhost:8080/",
          "height": 494
        },
        "id": "iDNst-8cpdhK",
        "outputId": "053d6343-094c-46df-b64c-692433e8fe31"
      },
      "execution_count": null,
      "outputs": [
        {
          "name": "stdout",
          "output_type": "stream",
          "text": [
            "\n",
            " Menu: \n",
            "1. Add User\n",
            "2. Delete User\n",
            "3. Modify User\n",
            "4. Search User\n",
            "5. See all persons\n",
            "6. See all values\n",
            "7. Exit\n",
            "Enter Your Choice : 1\n"
          ]
        },
        {
          "output_type": "error",
          "ename": "TypeError",
          "evalue": "add_user() takes 0 positional arguments but 1 was given",
          "traceback": [
            "\u001b[0;31m---------------------------------------------------------------------------\u001b[0m",
            "\u001b[0;31mTypeError\u001b[0m                                 Traceback (most recent call last)",
            "\u001b[0;32m<ipython-input-31-15e3530149b5>\u001b[0m in \u001b[0;36m<cell line: 33>\u001b[0;34m()\u001b[0m\n\u001b[1;32m     32\u001b[0m \u001b[0;34m\u001b[0m\u001b[0m\n\u001b[1;32m     33\u001b[0m \u001b[0;32mif\u001b[0m \u001b[0m__name__\u001b[0m \u001b[0;34m==\u001b[0m \u001b[0;34m\"__main__\"\u001b[0m\u001b[0;34m:\u001b[0m\u001b[0;34m\u001b[0m\u001b[0;34m\u001b[0m\u001b[0m\n\u001b[0;32m---> 34\u001b[0;31m   \u001b[0mmain\u001b[0m\u001b[0;34m(\u001b[0m\u001b[0;34m)\u001b[0m\u001b[0;34m\u001b[0m\u001b[0;34m\u001b[0m\u001b[0m\n\u001b[0m",
            "\u001b[0;32m<ipython-input-31-15e3530149b5>\u001b[0m in \u001b[0;36mmain\u001b[0;34m()\u001b[0m\n\u001b[1;32m     14\u001b[0m \u001b[0;34m\u001b[0m\u001b[0m\n\u001b[1;32m     15\u001b[0m      \u001b[0;32mif\u001b[0m \u001b[0mchoice\u001b[0m \u001b[0;34m==\u001b[0m \u001b[0;34m'1'\u001b[0m\u001b[0;34m:\u001b[0m\u001b[0;34m\u001b[0m\u001b[0;34m\u001b[0m\u001b[0m\n\u001b[0;32m---> 16\u001b[0;31m        \u001b[0madd_user\u001b[0m\u001b[0;34m(\u001b[0m\u001b[0mdict1\u001b[0m\u001b[0;34m)\u001b[0m\u001b[0;34m\u001b[0m\u001b[0;34m\u001b[0m\u001b[0m\n\u001b[0m\u001b[1;32m     17\u001b[0m      \u001b[0;32melif\u001b[0m \u001b[0mchoice\u001b[0m \u001b[0;34m==\u001b[0m \u001b[0;34m'2'\u001b[0m\u001b[0;34m:\u001b[0m\u001b[0;34m\u001b[0m\u001b[0;34m\u001b[0m\u001b[0m\n\u001b[1;32m     18\u001b[0m        \u001b[0mdel_user\u001b[0m\u001b[0;34m(\u001b[0m\u001b[0mdict1\u001b[0m\u001b[0;34m)\u001b[0m\u001b[0;34m\u001b[0m\u001b[0;34m\u001b[0m\u001b[0m\n",
            "\u001b[0;31mTypeError\u001b[0m: add_user() takes 0 positional arguments but 1 was given"
          ]
        }
      ]
    },
    {
      "cell_type": "code",
      "source": [],
      "metadata": {
        "id": "aezZHZwx1Y6r"
      },
      "execution_count": null,
      "outputs": []
    }
  ]
}