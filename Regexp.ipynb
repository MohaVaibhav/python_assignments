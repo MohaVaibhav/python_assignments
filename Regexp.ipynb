{
  "nbformat": 4,
  "nbformat_minor": 0,
  "metadata": {
    "colab": {
      "provenance": [],
      "authorship_tag": "ABX9TyNSmHi+CqLdMAOtulVwjJlV",
      "include_colab_link": true
    },
    "kernelspec": {
      "name": "python3",
      "display_name": "Python 3"
    },
    "language_info": {
      "name": "python"
    }
  },
  "cells": [
    {
      "cell_type": "markdown",
      "metadata": {
        "id": "view-in-github",
        "colab_type": "text"
      },
      "source": [
        "<a href=\"https://colab.research.google.com/github/MohaVaibhav/python_assignments/blob/main/Regexp.ipynb\" target=\"_parent\"><img src=\"https://colab.research.google.com/assets/colab-badge.svg\" alt=\"Open In Colab\"/></a>"
      ]
    },
    {
      "cell_type": "markdown",
      "source": [
        "## Character Class\n",
        "1.[abc]=either a or b or c                                       \n",
        "\n",
        "2.[^abc] = excpet a and b and c\n",
        "\n",
        "3.[a-z] = any lower case alphabet symbol\n",
        "\n",
        "4.[A-Z] =  any upper case alphabet symbol\n",
        "\n",
        "5.[a-zA-Z] = any alphabet symbol\n",
        "\n",
        "6.[0-9] = any digit from 0 to 9\n",
        "\n",
        "7.[a-zA-Z0-9] = any alphanumeric character\n",
        "\n",
        "8.[^a-zA-Z0-9] =  except any alphanumeric character"
      ],
      "metadata": {
        "id": "ahqTQndifoJF"
      }
    },
    {
      "cell_type": "code",
      "source": [
        "import re\n",
        "\n",
        "str = \"a7b@k9z\"\n",
        "matcher = re.finditer(\"[abc]\",\"a7b@k9z\")\n",
        "\n",
        "for matching in matcher:\n",
        "  print(matching.start(),\">>>\",matching.group())"
      ],
      "metadata": {
        "colab": {
          "base_uri": "https://localhost:8080/"
        },
        "id": "53enichgiyQQ",
        "outputId": "36f53406-25fd-4830-f85a-53f22825348e"
      },
      "execution_count": null,
      "outputs": [
        {
          "output_type": "stream",
          "name": "stdout",
          "text": [
            "0 >>> a\n",
            "2 >>> b\n"
          ]
        }
      ]
    },
    {
      "cell_type": "code",
      "source": [
        "import re\n",
        "\n",
        "matcher = re.finditer(\"[^abc]\",str)\n",
        "for m in matcher:\n",
        "  print(m.start(),\":::::\",m.group())"
      ],
      "metadata": {
        "colab": {
          "base_uri": "https://localhost:8080/"
        },
        "id": "RKth4M5Bjuh9",
        "outputId": "8a458721-3a9d-4254-f38e-68353058b29f"
      },
      "execution_count": null,
      "outputs": [
        {
          "output_type": "stream",
          "name": "stdout",
          "text": [
            "1 ::::: 7\n",
            "3 ::::: @\n",
            "4 ::::: k\n",
            "5 ::::: 9\n",
            "6 ::::: z\n"
          ]
        }
      ]
    },
    {
      "cell_type": "code",
      "source": [
        "matcher = re.finditer(\"[a-z]\",str)\n",
        "for m in matcher:\n",
        "  print(m.start(),\"......\",m.group())"
      ],
      "metadata": {
        "colab": {
          "base_uri": "https://localhost:8080/"
        },
        "id": "gnWfx3fYkClZ",
        "outputId": "f1d26e7a-fdd4-4fed-d39c-f226e5e2d23a"
      },
      "execution_count": null,
      "outputs": [
        {
          "output_type": "stream",
          "name": "stdout",
          "text": [
            "0 ...... a\n",
            "2 ...... b\n",
            "4 ...... k\n",
            "6 ...... z\n"
          ]
        }
      ]
    },
    {
      "cell_type": "code",
      "source": [
        "matcher = re.finditer(\"[0-9]\",str)\n",
        "for m in matcher:\n",
        "  print(m.start(),\"::::\",m.group())"
      ],
      "metadata": {
        "colab": {
          "base_uri": "https://localhost:8080/"
        },
        "id": "NN6EnFlQkVAX",
        "outputId": "9be09fbc-c4f1-4918-c35a-6a8e18340efb"
      },
      "execution_count": null,
      "outputs": [
        {
          "output_type": "stream",
          "name": "stdout",
          "text": [
            "1 :::: 7\n",
            "5 :::: 9\n"
          ]
        }
      ]
    },
    {
      "cell_type": "code",
      "source": [
        "matcher = re.finditer(\"[a-zA-Z0-9]\",str)\n",
        "for m in matcher:\n",
        "  print(m.start(),\"......\",m.group())"
      ],
      "metadata": {
        "colab": {
          "base_uri": "https://localhost:8080/"
        },
        "id": "mDWsXE2wkkKG",
        "outputId": "caed0bc8-b458-4ddd-9104-f0857a093cce"
      },
      "execution_count": null,
      "outputs": [
        {
          "output_type": "stream",
          "name": "stdout",
          "text": [
            "0 ...... a\n",
            "1 ...... 7\n",
            "2 ...... b\n",
            "4 ...... k\n",
            "5 ...... 9\n",
            "6 ...... z\n"
          ]
        }
      ]
    },
    {
      "cell_type": "code",
      "source": [
        "matcher = re.finditer(\"[^a-z0-9]\",str)\n",
        "for m in matcher:\n",
        "  print(m.start(),\"......\",m.group())"
      ],
      "metadata": {
        "colab": {
          "base_uri": "https://localhost:8080/"
        },
        "id": "nxpBEoebk2KF",
        "outputId": "a56c88f0-5a99-470c-beeb-575e163dd50b"
      },
      "execution_count": null,
      "outputs": [
        {
          "output_type": "stream",
          "name": "stdout",
          "text": [
            "3 ...... @\n"
          ]
        }
      ]
    },
    {
      "cell_type": "markdown",
      "source": [
        "##Pre defined Character Class:\n",
        "1. \\s = space character\n",
        "2. \\S = any character except space\n",
        "3. \\d = any digit from 0-9\n",
        "4. \\D = any character except digit\n",
        "5. \\w = any alphanumeric character [a-zA-Z0-9]\n",
        "6. \\W = any character except alphanumeric [a-zA-Z0-9]\n",
        "7. .  = any character using special character"
      ],
      "metadata": {
        "id": "Zm1DkmmQg1go"
      }
    },
    {
      "cell_type": "code",
      "source": [
        "str = \"a7b k @9z\"\n",
        "matcher = re.finditer(\"\\s\",str)\n",
        "for m in matcher:\n",
        "  print(m.start(),\"......\",m.group())"
      ],
      "metadata": {
        "colab": {
          "base_uri": "https://localhost:8080/"
        },
        "id": "xRJjS-52lIS3",
        "outputId": "780f98c4-dd78-448b-8338-adc53dc403b4"
      },
      "execution_count": null,
      "outputs": [
        {
          "output_type": "stream",
          "name": "stdout",
          "text": [
            "3 ......  \n",
            "5 ......  \n"
          ]
        }
      ]
    },
    {
      "cell_type": "code",
      "source": [
        "matcher = re.finditer(\"\\S\",str)\n",
        "for m in matcher:\n",
        "  print(m.start(),\"....\",m.group())"
      ],
      "metadata": {
        "colab": {
          "base_uri": "https://localhost:8080/"
        },
        "id": "lt6CBzkzljD6",
        "outputId": "4540ca3d-caba-44f8-fd0f-d5f4d353496c"
      },
      "execution_count": null,
      "outputs": [
        {
          "output_type": "stream",
          "name": "stdout",
          "text": [
            "0 .... a\n",
            "1 .... 7\n",
            "2 .... b\n",
            "4 .... k\n",
            "6 .... @\n",
            "7 .... 9\n",
            "8 .... z\n"
          ]
        }
      ]
    },
    {
      "cell_type": "code",
      "source": [
        "matcher = re.finditer(\"\\d\",str)\n",
        "for m in matcher:\n",
        "  print(m.start(),\"....\",m.group())"
      ],
      "metadata": {
        "colab": {
          "base_uri": "https://localhost:8080/"
        },
        "id": "2NrHkYrAly7V",
        "outputId": "1aad3760-c46b-4471-bb7b-41a45a1743fa"
      },
      "execution_count": null,
      "outputs": [
        {
          "output_type": "stream",
          "name": "stdout",
          "text": [
            "1 .... 7\n",
            "7 .... 9\n"
          ]
        }
      ]
    },
    {
      "cell_type": "code",
      "source": [
        "matcher = re.finditer(\"\\D\",str)\n",
        "for m in matcher:\n",
        "  print(m.start(),\"......\",m.group())"
      ],
      "metadata": {
        "colab": {
          "base_uri": "https://localhost:8080/"
        },
        "id": "mU573L2ImB_k",
        "outputId": "5fd63302-7bea-4b42-f548-405a2e56b321"
      },
      "execution_count": null,
      "outputs": [
        {
          "output_type": "stream",
          "name": "stdout",
          "text": [
            "0 ...... a\n",
            "2 ...... b\n",
            "3 ......  \n",
            "4 ...... k\n",
            "5 ......  \n",
            "6 ...... @\n",
            "8 ...... z\n"
          ]
        }
      ]
    },
    {
      "cell_type": "code",
      "source": [
        "matcher = re.finditer(\"\\w\",str)\n",
        "for m in matcher:\n",
        "  print(m.start(),\"......\",m.group())"
      ],
      "metadata": {
        "colab": {
          "base_uri": "https://localhost:8080/"
        },
        "id": "dqilkH4YmPfl",
        "outputId": "647b4d9a-9e09-45e9-c832-6b44aa4a9e9e"
      },
      "execution_count": null,
      "outputs": [
        {
          "output_type": "stream",
          "name": "stdout",
          "text": [
            "0 ...... a\n",
            "1 ...... 7\n",
            "2 ...... b\n",
            "4 ...... k\n",
            "7 ...... 9\n",
            "8 ...... z\n"
          ]
        }
      ]
    },
    {
      "cell_type": "code",
      "source": [
        "matcher = re.finditer(\"\\W\",str)\n",
        "for m in matcher:\n",
        "  print(m.start(),\"......\",m.group())"
      ],
      "metadata": {
        "colab": {
          "base_uri": "https://localhost:8080/"
        },
        "id": "hgwCVTeWmofO",
        "outputId": "dc3b9932-e76b-4299-e24c-0f907ab3ea04"
      },
      "execution_count": null,
      "outputs": [
        {
          "output_type": "stream",
          "name": "stdout",
          "text": [
            "3 ......  \n",
            "5 ......  \n",
            "6 ...... @\n"
          ]
        }
      ]
    },
    {
      "cell_type": "code",
      "source": [
        "matcher = re.finditer(\".\",str)\n",
        "for m in matcher:\n",
        "  print(m.start(),\".....\",m.group())"
      ],
      "metadata": {
        "colab": {
          "base_uri": "https://localhost:8080/"
        },
        "id": "8NJCIOAem2G-",
        "outputId": "90ad765e-393f-4d90-db1a-74852c824b6a"
      },
      "execution_count": null,
      "outputs": [
        {
          "output_type": "stream",
          "name": "stdout",
          "text": [
            "0 ..... a\n",
            "1 ..... 7\n",
            "2 ..... b\n",
            "3 .....  \n",
            "4 ..... k\n",
            "5 .....  \n",
            "6 ..... @\n",
            "7 ..... 9\n",
            "8 ..... z\n"
          ]
        }
      ]
    },
    {
      "cell_type": "markdown",
      "source": [
        "##Quantifiers\n",
        "\n",
        "1. a = exactly one \"a\"\n",
        "\n",
        "2. a+ = atleast one to any a's\n",
        "\n",
        "3. a* = zero to any a's\n",
        "\n",
        "4. a? = zero 0r one a\n",
        "\n",
        "5. a{m} = exactly m number of a's\n",
        "\n",
        "6. a{m,n} = minimum m to max n number of a's"
      ],
      "metadata": {
        "id": "18SI_rpehw0T"
      }
    },
    {
      "cell_type": "markdown",
      "source": [],
      "metadata": {
        "id": "CsHjLnmfgrSF"
      }
    },
    {
      "cell_type": "code",
      "source": [],
      "metadata": {
        "id": "ydBD_do0gqVD"
      },
      "execution_count": null,
      "outputs": []
    },
    {
      "cell_type": "code",
      "execution_count": null,
      "metadata": {
        "id": "njKj9rLnfklD"
      },
      "outputs": [],
      "source": []
    }
  ]
}