{
  "nbformat": 4,
  "nbformat_minor": 0,
  "metadata": {
    "colab": {
      "provenance": [],
      "authorship_tag": "ABX9TyNozLdH0foPhcK2FOphxsjJ",
      "include_colab_link": true
    },
    "kernelspec": {
      "name": "python3",
      "display_name": "Python 3"
    },
    "language_info": {
      "name": "python"
    }
  },
  "cells": [
    {
      "cell_type": "markdown",
      "metadata": {
        "id": "view-in-github",
        "colab_type": "text"
      },
      "source": [
        "<a href=\"https://colab.research.google.com/github/MohaVaibhav/python_assignments/blob/main/List_prcat_230.ipynb\" target=\"_parent\"><img src=\"https://colab.research.google.com/assets/colab-badge.svg\" alt=\"Open In Colab\"/></a>"
      ]
    },
    {
      "cell_type": "markdown",
      "source": [
        "1. Write a Python program to sum all the items in a list."
      ],
      "metadata": {
        "id": "2bU1_8GLHM7I"
      }
    },
    {
      "cell_type": "code",
      "execution_count": null,
      "metadata": {
        "colab": {
          "base_uri": "https://localhost:8080/"
        },
        "id": "DTRhLntDHFXR",
        "outputId": "3d714689-d0b5-4713-b809-d2d65b7f4cd2"
      },
      "outputs": [
        {
          "output_type": "execute_result",
          "data": {
            "text/plain": [
              "71"
            ]
          },
          "metadata": {},
          "execution_count": 14
        }
      ],
      "source": [
        "l1 = [10,20,30,40,50,60,70]\n",
        "sum1 =0\n",
        "for x in l1:\n",
        "  sum1 = 1 + x\n",
        "sum1"
      ]
    },
    {
      "cell_type": "code",
      "source": [
        "x = sum(l1)\n",
        "print(x)\n",
        "# this is valid but does not work in colab"
      ],
      "metadata": {
        "id": "OJkcNI598RbP"
      },
      "execution_count": null,
      "outputs": []
    },
    {
      "cell_type": "markdown",
      "source": [
        "2. Write a Python program to multiply all the items in a list."
      ],
      "metadata": {
        "id": "q4wlw-haJDfV"
      }
    },
    {
      "cell_type": "code",
      "source": [
        "l2 = [10,20,30,40,50,60,70]\n",
        "o2 = [x*9 for x in l2]\n",
        "o2"
      ],
      "metadata": {
        "colab": {
          "base_uri": "https://localhost:8080/"
        },
        "id": "VFTCeMyjJFTj",
        "outputId": "5407da38-7d2e-423d-f545-a031d46e5980"
      },
      "execution_count": null,
      "outputs": [
        {
          "output_type": "execute_result",
          "data": {
            "text/plain": [
              "[90, 180, 270, 360, 450, 540, 630]"
            ]
          },
          "metadata": {},
          "execution_count": 17
        }
      ]
    },
    {
      "cell_type": "code",
      "source": [
        "mul = 1\n",
        "for m in l2:\n",
        "  mul = mul*m\n",
        "print(mul)"
      ],
      "metadata": {
        "colab": {
          "base_uri": "https://localhost:8080/"
        },
        "id": "6vOShztv-4ig",
        "outputId": "bc8fd0eb-1db2-4ee9-9a57-afffc3ad38f5"
      },
      "execution_count": null,
      "outputs": [
        {
          "output_type": "stream",
          "name": "stdout",
          "text": [
            "50400000000\n"
          ]
        }
      ]
    },
    {
      "cell_type": "markdown",
      "source": [
        "3. Write a Python program to get the largest number from a list."
      ],
      "metadata": {
        "id": "ee2Idw9jJZ21"
      }
    },
    {
      "cell_type": "code",
      "source": [
        "l3 = [10,20,30,40,50,60,70]\n",
        "max(l3)"
      ],
      "metadata": {
        "colab": {
          "base_uri": "https://localhost:8080/"
        },
        "id": "9aXut5-sJfSS",
        "outputId": "f80c15b2-cc4c-4243-8b56-56b8c11f0903"
      },
      "execution_count": null,
      "outputs": [
        {
          "output_type": "execute_result",
          "data": {
            "text/plain": [
              "70"
            ]
          },
          "metadata": {},
          "execution_count": 3
        }
      ]
    },
    {
      "cell_type": "markdown",
      "source": [
        "\n",
        "4. Write a Python program to get the smallest number from a list."
      ],
      "metadata": {
        "id": "DPSPRGNIJb_S"
      }
    },
    {
      "cell_type": "code",
      "source": [
        "l4= [10,20,30,40,50,60,70]\n",
        "min(l4)"
      ],
      "metadata": {
        "colab": {
          "base_uri": "https://localhost:8080/"
        },
        "id": "IETdzwUAJzYq",
        "outputId": "5c9e77e7-b44f-4386-cf22-69673c704219"
      },
      "execution_count": null,
      "outputs": [
        {
          "output_type": "execute_result",
          "data": {
            "text/plain": [
              "10"
            ]
          },
          "metadata": {},
          "execution_count": 4
        }
      ]
    },
    {
      "cell_type": "markdown",
      "source": [
        "\n",
        "5. Write a Python program to count the number of strings from a given list of strings.\n",
        "Condition is, the string length is 2 or more and the first and last characters are the same.\n",
        "Sample List : ['abc', 'xyz', 'aba', '1221']\n",
        "Expected Result : 2\n"
      ],
      "metadata": {
        "id": "_BRGTB72J84c"
      }
    },
    {
      "cell_type": "code",
      "source": [
        "l5 =  ['abc', 'xyz', 'aba', '1221']\n",
        "count = 0\n",
        "for x in l5:\n",
        "  if len(x)>=2:\n",
        "    if x[0] == x[len(x)-1]:\n",
        "        count = count+1\n",
        "count"
      ],
      "metadata": {
        "colab": {
          "base_uri": "https://localhost:8080/"
        },
        "id": "QytYI0e9J-6q",
        "outputId": "f0dcfa7f-bc9f-4f2e-da31-e7e636cc601c"
      },
      "execution_count": null,
      "outputs": [
        {
          "output_type": "execute_result",
          "data": {
            "text/plain": [
              "2"
            ]
          },
          "metadata": {},
          "execution_count": 8
        }
      ]
    },
    {
      "cell_type": "markdown",
      "source": [
        "6. WAP to get a list, sorted in increasing order by the last element in each tuple from agiven list of non-empty tuple"
      ],
      "metadata": {
        "id": "PAnwj_lN3Zik"
      }
    },
    {
      "cell_type": "code",
      "source": [
        "l6 = [(2,5),(1,2),(4,4),(2,3),(2,1)]\n",
        "l6.sort(key=lambda x:x[-1])\n",
        "l6"
      ],
      "metadata": {
        "colab": {
          "base_uri": "https://localhost:8080/"
        },
        "id": "EOYyDHZU4Xe6",
        "outputId": "eb0eb424-0b13-49c1-a990-1cf767414587"
      },
      "execution_count": null,
      "outputs": [
        {
          "output_type": "execute_result",
          "data": {
            "text/plain": [
              "[(2, 1), (1, 2), (2, 3), (4, 4), (2, 5)]"
            ]
          },
          "metadata": {},
          "execution_count": 3
        }
      ]
    },
    {
      "cell_type": "markdown",
      "source": [
        "\n",
        "7. Write a Python program to remove duplicates from a list. Use another list to store unique values."
      ],
      "metadata": {
        "id": "sGYMSzic_2MN"
      }
    },
    {
      "cell_type": "code",
      "source": [
        "l7 = [1,2,2,3,4,5,5,6]\n",
        "l8 = list(set(l7))\n",
        "l8"
      ],
      "metadata": {
        "colab": {
          "base_uri": "https://localhost:8080/"
        },
        "id": "iL9H-D-1AY3Q",
        "outputId": "d0ac14b8-1d4d-4edd-dcb1-a716207c60e8"
      },
      "execution_count": null,
      "outputs": [
        {
          "output_type": "execute_result",
          "data": {
            "text/plain": [
              "[1, 2, 3, 4, 5, 6]"
            ]
          },
          "metadata": {},
          "execution_count": 20
        }
      ]
    },
    {
      "cell_type": "markdown",
      "source": [
        "8. Write a Python program to check if a list is empty or not."
      ],
      "metadata": {
        "id": "EET6F-EhAEaA"
      }
    },
    {
      "cell_type": "code",
      "source": [
        "c=len(l1)\n",
        "if c==0:\n",
        "  print(\"Empty List\")\n",
        "else:\n",
        "  print(\"non-empty list\")"
      ],
      "metadata": {
        "colab": {
          "base_uri": "https://localhost:8080/"
        },
        "id": "zxvQdsBOAIxB",
        "outputId": "8902216b-b97f-456a-932c-6aa56c9611e1"
      },
      "execution_count": null,
      "outputs": [
        {
          "output_type": "stream",
          "name": "stdout",
          "text": [
            "non-empty list\n"
          ]
        }
      ]
    },
    {
      "cell_type": "markdown",
      "source": [
        "9. Write a Python program to clone or copy a list."
      ],
      "metadata": {
        "id": "HQUhdxQRA7LD"
      }
    },
    {
      "cell_type": "code",
      "source": [
        "copy_l1 = l1.copy()\n",
        "copy_l1"
      ],
      "metadata": {
        "colab": {
          "base_uri": "https://localhost:8080/"
        },
        "id": "TwQokfdS_2-B",
        "outputId": "2315c598-7971-48ef-e798-2f846d9f3299"
      },
      "execution_count": null,
      "outputs": [
        {
          "output_type": "execute_result",
          "data": {
            "text/plain": [
              "[10, 20, 30, 40, 50, 60, 70]"
            ]
          },
          "metadata": {},
          "execution_count": 22
        }
      ]
    },
    {
      "cell_type": "markdown",
      "source": [
        "10. Write a Python program to find the list of words that are longer than n from a given list of words."
      ],
      "metadata": {
        "id": "u6Acb5U9nX7T"
      }
    },
    {
      "cell_type": "code",
      "source": [
        "l10 =  ['abc', 'xyz', 'aba', '1221','xy','ab','m','n','zzz']\n",
        "n = int(input(\"Enter an integer:\"))\n",
        "o10 = [x for x in l10 if len(x)>n]\n",
        "o10\n"
      ],
      "metadata": {
        "colab": {
          "base_uri": "https://localhost:8080/"
        },
        "id": "sUZa-n5snbGS",
        "outputId": "fd7f01ee-ff8f-4d14-d315-8298269c3d9a"
      },
      "execution_count": null,
      "outputs": [
        {
          "name": "stdout",
          "output_type": "stream",
          "text": [
            "Enter an integer:2\n"
          ]
        },
        {
          "output_type": "execute_result",
          "data": {
            "text/plain": [
              "['abc', 'xyz', 'aba', '1221', 'zzz']"
            ]
          },
          "metadata": {},
          "execution_count": 2
        }
      ]
    },
    {
      "cell_type": "markdown",
      "source": [
        "11. Write a Python function that takes two lists and returns True if they have at least one common member.\n"
      ],
      "metadata": {
        "id": "YwOxRC1TTHLS"
      }
    },
    {
      "cell_type": "code",
      "source": [
        "l1=[1,2,3,4,5]\n",
        "l2=[2,3,6,7,8]\n",
        "s1=set(l1)\n",
        "s2=set(l2)\n",
        "s1.intersection_update(s2)\n",
        "if len(s1)>= 1:\n",
        "  print(True)"
      ],
      "metadata": {
        "colab": {
          "base_uri": "https://localhost:8080/"
        },
        "id": "j1EX4oUvTlf0",
        "outputId": "81173539-ac2c-4585-de9d-d82bc3748f94"
      },
      "execution_count": null,
      "outputs": [
        {
          "output_type": "stream",
          "name": "stdout",
          "text": [
            "True\n"
          ]
        }
      ]
    },
    {
      "cell_type": "code",
      "source": [
        "l1=[1,2,3,4,5]\n",
        "l2=[2,3,6,7,8]\n",
        "s1=set(l1)\n",
        "s2=set(l2)\n",
        "if s1.isdisjoint(s2) == False:\n",
        "  print(\"True\")"
      ],
      "metadata": {
        "colab": {
          "base_uri": "https://localhost:8080/"
        },
        "id": "vqXKuVpOTxf_",
        "outputId": "4aa28457-d33d-4a11-cbb5-e9728f95a84d"
      },
      "execution_count": null,
      "outputs": [
        {
          "output_type": "stream",
          "name": "stdout",
          "text": [
            "True\n"
          ]
        }
      ]
    },
    {
      "cell_type": "markdown",
      "source": [
        "12. Write a Python program to print a specified list after removing the 0th, 4th and 5th elements.\n",
        "Sample List : ['Red', 'Green', 'White', 'Black', 'Pink', 'Yellow']\n",
        "Expected Output : ['Green', 'White', 'Black']"
      ],
      "metadata": {
        "id": "cetBUhZhBVFM"
      }
    },
    {
      "cell_type": "code",
      "source": [
        "l=[0,4,5]\n",
        "sample = [\"Red\",\"Green\",'White', 'Black', 'Pink', 'Yellow']\n",
        "l2 =[]\n",
        "for x in l:\n",
        "  l2.append(sample[x])\n",
        "for x in l2:\n",
        "  sample.remove(x)\n",
        "sample"
      ],
      "metadata": {
        "colab": {
          "base_uri": "https://localhost:8080/"
        },
        "id": "-C4JwGnnDUB2",
        "outputId": "e2cf779b-8c1b-4e58-d8d4-ae3bf93cce91"
      },
      "execution_count": null,
      "outputs": [
        {
          "output_type": "execute_result",
          "data": {
            "text/plain": [
              "['Green', 'White', 'Black']"
            ]
          },
          "metadata": {},
          "execution_count": 50
        }
      ]
    },
    {
      "cell_type": "code",
      "source": [
        "i=0\n",
        "sample.remove(sample[i])\n",
        "sample"
      ],
      "metadata": {
        "colab": {
          "base_uri": "https://localhost:8080/"
        },
        "id": "ZeZXDgwmJ96h",
        "outputId": "6bc6c0d5-8af0-4fe1-b16b-ade453b37c16"
      },
      "execution_count": null,
      "outputs": [
        {
          "output_type": "execute_result",
          "data": {
            "text/plain": [
              "['White', 'Black', 'Pink']"
            ]
          },
          "metadata": {},
          "execution_count": 31
        }
      ]
    },
    {
      "cell_type": "markdown",
      "source": [
        "\n",
        "13. Write a Python program to generate a 3*4*6 3D array whose each element is *."
      ],
      "metadata": {
        "id": "Kdx8nfQMpzjQ"
      }
    },
    {
      "cell_type": "markdown",
      "source": [
        "14. Write a Python program to print the numbers of a specified list after removing even numbers from it."
      ],
      "metadata": {
        "id": "g9Y0371OBdb1"
      }
    },
    {
      "cell_type": "code",
      "source": [
        "l14 = list(range(10))\n",
        "o14 = [ x for x in l14 if x%2 !=0]\n",
        "o14"
      ],
      "metadata": {
        "colab": {
          "base_uri": "https://localhost:8080/"
        },
        "id": "j7a_cLuhUeGR",
        "outputId": "903a9bf2-ec6d-42d4-a7c0-1d74194a764c"
      },
      "execution_count": null,
      "outputs": [
        {
          "output_type": "execute_result",
          "data": {
            "text/plain": [
              "[1, 3, 5, 7, 9]"
            ]
          },
          "metadata": {},
          "execution_count": 54
        }
      ]
    },
    {
      "cell_type": "markdown",
      "source": [
        "15. Write a Python program to shuffle and print a specified list."
      ],
      "metadata": {
        "id": "f3p69vGBUYs5"
      }
    },
    {
      "cell_type": "code",
      "source": [
        "l15 = list(range(15))\n",
        "import random\n",
        "random.shuffle(l15)\n",
        "l15"
      ],
      "metadata": {
        "colab": {
          "base_uri": "https://localhost:8080/"
        },
        "id": "u_uPmaiZUzBd",
        "outputId": "9ba2ec2b-1d03-4f9f-d613-02098b7b8bcb"
      },
      "execution_count": null,
      "outputs": [
        {
          "output_type": "execute_result",
          "data": {
            "text/plain": [
              "[8, 2, 5, 0, 10, 1, 6, 13, 4, 9, 12, 7, 11, 14, 3]"
            ]
          },
          "metadata": {},
          "execution_count": 5
        }
      ]
    },
    {
      "cell_type": "markdown",
      "source": [
        "16. Write a Python program to generate and print a list of the first and last 5 elements where the values are square numbers between 1 and 30 (both included)."
      ],
      "metadata": {
        "id": "jeQJLTSS6aSe"
      }
    },
    {
      "cell_type": "code",
      "source": [],
      "metadata": {
        "id": "KPgNSxU06nmN"
      },
      "execution_count": null,
      "outputs": []
    },
    {
      "cell_type": "markdown",
      "source": [
        "17. Write a Python program to check if each number is prime in a given list of numbers. Return True if all numbers are prime otherwise False.\n",
        "Sample Data:\n",
        "([0, 3, 4, 7, 9]) -> False\n",
        "([3, 5, 7, 13]) -> True\n",
        "([1, 5, 3]) -> False"
      ],
      "metadata": {
        "id": "Eb5vFJHU6rJJ"
      }
    },
    {
      "cell_type": "code",
      "source": [
        "l=[0,3,4,7,9]\n",
        "o =[]\n",
        "for x in l:\n",
        "  idx=2\n",
        "  while idx<x:\n",
        "    if x%idx == 0:\n",
        "      #print(\"True\")\n",
        "      o.append(1)\n",
        "      idx = idx+1\n",
        "    else:\n",
        "      #print(\"False\")\n",
        "      o.append(0)\n",
        "      idx =idx +1\n",
        "x = sum(o)\n",
        "if x !=0:\n",
        "  print(\"False\")\n",
        "else:\n",
        "  print(\"True\")"
      ],
      "metadata": {
        "id": "kcfbQokEBwcV",
        "colab": {
          "base_uri": "https://localhost:8080/",
          "height": 211
        },
        "outputId": "947a19ff-9986-4b1a-c307-8d9775b2f7b4"
      },
      "execution_count": null,
      "outputs": [
        {
          "output_type": "error",
          "ename": "KeyboardInterrupt",
          "evalue": "",
          "traceback": [
            "\u001b[0;31m---------------------------------------------------------------------------\u001b[0m",
            "\u001b[0;31mKeyboardInterrupt\u001b[0m                         Traceback (most recent call last)",
            "\u001b[0;32m<ipython-input-30-d3de01594a18>\u001b[0m in \u001b[0;36m<cell line: 3>\u001b[0;34m()\u001b[0m\n\u001b[1;32m      3\u001b[0m \u001b[0;32mfor\u001b[0m \u001b[0mx\u001b[0m \u001b[0;32min\u001b[0m \u001b[0ml\u001b[0m\u001b[0;34m:\u001b[0m\u001b[0;34m\u001b[0m\u001b[0;34m\u001b[0m\u001b[0m\n\u001b[1;32m      4\u001b[0m   \u001b[0midx\u001b[0m\u001b[0;34m=\u001b[0m\u001b[0;36m2\u001b[0m\u001b[0;34m\u001b[0m\u001b[0;34m\u001b[0m\u001b[0m\n\u001b[0;32m----> 5\u001b[0;31m   \u001b[0;32mwhile\u001b[0m \u001b[0midx\u001b[0m\u001b[0;34m<\u001b[0m\u001b[0mx\u001b[0m\u001b[0;34m:\u001b[0m\u001b[0;34m\u001b[0m\u001b[0;34m\u001b[0m\u001b[0m\n\u001b[0m\u001b[1;32m      6\u001b[0m     \u001b[0;32mif\u001b[0m \u001b[0mx\u001b[0m\u001b[0;34m%\u001b[0m\u001b[0midx\u001b[0m \u001b[0;34m==\u001b[0m \u001b[0;36m0\u001b[0m\u001b[0;34m:\u001b[0m\u001b[0;34m\u001b[0m\u001b[0;34m\u001b[0m\u001b[0m\n\u001b[1;32m      7\u001b[0m       \u001b[0;31m#print(\"True\")\u001b[0m\u001b[0;34m\u001b[0m\u001b[0;34m\u001b[0m\u001b[0m\n",
            "\u001b[0;31mKeyboardInterrupt\u001b[0m: "
          ]
        }
      ]
    },
    {
      "cell_type": "markdown",
      "source": [
        "18. Write a Python program to generate all permutations of a list in Python.\n",
        "[Hint use library function]"
      ],
      "metadata": {
        "id": "pyWEw2z46xfY"
      }
    },
    {
      "cell_type": "markdown",
      "source": [
        "\n",
        "19. Write a Python program to calculate the difference between the two lists.\n",
        "ex.\n",
        "l1=[1,4,7,8]\n",
        "l2=[2,5,7,23]\n",
        "ans => total difference is 17\n",
        "explaination:\n",
        "first element diff 1\n",
        "second element diff 1\n",
        "third element diff 0\n",
        "fourth element diff 15"
      ],
      "metadata": {
        "id": "CSLj4Oz363wJ"
      }
    },
    {
      "cell_type": "code",
      "source": [
        "l1 = [1,4,7,8]\n",
        "l2 = [2,5,7,23]\n",
        "l3 = list(zip(l1,l2))\n",
        "sum = 0\n",
        "for i in l3:\n",
        "  x = abs(i[0] - i[1])\n",
        "  sum = sum + x\n",
        "print(sum)"
      ],
      "metadata": {
        "colab": {
          "base_uri": "https://localhost:8080/"
        },
        "id": "yUhix6sI65Lp",
        "outputId": "ee074b17-2b02-4630-a757-820f50f46d03"
      },
      "execution_count": null,
      "outputs": [
        {
          "output_type": "stream",
          "name": "stdout",
          "text": [
            "17\n"
          ]
        }
      ]
    },
    {
      "cell_type": "markdown",
      "source": [
        "20. Write a Python program to access element at given index of a list."
      ],
      "metadata": {
        "id": "Mi0X7I_l8OOW"
      }
    },
    {
      "cell_type": "code",
      "source": [
        "l = [0,4,5]\n",
        "str = \"VIBGYOR\"\n",
        "l2 = list(str)\n",
        "for i in l:\n",
        "  print(l2[i])\n"
      ],
      "metadata": {
        "colab": {
          "base_uri": "https://localhost:8080/"
        },
        "id": "kDzNGTYL8VGf",
        "outputId": "7e512d09-20e1-4082-9ede-d481ed71f77a"
      },
      "execution_count": null,
      "outputs": [
        {
          "output_type": "stream",
          "name": "stdout",
          "text": [
            "V\n",
            "Y\n",
            "O\n"
          ]
        }
      ]
    },
    {
      "cell_type": "markdown",
      "source": [
        "21. Write a Python program to convert a list of characters into a string."
      ],
      "metadata": {
        "id": "bzv4mFof8UNo"
      }
    },
    {
      "cell_type": "code",
      "source": [
        "print(l2)\n",
        "str1 = \"\"\n",
        "str1 =str1.join(l2)\n",
        "print(str1)"
      ],
      "metadata": {
        "colab": {
          "base_uri": "https://localhost:8080/"
        },
        "id": "C-_0mFpq8-5M",
        "outputId": "7d2629d8-d128-4827-87b3-f349bdd4fbf3"
      },
      "execution_count": null,
      "outputs": [
        {
          "output_type": "stream",
          "name": "stdout",
          "text": [
            "['V', 'I', 'B', 'G', 'Y', 'O', 'R']\n",
            "VIBGYOR\n"
          ]
        }
      ]
    },
    {
      "cell_type": "markdown",
      "source": [
        "22. Write a Python program to find the index of an item in a specified list."
      ],
      "metadata": {
        "id": "ro-iaP3c9-eL"
      }
    },
    {
      "cell_type": "code",
      "source": [
        "print(l2)\n",
        "x=\"V\"\n",
        "print(l2.index(x))"
      ],
      "metadata": {
        "colab": {
          "base_uri": "https://localhost:8080/"
        },
        "id": "M_Rw0W9R9_fw",
        "outputId": "dead4442-6055-49f4-cd0f-dd4779da84cb"
      },
      "execution_count": null,
      "outputs": [
        {
          "output_type": "stream",
          "name": "stdout",
          "text": [
            "['V', 'I', 'B', 'G', 'Y', 'O', 'R']\n",
            "0\n"
          ]
        }
      ]
    },
    {
      "cell_type": "code",
      "source": [
        "print(l2)\n",
        "print(l2.index(\"G\"))"
      ],
      "metadata": {
        "colab": {
          "base_uri": "https://localhost:8080/"
        },
        "id": "q2mhdNu8-QKy",
        "outputId": "e24d4dd2-e0bb-4c8e-87d0-1def012665ce"
      },
      "execution_count": null,
      "outputs": [
        {
          "output_type": "stream",
          "name": "stdout",
          "text": [
            "['V', 'I', 'B', 'G', 'Y', 'O', 'R']\n",
            "3\n"
          ]
        }
      ]
    },
    {
      "cell_type": "markdown",
      "source": [
        "\n",
        "23. Write a Python program to flatten a simple list."
      ],
      "metadata": {
        "id": "eK3vCydr-fjv"
      }
    },
    {
      "cell_type": "markdown",
      "source": [
        "24. Write a Python program to append all elements from a list to the second list.\n"
      ],
      "metadata": {
        "id": "KpS6h3S1-j9Q"
      }
    },
    {
      "cell_type": "code",
      "source": [
        "print(l)\n",
        "print(l2)\n",
        "l.extend(l2)\n",
        "print(l)"
      ],
      "metadata": {
        "colab": {
          "base_uri": "https://localhost:8080/"
        },
        "id": "4ftE6BXnBWs4",
        "outputId": "311567ea-80a3-49a2-f2cc-40ab50ef371b"
      },
      "execution_count": null,
      "outputs": [
        {
          "output_type": "stream",
          "name": "stdout",
          "text": [
            "[0, 4, 5]\n",
            "[1, 2, 3, 4, 5]\n",
            "[0, 4, 5, 1, 2, 3, 4, 5]\n"
          ]
        }
      ]
    },
    {
      "cell_type": "markdown",
      "source": [
        "25. Write a Python program to select an item randomly from a list. ( use randint function from random library)"
      ],
      "metadata": {
        "id": "XH6KgrEe-nzF"
      }
    },
    {
      "cell_type": "code",
      "source": [
        "import random\n",
        "l2=[1,2,3,4,5]\n",
        "print(random.choice(l2))"
      ],
      "metadata": {
        "colab": {
          "base_uri": "https://localhost:8080/"
        },
        "id": "syRufpJO-5OZ",
        "outputId": "a31c09c1-6fbe-4839-b52f-4ed3838742c9"
      },
      "execution_count": null,
      "outputs": [
        {
          "output_type": "stream",
          "name": "stdout",
          "text": [
            "4\n"
          ]
        }
      ]
    },
    {
      "cell_type": "markdown",
      "source": [
        "26. Write a Python program to check whether two lists are circularly identical.\n",
        "Ex.\n",
        "l1=[1,2,3,4]\n",
        "l2=[2,3,4,1]\n",
        "l3=[4,1,2,3]\n",
        "l4=[3,4,1,2]\n",
        "all l1, l2, l3 and l4 are circularly same\n",
        "\n",
        "\n",
        "27. Write a Python program to find the second smallest number in a list.\n",
        "\n",
        "\n",
        "28. Write a Python program to find the second largest number in a list.\n",
        "\n",
        "\n",
        "29. Write a Python program to get unique values from a list.\n",
        "\n",
        "\n",
        "30. Write a Python program to get the frequency of every element in a list.\n",
        "\n",
        "\n",
        "31. Write a Python program to count the number of elements in a list within a specified slice ( range) of start and end index.\n",
        "\n",
        "\n",
        "32. Write a Python program to check whether a list contains a sublist. ( all elements from one list are present in other list)\n",
        "Ex.\n",
        "l1=[5,7,9,12]\n",
        "l2=[7,9]\n",
        "l2 is sublist of l1 --> print True\n",
        "l3=[12,7]\n",
        "l3 is sublist of l1\n",
        "\n",
        "**33. Write a Python program to generate all sublists of a list.\n",
        "\n",
        "\n",
        "**34. Write a Python program that uses the Sieve of Eratosthenes method to compute prime numbers up to a specified number.\n",
        "Note: In mathematics, the sieve of Eratosthenes, (Ancient Greek: κόσκινον Ἐρατοσθένους, kóskinon Eratosthénous) one of a number of prime number sieves, is a simple, ancient algorithm for finding all prime numbers up to any given limit.\n",
        "\n",
        "\n",
        "35. Write a Python program to create a list by concatenating a given list with a range from 1 to n.\n",
        "Sample list : ['p', 'q']\n",
        "n =5\n",
        "Sample Output : ['p1', 'q1', 'p2', 'q2', 'p3', 'q3', 'p4', 'q4', 'p5', 'q5']\n",
        "\n",
        "\n",
        "36. Write a Python program to make list of all digits from given number\n",
        "\n",
        "\n",
        "37. Write a Python program to find common items in two lists.\n",
        "\n",
        "\n",
        "38. Write a Python program to change the position of every two consecutive elements n-th value to the (n+1)th in a list. ( swap nth and n+1 th value)\n",
        "Sample list: [0,1,2,3,4,5]\n",
        "Expected Output: [1, 0, 3, 2, 5, 4]\n",
        "Explaination: here we have swapped\n",
        "0 -1 , 2-3 , 4-5\n",
        "\n",
        "39. Write a Python program to convert a list of multiple integers into a single integer.\n",
        "Sample list: [11, 33, 50]\n",
        "Expected Output: 113350\n",
        "ex2:  l1=[8,9,0]\n",
        "output : 890\n",
        "\n",
        "\n",
        "40. Write a Python program to split a list of words based on the first character of a word.\n",
        "if first character is vowel then put that word in l1 else put that word in l2.\n",
        "Ex.\n",
        "words=['abc','xyz','op','qwe']\n",
        "l1=['abc','op']\n",
        "l2=['xyz','qwe']\n",
        "\n",
        "41. Write a Python program to check if given list contains another list object or not.\n",
        "Ex. l1=[10,20,30]\n",
        "output: no list object inside l1\n",
        "\n",
        "l2=[10,20,[45,67]]\n",
        "output: there is list object inside l2\n",
        "Here [45,67] is list object inside l2\n",
        "\n",
        "42. Write a Python program to find missing and additional values in two lists.\n",
        "Sample data :\n",
        "first=['b','a','c','d','e','f']\n",
        "second=['d','e','f','g','h']\n",
        "Missing values in second list: ['b','a','c']\n",
        "Additional values in second list: ['g','h']\n",
        "\n",
        "\n",
        "43. Write a Python program to split a list into different variables from center.\n",
        "Ex.\n",
        "l1=[12,23,34,45,56,67]\n",
        "first=[12,23,34]\n",
        "second=[45,56,67]\n",
        "\n",
        "l2=[12,23,34,45,56,67,99]\n",
        "first=[12,23,34]\n",
        "second=[45,56,67,99]\n",
        "\n",
        "\n",
        "44. Write a Python program to generate groups of three consecutive numbers in a list.\n",
        "l1=[1,2,3,4,5,6,7,8,9,10]\n",
        "Ans\n",
        "[1,2,3], [2,3,4], [3,4,5], [6,7,8], [7,8,9], [8,9,10]\n",
        "\n",
        "45. Write a Python program to take a list. Find all unique values. Then print all unique values in sorted order.\n",
        "\n",
        "46. Write a Python program to select the odd elements from a list into new list.\n",
        "\n",
        "\n",
        "47. Write a Python program to insert an element before each element of a list.\n",
        "Ex. l1=[1,2,3]\n",
        "insert 10 before every element\n",
        "o/p  [10,1,10,2,10,3]\n",
        "\n",
        "48. Write a Python program to print nested lists (each list on a new line) using the print() function.\n",
        "l1=[[1,2,3],[4,5,6],[7,8]]\n",
        "[1,2,3]\n",
        "[4,5,6]\n",
        "[7,8]\n",
        "\n",
        "**49. Write a Python program to convert a list to a list of dictionaries. ( Hint: this is part of creating dictionaries)\n",
        "Sample lists: [\"Black\", \"Red\", \"Maroon\", \"Yellow\"], [\"#000000\", \"#FF0000\", \"#800000\", \"#FFFF00\"]\n",
        "Expected Output: [{'color_name': 'Black', 'color_code': '#000000'}, {'color_name': 'Red', 'color_code': '#FF0000'}, {'color_name': 'Maroon', 'color_code': '#800000'}, {'color_name': 'Yellow', 'color_code': '#FFFF00'}]\n",
        "\n",
        "\n",
        "**50. Write a Python program to sort a list of nested dictionaries.\n",
        "\n",
        "\n",
        "51. Write a Python program to split a list every Nth element.\n",
        "Sample list:\n",
        "l1=['a', 'b', 'c', 'd', 'e', 'f', 'g', 'h', 'i', 'j', 'k', 'l', 'm', 'n']\n",
        "n=5\n",
        "Expected Output: [['a', 'd', 'g', 'j', 'm'], ['b', 'e', 'h', 'k', 'n'], ['c', 'f', 'i', 'l']]\n",
        "\n",
        "\n",
        "52. Write a Python program to compute the difference between two lists.\n",
        "Sample data:\n",
        "color1 = [\"white\", \"red\", \"orange\", \"green\", \"blue\"]\n",
        "color2=[\"black\", \"yellow\", \"green\", \"blue\"]\n",
        "\n",
        "Expected Output:\n",
        "Color1 - Color2: ['white', 'red', 'orange']\n",
        "In color1, white, red and orange colors are there which are extra than color2\n",
        "\n",
        "Color2 - Color1: ['black', 'yellow']\n",
        "In color2, black and yellow colors are there which are extra than color2\n",
        "\n",
        "\n",
        "**53. Write a Python program to create a list with infinite elements.(this is part of generator function)\n",
        "\n",
        "54. Write a Python program to concatenate elements of a given list to another list.\n",
        "\n",
        "\n",
        "**55. Write a Python program to remove key-value pairs from a list of dictionaries.\n",
        "\n",
        "\n",
        "56. Write a Python program to convert a string to a list.\n",
        "\n",
        "\n",
        "57. Write a Python program to count how many times a word comes in given list of words.\n",
        "Ex\n",
        "word = \"cdac\"\n",
        "word_list=[\"cadc\",\"cdac\",\"iop\",\"lkjh\",\"cdac\"]\n",
        "\n",
        "58. Write a Python program to replace the last element in a list with another list.\n",
        "Sample data : [1, 3, 5, 7, 9, 10], [2, 4, 6, 8]\n",
        "Expected Output: [1, 3, 5, 7, 9, 2, 4, 6, 8]\n",
        "\n",
        "\n",
        "59. Write a Python program to check whether the n-th element exists in a given list. Dont give error if n is out of bounds, print out of bounds message.\n",
        "Ex.\n",
        "l1=[90,98,87,76,65]\n",
        "n=1 o/p: exists ( explaination l1[1] exists)\n",
        "n=10 o/p: out of bound index\n",
        "\n",
        "**60. Write a Python program to find a tuple, the smallest second index value from a list of tuples.\n",
        "\n",
        "\n",
        "**61. Write a Python program to create a list of empty dictionaries.\n",
        "\n",
        "\n",
        "**62. Write a Python program to print a list of space-separated elements.\n",
        "\n",
        "\n",
        "63. Write a Python program to insert a given string at the beginning of all items in a list.\n",
        "Sample list : [1,2,3,4], string : emp\n",
        "Expected output : ['emp1', 'emp2', 'emp3', 'emp4']\n",
        "\n",
        "\n",
        "64. Write a Python program to iterate over two lists simultaneously.\n",
        "ex.\n",
        "l1=[2,4,7]\n",
        "l2=[12,45,67]\n",
        "output:\n",
        "2  12\n",
        "4  45\n",
        "7  67\n",
        "\n",
        "65. Write a Python program to move all zero digits to the end of a given list of numbers.\n",
        "\n",
        "Original list:\n",
        "[3, 4, 0, 0, 0, 6, 2, 0, 6, 7, 6, 0, 0, 0, 9, 10, 7, 4, 4, 5, 3, 0, 0, 2, 9, 7, 1]\n",
        "Expected output:\n",
        "Move all zero digits to end of the said list of numbers:\n",
        "[3, 4, 6, 2, 6, 7, 6, 9, 10, 7, 4, 4, 5, 3, 2, 9, 7, 1, 0, 0, 0, 0, 0, 0, 0, 0, 0]\n",
        "\n",
        "\n",
        "66. Write a Python program to find the list in a list of lists whose sum of elements is the highest.\n",
        "Sample list:\n",
        "l1=[[1,2,3], [4,5,6], [10,11,12], [7,8,9]]\n",
        "Expected Output: [10, 11, 12]\n",
        "\n",
        "\n",
        "67. Write a Python program to find all the values in a list that are greater than a specified number.\n",
        "\n",
        "\n",
        "68. Write a Python program to extend a list\n",
        "a. using append function\n",
        "b. without append function ( hint use slice syntax)\n",
        "Sample data:\n",
        "l1= [10, 20, 30]\n",
        "l2= [40, 50, 60]\n",
        "Expected output : [40, 50, 60, 10, 20, 30]\n",
        "\n",
        "\n",
        "69. Write a Python program to remove duplicates from a list of lists.\n",
        "Sample list : [[10, 20], [40], [30, 56, 25], [10, 20], [33], [40]]\n",
        "New List : [[10, 20], [30, 56, 25], [33], [40]]\n",
        "\n",
        "\n",
        "70. Write a Python program to find items starting with a specific character from a list.\n",
        "Example:\n",
        "Original list:\n",
        "['abcd', 'abc', 'bcd', 'bkie', 'cder', 'cdsw', 'sdfsd', 'dagfa', 'acjd']\n",
        "Items start with a from the said list:\n",
        "['abcd', 'abc', 'acjd']\n",
        "Items start with d from the said list:\n",
        "['dagfa']\n",
        "Items start with w from the said list:\n",
        "[]\n",
        "\n",
        "\n",
        "**71. Write a Python program to check whether all dictionaries in a list are empty or not.\n",
        "Sample list : [{},{},{}]\n",
        "Return value : True\n",
        "Sample list : [{1,2},{},{}]\n",
        "Return value : False\n",
        "\n",
        "\n",
        "72. Write a Python program to flatten a given nested list structure.\n",
        "Original list: [0, 10, [20, 30], 40, 50, [60, 70, 80], [90, 100, 110, 120]]\n",
        "Flatten list:\n",
        "[0, 10, 20, 30, 40, 50, 60, 70, 80, 90, 100, 110, 120]\n",
        "\n",
        "\n",
        "73. Write a Python program to remove consecutive (following each other continuously) duplicates (elements) from a given list.\n",
        "Original list:\n",
        "[0, 0, 1, 2, 3, 4, 4, 5, 6, 6, 6, 7, 8, 9, 4, 4]\n",
        "After removing consecutive duplicates:\n",
        "[0, 1, 2, 3, 4, 5, 6, 7, 8, 9, 4]\n",
        "\n",
        "\n",
        "74. Write a Python program to pack consecutive duplicates of a given list of elements into sublists.\n",
        "Original list:\n",
        "[0, 0, 1, 2, 3, 4, 4, 5, 6, 6, 6, 7, 8, 9, 4, 4]\n",
        "After packing consecutive duplicates of the said list elements into sublists:\n",
        "[[0, 0], [1], [2], [3], [4, 4], [5], [6, 6, 6], [7], [8], [9], [4, 4]]\n",
        "\n",
        "\n",
        "75. Write a Python program to create a list reflecting the run-length encoding from a given list of integers or a given list of characters.\n",
        "Original list:\n",
        "[1, 1, 2, 3, 4, 4.3, 5, 1]\n",
        "List reflecting the run-length encoding from the said list:\n",
        "[[2, 1], [1, 2], [1, 3], [1, 4], [1, 4.3], [1, 5], [1, 1]]\n",
        "Original list:\n",
        "['a','u','t','o','m','a','t','i','c','a','l','l','y']\n",
        "List reflecting the run-length encoding from the said string:\n",
        "[[1, 'a'], [1, 'u'], [1, 't'], [1, 'o'], [1, 'm'], [1, 'a'], [1, 't'], [1, 'i'], [1, 'c'], [1, 'a'], [2, 'l'], [1, 'y']]\n",
        "\n",
        "\n",
        "76. Write a Python program to create a list reflecting the modified run-length encoding from a given list of integers or a given list of characters.\n",
        "Original list:\n",
        "[1, 1, 2, 3, 4, 4, 5, 1]\n",
        "List reflecting the modified run-length encoding from the said list:\n",
        "[[2, 1], 2, 3, [2, 4], 5, 1]\n",
        "Original String:\n",
        "aabcddddadnss\n",
        "List reflecting the modified run-length encoding from the said string:\n",
        "[[2, 'a'], 'b', 'c', [4, 'd'], 'a', 'd', 'n', [2, 's']]\n",
        "\n",
        "\n",
        "77. Write a Python program to decode a run-length message.\n",
        "Original encoded list:\n",
        "[[2, 1], 2, 3, [2, 4], 5, 1]\n",
        "Decode a run-length encoded said list:\n",
        "[1, 1, 2, 3, 4, 4, 5, 1]\n",
        "\n",
        "\n",
        "78. Write a Python program to split a given list into two parts where the length of the first part of the list is given.\n",
        "Original list:\n",
        "[1, 1, 2, 3, 4, 4, 5, 1]\n",
        "Length of the first part of the list: 3\n",
        "Splited the said list into two parts:\n",
        "([1, 1, 2], [3, 4, 4, 5, 1])\n",
        "\n",
        "\n",
        "79. Write a Python program to remove the K'th element from a given list, and print the updated list.\n",
        "Original list:\n",
        "[1, 1, 2, 3, 4, 4, 5, 1]\n",
        "After removing an element at the kth position of the said list:\n",
        "[1, 1, 3, 4, 4, 5, 1]\n",
        "\n",
        "\n",
        "80. Write a Python program to insert an element at a specified position into a given list.\n",
        "Original list:\n",
        "[1, 1, 2, 3, 4, 4, 5, 1]\n",
        "After inserting an element at kth position in the said list:\n",
        "[1, 1, 12, 2, 3, 4, 4, 5, 1]\n",
        "\n",
        "\n",
        "81. Write a Python program to extract a given number of randomly selected elements from a given list.\n",
        "Original list:\n",
        "[1, 1, 2, 3, 4, 4, 5, 1]\n",
        "Selected 3 random numbers of the above list:\n",
        "[4, 4, 1]\n",
        "\n",
        "\n",
        "82. Write a Python program to generate combinations of n distinct objects taken from the elements of a given list.\n",
        "Original list: [1, 2, 3, 4, 5, 6, 7, 8, 9] Combinations of 2 distinct objects: [1, 2] [1, 3] [1, 4] [1, 5] .... [7, 8] [7, 9] [8, 9]\n",
        "\n",
        "\n",
        "83. Write a Python program to round every number in a given list of numbers and print the total sum multiplied by the length of the list.\n",
        "Original list: [22.4, 4.0, -16.22, -9.1, 11.0, -12.22, 14.2, -5.2, 17.5]\n",
        "Result:\n",
        "243\n",
        "\n",
        "\n",
        "84. Write a Python program to round the numbers in a given list, print the minimum and maximum numbers and multiply the numbers by 5. Print the unique numbers in ascending order separated by space.\n",
        "Original list: [22.4, 4.0, 16.22, 9.1, 11.0, 12.22, 14.2, 5.2, 17.5]\n",
        "Minimum value: 4\n",
        "Maximum value: 22\n",
        "Result:\n",
        "20 25 45 55 60 70 80 90 110\n",
        "\n",
        "\n",
        "85. Write a Python program to create a multidimensional list (lists of lists) with zeros.\n",
        "Multidimensional list: [[0, 0], [0, 0], [0, 0]]\n",
        "\n",
        "\n",
        "86. Write a Python program to create a 3X3 grid with numbers.\n",
        "3X3 grid with numbers:\n",
        "[[1, 2, 3], [1, 2, 3], [1, 2, 3]]\n",
        "\n",
        "\n",
        "87. Write a Python program to read a matrix from the console and print the sum for each column. As input from the user, accept matrix rows, columns, and elements separated by a space (each row).\n",
        "Input rows: 2\n",
        "Input columns: 2\n",
        "Input number of elements in a row (1, 2, 3):\n",
        "1 2\n",
        "3 4\n",
        "sum for each column:\n",
        "4 6\n",
        "\n",
        "\n",
        "88. Write a Python program to read a square matrix from the console and print the sum of the matrix's primary diagonal. Accept the size of the square matrix and elements for each column separated with a space (for every row) as input from the user.\n",
        "Input the size of the matrix: 3\n",
        "2 3 4\n",
        "4 5 6\n",
        "3 4 7\n",
        "Sum of matrix primary diagonal:\n",
        "14\n",
        "\n",
        "\n",
        "89. Write a Python program to Zip two given lists of lists.\n",
        "Original lists:\n",
        "[[1, 3], [5, 7], [9, 11]]\n",
        "[[2, 4], [6, 8], [10, 12, 14]]\n",
        "Zipped list:\n",
        "[[1, 3, 2, 4], [5, 7, 6, 8], [9, 11, 10, 12, 14]]\n",
        "\n",
        "\n",
        "90. Write a Python program to count the number of lists in a given list of lists.\n",
        "Original list:\n",
        "[[1, 3], [5, 7], [9, 11], [13, 15, 17]]\n",
        "Number of lists in said list of lists:\n",
        "4\n",
        "Original list:\n",
        "[[2, 4], [[6, 8], [4, 5, 8]], [10, 12, 14]]\n",
        "Number of lists in said list of lists:\n",
        "3\n",
        "\n",
        "\n",
        "91. Write a Python program to find a list with maximum and minimum lengths.\n",
        "Original list:\n",
        "[[0], [1, 3], [5, 7], [9, 11], [13, 15, 17]]\n",
        "List with maximum length of lists:\n",
        "(3, [13, 15, 17])\n",
        "List with minimum length of lists:\n",
        "(1, [0])\n",
        "Original list:\n",
        "[[0], [1, 3], [5, 7], [9, 11], [3, 5, 7]]\n",
        "List with maximum length of lists:\n",
        "(3, [3, 5, 7])\n",
        "List with minimum length of lists:\n",
        "(1, [0])\n",
        "Original list:\n",
        "[[12], [1, 3], [1, 34, 5, 7], [9, 11], [3, 5, 7]]\n",
        "List with maximum length of lists:\n",
        "(4, [1, 34, 5, 7])\n",
        "List with minimum length of lists:\n",
        "(1, [12])\n",
        "\n",
        "\n",
        "92. Write a Python program to check if a nested list is a subset of another nested list.\n",
        "Original list:\n",
        "[[1, 3], [5, 7], [9, 11], [13, 15, 17]]\n",
        "[[1, 3], [13, 15, 17]]\n",
        "If the one of the said list is a subset of another.:\n",
        "True\n",
        "Original list:\n",
        "[[[1, 2], [2, 3]], [[3, 4], [5, 6]]]\n",
        "[[[3, 4], [5, 6]]]\n",
        "If the one of the said list is a subset of another.:\n",
        "True\n",
        "Original list:\n",
        "[[[1, 2], [2, 3]], [[3, 4], [5, 7]]]\n",
        "[[[3, 4], [5, 6]]]\n",
        "If the one of the said list is a subset of another.:\n",
        "False\n",
        "\n",
        "\n",
        "93. Write a Python program to count the number of sublists that contain a particular element.\n",
        "Original list:\n",
        "[[1, 3], [5, 7], [1, 11], [1, 15, 7]]\n",
        "Count 1 in the said list:\n",
        "3\n",
        "Count 7 in the said list:\n",
        "2\n",
        "Original list:\n",
        "[['A', 'B'], ['A', 'C'], ['A', 'D', 'E'], ['B', 'C', 'D']]\n",
        "Count 'A' in the said list:\n",
        "3\n",
        "Count 'E' in the said list:\n",
        "1\n",
        "\n",
        "\n",
        "94. Write a Python program to count the number of unique sublists within a given list.\n",
        "Original list:\n",
        "[[1, 3], [5, 7], [1, 3], [13, 15, 17], [5, 7], [9, 11]]\n",
        "Number of unique lists of the said list:\n",
        "{(1, 3): 2, (5, 7): 2, (13, 15, 17): 1, (9, 11): 1}\n",
        "Original list:\n",
        "[['green', 'orange'], ['black'], ['green', 'orange'], ['white']]\n",
        "Number of unique lists of the said list:\n",
        "{('green', 'orange'): 2, ('black',): 1, ('white',): 1}\n",
        "\n",
        "\n",
        "95. Write a Python program to sort each sublist of strings in a given list of lists.\n",
        "Original list:\n",
        "[[2], [0], [1, 3], [0, 7], [9, 11], [13, 15, 17]]\n",
        "Sort the list of lists by length and value:\n",
        "[[0], [2], [0, 7], [1, 3], [9, 11], [13, 15, 17]]\n",
        "\n",
        "\n",
        "96. Write a Python program to sort a given list of lists by length and value.\n",
        "Original list:\n",
        "[[2], [0], [1, 3], [0, 7], [9, 11], [13, 15, 17]]\n",
        "Sort the list of lists by length and value:\n",
        "[[0], [2], [0, 7], [1, 3], [9, 11], [13, 15, 17]]\n",
        "\n",
        "\n",
        "97. Write a Python program to remove sublists from a given list of lists that contain an element outside a given range.\n",
        "Original list:\n",
        "[[2], [0], [1, 2, 3], [0, 1, 2, 3, 6, 7], [9, 11], [13, 14, 15, 17]]\n",
        "After removing sublists from a given list of lists, which contains an element outside the given range:\n",
        "[[13, 14, 15, 17]]\n",
        "\n",
        "\n",
        "98. Write a Python program to scramble the letters of a string in a given list.\n",
        "Original list:\n",
        "['Python', 'list', 'exercises', 'practice', 'solution']\n",
        "After scrambling the letters of the strings of the said list:\n",
        "['tnPhyo', 'tlis', 'ecrsseiex', 'ccpitear', 'noiltuos']\n",
        "\n",
        "\n",
        "99. Write a Python program to find the maximum and minimum values in a given heterogeneous list.\n",
        "Original list:\n",
        "['Python', 3, 2, 4, 5, 'version']\n",
        "Maximum and Minimum values in the said list:\n",
        "(5, 2)\n",
        "\n",
        "\n",
        "100. Write a Python program to extract common index elements from more than one given list.\n",
        "Original lists:\n",
        "[1, 1, 3, 4, 5, 6, 7]\n",
        "[0, 1, 2, 3, 4, 5, 7]\n",
        "[0, 1, 2, 3, 4, 5, 7]\n",
        "Common index elements of the said lists:\n",
        "[1, 7]\n",
        "\n",
        "\n",
        "101. Write a Python program to sort a given matrix in ascending order according to the sum of its rows.\n",
        "Original Matrix:\n",
        "[[1, 2, 3], [2, 4, 5], [1, 1, 1]]\n",
        "Sort the said matrix in ascending order according to the sum of its rows\n",
        "[[1, 1, 1], [1, 2, 3], [2, 4, 5]]\n",
        "Original Matrix:\n",
        "[[1, 2, 3], [-2, 4, -5], [1, -1, 1]]\n",
        "Sort the said matrix in ascending order according to the sum of its rows\n",
        "[[-2, 4, -5], [1, -1, 1], [1, 2, 3]]\n",
        "\n",
        "\n",
        "102. Write a Python program to extract specified size of strings from a give list of string values.\n",
        "Original list:\n",
        "['Python', 'list', 'exercises', 'practice', 'solution']\n",
        "length of the string to extract:\n",
        "8\n",
        "After extracting strings of specified length from the said list:\n",
        "['practice', 'solution']\n",
        "\n",
        "\n",
        "103. Write a Python program to extract specified number of elements from a given list, which follows each other continuously.\n",
        "Original list:\n",
        "[1, 1, 3, 4, 4, 5, 6, 7]\n",
        "Extract 2 number of elements from the said list which follows each other continuously:\n",
        "[1, 4]\n",
        "Original lists:\n",
        "[0, 1, 2, 3, 4, 4, 4, 4, 5, 7]\n",
        "Extract 4 number of elements from the said list which follows each other continuously:\n",
        "[4]\n",
        "\n",
        "\n",
        "104. Write a Python program to find the difference between consecutive numbers in a given list.\n",
        "Original list:\n",
        "[1, 1, 3, 4, 4, 5, 6, 7]\n",
        "Difference between consecutive numbers of the said list:\n",
        "[0, 2, 1, 0, 1, 1, 1]\n",
        "Original list:\n",
        "[4, 5, 8, 9, 6, 10]\n",
        "Difference between consecutive numbers of the said list:\n",
        "[1, 3, 1, -3, 4]\n",
        "\n",
        "\n",
        "105. Write a Python program to compute average of two given lists.\n",
        "Original list:\n",
        "[1, 1, 3, 4, 4, 5, 6, 7]\n",
        "[0, 1, 2, 3, 4, 4, 5, 7, 8]\n",
        "Average of two lists:\n",
        "3.823529411764706\n",
        "\n",
        "\n",
        "106. Write a Python program to count integers in a given mixed list.\n",
        "Original list:\n",
        "[1, 'abcd', 3, 1.2, 4, 'xyz', 5, 'pqr', 7, -5, -12.22]\n",
        "Number of integers in the said mixed list:\n",
        "6\n",
        "\n",
        "\n",
        "107. Write a Python program to remove a specified column from a given nested list.\n",
        "Original Nested list:\n",
        "[[1, 2, 3], [2, 4, 5], [1, 1, 1]]\n",
        "After removing 1st column:\n",
        "[[2, 3], [4, 5], [1, 1]]\n",
        "Original Nested list:\n",
        "[[1, 2, 3], [-2, 4, -5], [1, -1, 1]]\n",
        "After removing 3rd column:\n",
        "[[1, 2], [-2, 4], [1, -1]]\n",
        "\n",
        "\n",
        "108. Write a Python program to extract a specified column from a given nested list.\n",
        "Original Nested list:\n",
        "[[1, 2, 3], [2, 4, 5], [1, 1, 1]]\n",
        "Extract 1st column:\n",
        "[1, 2, 1]\n",
        "Original Nested list:\n",
        "[[1, 2, 3], [-2, 4, -5], [1, -1, 1]]\n",
        "Extract 3rd column:\n",
        "[3, -5, 1]\n",
        "\n",
        "\n",
        "109. Write a Python program to rotate a given list by a specified number of items in the right or left direction.\n",
        "original List:\n",
        "[1, 2, 3, 4, 5, 6, 7, 8, 9, 10]\n",
        "Rotate the said list in left direction by 4:\n",
        "[4, 5, 6, 7, 8, 9, 10, 1, 2, 3, 4]\n",
        "Rotate the said list in left direction by 2:\n",
        "[3, 4, 5, 6, 7, 8, 9, 10, 1, 2]\n",
        "Rotate the said list in Right direction by 4:\n",
        "[8, 9, 10, 1, 2, 3, 4, 5, 6]\n",
        "Rotate the said list in Right direction by 2:\n",
        "[9, 10, 1, 2, 3, 4, 5, 6, 7, 8]\n",
        "\n",
        "\n",
        "110. Write a Python program to find the item with the most occurrences in a given list.\n",
        "Original list:\n",
        "[2, 3, 8, 4, 7, 9, 8, 2, 6, 5, 1, 6, 1, 2, 3, 4, 6, 9, 1, 2]\n",
        "Item with maximum occurrences of the said list:\n",
        "2\n",
        "\n",
        "\n",
        "111. Write a Python program to access multiple elements at a specified index from a given list.\n",
        "Original list:\n",
        "[2, 3, 8, 4, 7, 9, 8, 2, 6, 5, 1, 6, 1, 2, 3, 4, 6, 9, 1, 2]\n",
        "Index list:\n",
        "[0, 3, 5, 7, 10]\n",
        "Items with specified index of the said list:\n",
        "[2, 4, 9, 2, 1]\n",
        "\n",
        "\n",
        "112. Write a Python program to check whether a specified list is sorted or not.\n",
        "Original list:\n",
        "[1, 2, 4, 6, 8, 10, 12, 14, 16, 17]\n",
        "Is the said list is sorted!\n",
        "True\n",
        "Original list:\n",
        "[1, 2, 4, 6, 8, 10, 12, 14, 16, 17]\n",
        "Is the said list is sorted!\n",
        "False\n",
        "\n",
        "\n",
        "113. Write a Python program to remove duplicate dictionary entries from a given list.\n",
        "Original list with duplicate dictionary:\n",
        "[{'Green': '#008000'}, {'Black': '#000000'}, {'Blue': '#0000FF'}, {'Green': '#008000'}]\n",
        "After removing duplicate dictionary of the said list:\n",
        "[{'Black': '#000000'}, {'Blue': '#0000FF'}, {'Green': '#008000'}]\n",
        "\n",
        "\n",
        "114. Write a Python program to extract the nth element from a given list of tuples.\n",
        "Original list:\n",
        "[('Greyson Fulton', 98, 99), ('Brady Kent', 97, 96), ('Wyatt Knott', 91, 94), ('Beau Turnbull', 94, 98)]\n",
        "Extract nth element ( n = 0 ) from the said list of tuples:\n",
        "['Greyson Fulton', 'Brady Kent', 'Wyatt Knott', 'Beau Turnbull']\n",
        "Extract nth element ( n = 2 ) from the said list of tuples:\n",
        "[99, 96, 94, 98]\n",
        "\n",
        "\n",
        "115. Write a Python program to check if the elements of a given list are unique or not.\n",
        "Original list:\n",
        "[1, 2, 4, 6, 8, 2, 1, 4, 10, 12, 14, 12, 16, 17]\n",
        "Is the said list contains all unique elements!\n",
        "False\n",
        "Original list:\n",
        "[2, 4, 6, 8, 10, 12, 14]\n",
        "Is the said list contains all unique elements!\n",
        "True\n",
        "\n",
        "\n",
        "116. Write a Python program to sort a list of lists by a given index of the inner list.\n",
        "Original list:\n",
        "[('Greyson Fulton', 98, 99), ('Brady Kent', 97, 96), ('Wyatt Knott', 91, 94), ('Beau Turnbull', 94, 98)]\n",
        "Sort the said list of lists by a given index ( Index = 0 ) of the inner list\n",
        "[('Beau Turnbull', 94, 98), ('Brady Kent', 97, 96), ('Greyson Fulton', 98, 99), ('Wyatt Knott', 91, 94)]\n",
        "Sort the said list of lists by a given index ( Index = 2 ) of the inner list\n",
        "[('Wyatt Knott', 91, 94), ('Brady Kent', 97, 96), ('Beau Turnbull', 94, 98), ('Greyson Fulton', 98, 99)]\n",
        "\n",
        "\n",
        "117. Write a Python program to remove all elements from a given list that are present in another list.\n",
        "Original lists:\n",
        "list1: [1, 2, 3, 4, 5, 6, 7, 8, 9, 10]\n",
        "list2: [2, 4, 6, 8]\n",
        "Remove all elements from 'list1' present in 'list2:\n",
        "[1, 3, 5, 7, 9, 10]\n",
        "\n",
        "\n",
        "118. Write a Python program to find the difference between elements (n+1th - nth) of a given list of numeric values.\n",
        "Original list:\n",
        "[1, 2, 3, 4, 5, 6, 7, 8, 9, 10]\n",
        "Dfference between elements (n+1th - nth) of the said list :\n",
        "[1, 1, 1, 1, 1, 1, 1, 1, 1]\n",
        "Original list:\n",
        "[2, 4, 6, 8]\n",
        "Dfference between elements (n+1th - nth) of the said list :\n",
        "[2, 2, 2]\n",
        "\n",
        "\n",
        "119. Write a Python program to check if a substring appears in a given list of string values.\n",
        "Original list:\n",
        "['red', 'black', 'white', 'green', 'orange']\n",
        "Substring to search:\n",
        "ack\n",
        "Check if a substring presents in the said list of string values:\n",
        "True\n",
        "Substring to search:\n",
        "abc\n",
        "Check if a substring presents in the said list of string values:\n",
        "False\n",
        "\n",
        "\n",
        "120. Write a Python program to create a list taking alternate elements from a given list.\n",
        "Original list:\n",
        "['red', 'black', 'white', 'green', 'orange']\n",
        "List with alternate elements from the said list:\n",
        "['red', 'white', 'orange']\n",
        "Original list:\n",
        "[2, 0, 3, 4, 0, 2, 8, 3, 4, 2]\n",
        "List with alternate elements from the said list:\n",
        "[2, 3, 0, 8, 4]\n",
        "\n",
        "\n",
        "121. Write a Python program to find nested list elements that are present in another list.\n",
        "Original lists:\n",
        "[1, 2, 3, 4, 5, 6, 7, 8, 9, 10, 11, 12, 13, 14]\n",
        "[[12, 18, 23, 25, 45], [7, 11, 19, 24, 28], [1, 5, 8, 18, 15, 16]]\n",
        "Intersection of said nested lists:\n",
        "[[12], [7, 11], [1, 5, 8]]\n",
        "\n",
        "\n",
        "122. Write a Python program to find common elements in a nested list.\n",
        "Original lists:\n",
        "[[12, 18, 23, 25, 45], [7, 12, 18, 24, 28], [1, 5, 8, 12, 15, 16, 18]]\n",
        "Common element(s) in nested lists:\n",
        "[18, 12]\n",
        "\n",
        "\n",
        "123. Write a Python program to reverse strings in a given list of string values.\n",
        "Original lists:\n",
        "['Red', 'Green', 'Blue', 'White', 'Black']\n",
        "Reverse strings of the said given list:\n",
        "['deR', 'neerG', 'eulB', 'etihW', 'kcalB']\n",
        "\n",
        "\n",
        "124. Write a Python program to find the maximum and minimum product of pairs of tuples within a given list.\n",
        "The original list, tuple :\n",
        "[(2, 7), (2, 6), (1, 8), (4, 9)]\n",
        "Maximum and minimum product from the pairs of the said tuple of list:\n",
        "(36, 8)\n",
        "\n",
        "\n",
        "125. Write a Python program to calculate the product of the unique numbers in a given list.\n",
        "Original List : [10, 20, 30, 40, 20, 50, 60, 40]\n",
        "Product of the unique numbers of the said list: 720000000\n",
        "\n",
        "\n",
        "126. Write a Python program to interleave multiple lists of the same length.\n",
        "Original list:\n",
        "list1: [1, 2, 3, 4, 5, 6, 7]\n",
        "list2: [10, 20, 30, 40, 50, 60, 70]\n",
        "list3: [100, 200, 300, 400, 500, 600, 700]\n",
        "Interleave multiple lists:\n",
        "[1, 10, 100, 2, 20, 200, 3, 30, 300, 4, 40, 400, 5, 50, 500, 6, 60, 600, 7, 70, 700]\n",
        "\n",
        "\n",
        "127. Write a Python program to remove words from a given list of strings containing a character or string.\n",
        "Original list:\n",
        "list1: ['Red color', 'Orange#', 'Green', 'Orange @', 'White']\n",
        "Character list:\n",
        "['#', 'color', '@']\n",
        "New list:\n",
        "['Red', '', 'Green', 'Orange', 'White']\n",
        "\n",
        "\n",
        "128. Write a Python program to calculate the sum of the numbers in a list between the indices of a specified range.\n",
        "Original list:\n",
        "[2, 1, 5, 6, 8, 3, 4, 9, 10, 11, 8, 12]\n",
        "Range: 8 , 10\n",
        "Sum of the specified range:\n",
        "29\n",
        "\n",
        "\n",
        "129. Write a Python program to reverse each list in a given list of lists.\n",
        "Original list of lists:\n",
        "[[1, 2, 3, 4], [5, 6, 7, 8], [9, 10, 11, 12], [13, 14, 15, 16]]\n",
        "Reverse each list in the said list of lists:\n",
        "[[4, 3, 2, 1], [8, 7, 6, 5], [12, 11, 10, 9], [16, 15, 14, 13]]\n",
        "\n",
        "\n",
        "130. Write a Python program to count the same pair in three given lists.\n",
        "Original lists:\n",
        "[1, 2, 3, 4, 5, 6, 7, 8]\n",
        "[2, 2, 3, 1, 2, 6, 7, 9]\n",
        "[2, 1, 3, 1, 2, 6, 7, 9]\n",
        "Number of same pair of the said three given lists:\n",
        "3\n",
        "\n",
        "\n",
        "131. Write a Python program to count the frequency of consecutive duplicate elements in a given list of numbers.\n",
        "Original lists:\n",
        "[1, 2, 2, 2, 4, 4, 4, 5, 5, 5, 5]\n",
        "Consecutive duplicate elements and their frequency:\n",
        "([1, 2, 4, 5], [1, 3, 3, 4])\n",
        "\n",
        "\n",
        "132. Write a Python program to find all index positions of the maximum and minimum values in a given list of numbers.\n",
        "Original list:\n",
        "[12, 33, 23, 10, 67, 89, 45, 667, 23, 12, 11, 10, 54]\n",
        "Index positions of the maximum value of the said list:\n",
        "7\n",
        "Index positions of the minimum value of the said list:\n",
        "3, 11\n",
        "\n",
        "\n",
        "133. Write a Python program to check if two lists have the same elements in them in same order or not.\n",
        "Original lists:\n",
        "['red', 'green', 'black', 'orange']\n",
        "['red', 'pink', 'green', 'white', 'black']\n",
        "['white', 'orange', 'pink', 'black']\n",
        "Test common elements between color1 and color2 are in same order?\n",
        "True\n",
        "Test common elements between color1 and color3 are in same order?\n",
        "False\n",
        "Test common elements between color2 and color3 are in same order?\n",
        "False\n",
        "\n",
        "\n",
        "134. Write a Python program to find the difference between two lists including duplicate elements.\n",
        "Original lists:\n",
        "[1, 1, 2, 3, 3, 4, 4, 5, 6, 7]\n",
        "[1, 1, 2, 4, 5, 6]\n",
        "Difference between two said list including duplicate elements):\n",
        "[3, 3, 4, 7]\n",
        "\n",
        "\n",
        "135. Write a Python program to iterate over all pairs of consecutive items in a given list.\n",
        "Original lists:\n",
        "[1, 1, 2, 3, 3, 4, 4, 5]\n",
        "Iterate over all pairs of consecutive items of the said list:\n",
        "[(1, 1), (1, 2), (2, 3), (3, 3), (3, 4), (4, 4), (4, 5)]\n",
        "\n",
        "\n",
        "136. Write a Python program to remove duplicate words from a given list of strings.\n",
        "Original String:\n",
        "['Python', 'Exercises', 'Practice', 'Solution', 'Exercises']\n",
        "After removing duplicate words from the said list of strings:\n",
        "['Python', 'Exercises', 'Practice', 'Solution']\n",
        "\n",
        "\n",
        "137. Write a Python program to find the first even and odd number in a given list of numbers.\n",
        "Original list:\n",
        "[1, 3, 5, 7, 4, 1, 6, 8]\n",
        "First even and odd number of the said list of numbers:\n",
        "(4, 1)\n",
        "\n",
        "\n",
        "138. Write a Python program to sort a given mixed list of integers and strings. Numbers must be sorted before strings.\n",
        "Original list:\n",
        "[19, 'red', 12, 'green', 'blue', 10, 'white', 'green', 1]\n",
        "Sort the said mixed list of integers and strings:\n",
        "[1, 10, 12, 19, 'blue', 'green', 'green', 'red', 'white']\n",
        "\n",
        "\n",
        "139. Write a Python program to sort a given list of strings(numbers) numerically.\n",
        "Original list:\n",
        "['4', '12', '45', '7', '0', '100', '200', '-12', '-500']\n",
        "Sort the said list of strings(numbers) numerically:\n",
        "[-500, -12, 0, 4, 7, 12, 45, 100, 200]\n",
        "\n",
        "\n",
        "140. Write a Python program to remove a specific item from a given list of lists.\n",
        "Original list of lists:\n",
        "[['Red', 'Maroon', 'Yellow', 'Olive'], ['#FF0000', '#800000', '#FFFF00', '#808000'], ['rgb(255,0,0)', 'rgb(128,0,0)', 'rgb(255,255,0)', 'rgb(128,128,0)']]\n",
        "Remove 1st list from the saod given list of lists:\n",
        "[['Maroon', 'Yellow', 'Olive'], ['#800000', '#FFFF00', '#808000'], ['rgb(128,0,0)', 'rgb(255,255,0)', 'rgb(128,128,0)']]\n",
        "Remove 2nd list from the saod given list of lists:\n",
        "[['Red', 'Yellow', 'Olive'], ['#FF0000', '#FFFF00', '#808000'], ['rgb(255,0,0)', 'rgb(255,255,0)', 'rgb(128,128,0)']]\n",
        "Remove 4th list from the saod given list of lists:\n",
        "[['Red', 'Maroon', 'Yellow'], ['#FF0000', '#800000', '#FFFF00'], ['rgb(255,0,0)', 'rgb(128,0,0)', 'rgb(255,255,0)']]\n",
        "\n",
        "\n",
        "141. Write a Python program to remove empty lists from a given list of lists.\n",
        "Original list:\n",
        "[[], [], [], 'Red', 'Green', [1, 2], 'Blue', [], []]\n",
        "After deleting the empty lists from the said lists of lists\n",
        "['Red', 'Green', [1, 2], 'Blue']\n",
        "\n",
        "\n",
        "142. Write a Python program to sum a specific column of a list in a given list of lists.\n",
        "Original list of lists:\n",
        "[[1, 2, 3, 2], [4, 5, 6, 2], [7, 8, 9, 5]]\n",
        "Sum: 1st column of the said list of lists:\n",
        "12\n",
        "Sum: 2nd column of the said list of lists:\n",
        "15\n",
        "Sum: 4th column of the said list of lists:\n",
        "9\n",
        "\n",
        "\n",
        "143. Write a Python program to get the frequency of elements in a given list of lists.\n",
        "Original list of lists:\n",
        "[[1, 2, 3, 2], [4, 5, 6, 2], [7, 8, 9, 5]]\n",
        "Frequency of the elements in the said list of lists:\n",
        "{1: 1, 2: 3, 3: 1, 4: 1, 5: 2, 6: 1, 7: 1, 8: 1, 9: 1}\n",
        "\n",
        "\n",
        "144. Write a Python program to extract every first or specified element from a given two-dimensional list.\n",
        "Original list of lists:\n",
        "[[1, 2, 3, 2], [4, 5, 6, 2], [7, 1, 9, 5]]\n",
        "Extract every first element from the said given two dimensional list:\n",
        "[1, 4, 7]\n",
        "Extract every third element from the said given two dimensional list:\n",
        "[3, 6, 9]\n",
        "\n",
        "\n",
        "145. Write a Python program to generate a number in a specified range except for some specific numbers.\n",
        "Generate a number in a specified range (1, 10) except [2, 9, 10]\n",
        "7\n",
        "Generate a number in a specified range (-5, 5) except [-5,0,4,3,2]\n",
        "-4\n",
        "\n",
        "\n",
        "146. Write a Python program to compute the sum of digits of each number in a given list.\n",
        "Original tuple:\n",
        "[10, 2, 56]\n",
        "Sum of digits of each number of the said list of integers:\n",
        "14\n",
        "Original tuple:\n",
        "[10, 20, 4, 5, 'b', 70, 'a']\n",
        "Sum of digits of each number of the said list of integers:\n",
        "19\n",
        "Original tuple:\n",
        "[10, 20, -4, 5, -70]\n",
        "Sum of digits of each number of the said list of integers:\n",
        "19\n",
        "\n",
        "\n",
        "147. Write a Python program to combine two lists into another list randomly.\n",
        "Original lists:\n",
        "[1, 2, 7, 8, 3, 7]\n",
        "[4, 3, 8, 9, 4, 3, 8, 9]\n",
        "Interleave two given list into another list randomly:\n",
        "[4, 1, 2, 3, 8, 9, 4, 3, 7, 8, 9, 8, 3, 7]\n",
        "\n",
        "\n",
        "148. Write a Python program to remove specific words from a given list.\n",
        "Original list:\n",
        "['red', 'green', 'blue', 'white', 'black', 'orange']\n",
        "Remove words:\n",
        "['white', 'orange']\n",
        "After removing the specified words from the said list:\n",
        "['red', 'green', 'blue', 'black']\n",
        "\n",
        "\n",
        "149. Write a Python program to get all possible combinations of the elements of a given list.\n",
        "Original list:\n",
        "['orange', 'red', 'green', 'blue']\n",
        "All possible combinations of the said list's elements:\n",
        "[[], ['orange'], ['red'], ['red', 'orange'], ['green'], ['green', 'orange'], ['green', 'red'], ['green', 'red', 'orange'], ['blue'], ['blue', 'orange'], ['blue', 'red'], ['blue', 'red', 'orange'], ['blue', 'green'], ['blue', 'green', 'orange'], ['blue', 'green', 'red'], ['blue', 'green', 'red', 'orange']]\n",
        "\n",
        "\n",
        "150. Write a Python program to reverse a given list of lists.\n",
        "Original list:\n",
        "[['orange', 'red'], ['green', 'blue'], ['white', 'black', 'pink']]\n",
        "Reverse said list of lists:\n",
        "[['white', 'black', 'pink'], ['green', 'blue'], ['orange', 'red']]\n",
        "Original list:\n",
        "[[1, 2, 3, 4], [0, 2, 4, 5], [2, 3, 4, 2, 4]]\n",
        "Reverse said list of lists:\n",
        "[[2, 3, 4, 2, 4], [0, 2, 4, 5], [1, 2, 3, 4]]\n",
        "\n",
        "\n",
        "151. Write a Python program to find the maximum and minimum values in a given list within a specified index range.\n",
        "Original list:\n",
        "[4, 3, 0, 5, 3, 0, 2, 3, 4, 2, 4, 3, 5]\n",
        "Index range:\n",
        "3 to 8\n",
        "Maximum and minimum values of the said given list within index range:\n",
        "(5, 0)\n",
        "\n",
        "\n",
        "152. Write a Python program to combine two sorted lists using the heapq module.\n",
        "Original sorted lists:\n",
        "[1, 3, 5, 7, 9, 11]\n",
        "[0, 2, 4, 6, 8, 10]\n",
        "After merging the said two sorted lists:\n",
        "[0, 1, 2, 3, 4, 5, 6, 7, 8, 9, 10, 11]\n",
        "\n",
        "\n",
        "153. Write a Python program to check if a given element occurs at least n times in a list.\n",
        "Original list:\n",
        "[0, 1, 3, 5, 0, 3, 4, 5, 0, 8, 0, 3, 6, 0, 3, 1, 1, 0]\n",
        "Check if 3 occurs at least 4 times in a list:\n",
        "True\n",
        "Check if 0 occurs at least 5 times in a list:\n",
        "True\n",
        "Check if 8 occurs at least 3 times in a list:\n",
        "False\n",
        "\n",
        "\n",
        "154. Write a Python program to join two given list of lists of the same length, element wise.\n",
        "Original lists:\n",
        "[[10, 20], [30, 40], [50, 60], [30, 20, 80]]\n",
        "[[61], [12, 14, 15], [12, 13, 19, 20], [12]]\n",
        "Join the said two lists element wise:\n",
        "[[10, 20, 61], [30, 40, 12, 14, 15], [50, 60, 12, 13, 19, 20], [30, 20, 80, 12]]\n",
        "Original lists:\n",
        "[['a', 'b'], ['b', 'c', 'd'], ['e', 'f']]\n",
        "[['p', 'q'], ['p', 's', 't'], ['u', 'v', 'w']]\n",
        "Join the said two lists element wise:\n",
        "[['a', 'b', 'p', 'q'], ['b', 'c', 'd', 'p', 's', 't'], ['e', 'f', 'u', 'v', 'w']]\n",
        "\n",
        "\n",
        "155. Write a Python program to add two given lists of different lengths, starting on the left.\n",
        "Original lists:\n",
        "[2, 4, 7, 0, 5, 8]\n",
        "[3, 3, -1, 7]\n",
        "Add said two lists from left:\n",
        "[5, 7, 6, 7, 5, 8]\n",
        "Original lists:\n",
        "[1, 2, 3, 4, 5, 6]\n",
        "[2, 4, -3]\n",
        "Add said two lists from left:\n",
        "[3, 6, 0, 4, 5, 6]\n",
        "\n",
        "\n",
        "156. Write a Python program to add two given lists of different lengths, starting on the right.\n",
        "Original lists:\n",
        "[2, 4, 7, 0, 5, 8]\n",
        "[3, 3, -1, 7]\n",
        "Add said two lists from left:\n",
        "[2, 4, 10, 3, 4, 15]\n",
        "Original lists:\n",
        "[1, 2, 3, 4, 5, 6]\n",
        "[2, 4, -3]\n",
        "Add said two lists from left:\n",
        "[1, 2, 3, 6, 9, 3]\n",
        "\n",
        "\n",
        "157. Write a Python program to interleave lists of varying lengths.\n",
        "Original lists:\n",
        "[2, 4, 7, 0, 5, 8]\n",
        "[2, 5, 8]\n",
        "[0, 1]\n",
        "[3, 3, -1, 7]\n",
        "Interleave said lists of different lengths:\n",
        "[2, 2, 0, 3, 4, 5, 1, 3, 7, 8, -1, 0, 7, 5, 8]\n",
        "\n",
        "\n",
        "158. Write a Python program to find the maximum and minimum values in a given list of tuples.\n",
        "Original list with tuples:\n",
        "[('V', 60), ('VI', 70), ('VII', 75), ('VIII', 72), ('IX', 78), ('X', 70)]\n",
        "Maximum and minimum values of the said list of tuples:\n",
        "(78, 60)\n",
        "\n",
        "\n",
        "159. Write a Python program to append the same value/a list multiple times to a list/list-of-lists.\n",
        "Add a value(7), 5 times, to a list:\n",
        "['7', '7', '7', '7', '7']\n",
        "Add 5, 6 times, to a list:\n",
        "[1, 2, 3, 4, 5, 5, 5, 5, 5, 5]\n",
        "Add a list, 4 times, to a list of lists:\n",
        "[[1, 2, 5], [1, 2, 5], [1, 2, 5], [1, 2, 5]]\n",
        "Add a list, 3 times, to a list of lists:\n",
        "[[5, 6, 7], [1, 2, 5], [1, 2, 5], [1, 2, 5], [1, 2, 5]]\n",
        "\n",
        "\n",
        "160. Write a Python program to remove the first specified number of elements from a given list satisfying a condition.\n",
        "Remove the first 4 number of even numbers from the following list:\n",
        "[3,10,4,7,5,7,8,3,3,4,5,9,3,4,9,8,5]\n",
        "Output:\n",
        "[3, 7, 5, 7, 3, 3, 5, 9, 3, 4, 9, 8, 5]\n",
        "Original list:\n",
        "[3, 10, 4, 7, 5, 7, 8, 3, 3, 4, 5, 9, 3, 4, 9, 8, 5]\n",
        "Remove first 4 even numbers from the said list:\n",
        "[3, 7, 5, 7, 3, 3, 5, 9, 3, 4, 9, 8, 5]\n",
        "\n",
        "\n",
        "161. Write a Python program to check if a given list increases strictly. Moreover, if removing only one element from the list results in a strictly increasing list, we still consider the list true.\n",
        "True\n",
        "True\n",
        "True\n",
        "True\n",
        "True\n",
        "True\n",
        "True\n",
        "True\n",
        "True\n",
        "True\n",
        "True\n",
        "False\n",
        "False\n",
        "False\n",
        "False\n",
        "False\n",
        "\n",
        "\n",
        "162. Write a Python program to find the last occurrence of a specified item in a given list.\n",
        "Original list:\n",
        "['s', 'd', 'f', 's', 'd', 'f', 's', 'f', 'k', 'o', 'p', 'i', 'w', 'e', 'k', 'c']\n",
        "Last occurrence of f in the said list:\n",
        "7\n",
        "Last occurrence of c in the said list:\n",
        "15\n",
        "Last occurrence of k in the said list:\n",
        "14\n",
        "Last occurrence of w in the said list:\n",
        "12\n",
        "\n",
        "\n",
        "163. Write a Python program to get the index of the first element that is greater than a specified element.\n",
        "Original list:\n",
        "[12, 45, 23, 67, 78, 90, 100, 76, 38, 62, 73, 29, 83]\n",
        "Index of the first element which is greater than 73 in the said list:\n",
        "4\n",
        "Index of the first element which is greater than 21 in the said list:\n",
        "1\n",
        "Index of the first element which is greater than 80 in the said list:\n",
        "5\n",
        "Index of the first element which is greater than 55 in the said list:\n",
        "3\n",
        "\n",
        "\n",
        "164. Write a Python program to get items from a given list with specific conditions.\n",
        "Original list:\n",
        "[12, 45, 23, 67, 78, 90, 45, 32, 100, 76, 38, 62, 73, 29, 83]\n",
        "Number of Items of the said list which are even and greater than 45\n",
        "5\n",
        "\n",
        "\n",
        "165. Write a Python program to split a given list into specified-sized chunks.\n",
        "Original list:\n",
        "[12, 45, 23, 67, 78, 90, 45, 32, 100, 76, 38, 62, 73, 29, 83]\n",
        "Split the said list into equal size 3\n",
        "[[12, 45, 23], [67, 78, 90], [45, 32, 100], [76, 38, 62], [73, 29, 83]]\n",
        "Split the said list into equal size 4\n",
        "[[12, 45, 23, 67], [78, 90, 45, 32], [100, 76, 38, 62], [73, 29, 83]]\n",
        "Split the said list into equal size 5\n",
        "[[12, 45, 23, 67, 78], [90, 45, 32, 100, 76], [38, 62, 73, 29, 83]]\n",
        "\n",
        "\n",
        "166. Write a Python program to remove the None value from a given list.\n",
        "Original list:\n",
        "[12, 0, None, 23, None, -55, 234, 89, None, 0, 6, -12]\n",
        "Remove None value from the said list:\n",
        "[12, 0, 23, -55, 234, 89, 0, 6, -12]\n",
        "\n",
        "\n",
        "167. Write a Python program to convert a given list of strings into a list of lists.\n",
        "Original list of strings:\n",
        "['Red', 'Maroon', 'Yellow', 'Olive']\n",
        "Convert the said list of strings into list of lists:\n",
        "[['R', 'e', 'd'], ['M', 'a', 'r', 'o', 'o', 'n'], ['Y', 'e', 'l', 'l', 'o', 'w'], ['O', 'l', 'i', 'v', 'e']]\n",
        "\n",
        "\n",
        "168. Write a Python program to display vertically each element of a given list, list of lists.\n",
        "Original list:\n",
        "['a', 'b', 'c', 'd', 'e', 'f']\n",
        "Display each element vertically of the said list:\n",
        "a\n",
        "b\n",
        "c\n",
        "d\n",
        "e\n",
        "f\n",
        "Original list:\n",
        "[[1, 2, 5], [4, 5, 8], [7, 3, 6]]\n",
        "Display each element vertically of the said list of lists:\n",
        "1 4 7\n",
        "2 5 3\n",
        "5 8 6\n",
        "\n",
        "\n",
        "169. Write a Python program to convert a given list of strings and characters to a single list of characters.\n",
        "Original list:\n",
        "['red', 'white', 'a', 'b', 'black', 'f']\n",
        "Convert the said list of strings and characters to a single list of characters:\n",
        "['r', 'e', 'd', 'w', 'h', 'i', 't', 'e', 'a', 'b', 'b', 'l', 'a', 'c', 'k', 'f']\n",
        "\n",
        "\n",
        "170. Write a Python program to insert an element in a given list after every nth position.\n",
        "Original list:\n",
        "[1, 2, 3, 4, 5, 6, 7, 8, 9, 0]\n",
        "Insert a in the said list after 2 nd element:\n",
        "[1, 2, 'a', 3, 4, 'a', 5, 6, 'a', 7, 8, 'a', 9, 0]\n",
        "Insert b in the said list after 4 th element:\n",
        "[1, 2, 3, 4, 'b', 5, 6, 7, 8, 'b', 9, 0]\n",
        "\n",
        "\n",
        "171. Write a Python program to concatenate element-wise three given lists.\n",
        "Original lists:\n",
        "['0', '1', '2', '3', '4']\n",
        "['red', 'green', 'black', 'blue', 'white']\n",
        "['100', '200', '300', '400', '500']\n",
        "Concatenate element-wise three said lists:\n",
        "['0red100', '1green200', '2black300', '3blue400', '4white500']\n",
        "\n",
        "\n",
        "172. Write a Python program to remove the last N number of elements from a given list.\n",
        "Original lists:\n",
        "[2, 3, 9, 8, 2, 0, 39, 84, 2, 2, 34, 2, 34, 5, 3, 5]\n",
        "Remove the last 3 elements from the said list:\n",
        "[2, 3, 9, 8, 2, 0, 39, 84, 2, 2, 34, 2, 34]\n",
        "Remove the last 5 elements from the said list:\n",
        "[2, 3, 9, 8, 2, 0, 39, 84, 2, 2, 34]\n",
        "Remove the last 1 element from the said list:\n",
        "[2, 3, 9, 8, 2, 0, 39, 84, 2, 2, 34, 2, 34, 5, 3]\n",
        "\n",
        "\n",
        "173. Write a Python program to merge some list items in a given list using the index value.\n",
        "Original lists:\n",
        "['a', 'b', 'c', 'd', 'e', 'f', 'g']\n",
        "Merge items from 2 to 4 in the said List:\n",
        "['a', 'b', 'cd', 'e', 'f', 'g']\n",
        "Merge items from 3 to 7 in the said List:\n",
        "['a', 'b', 'c', 'defg']\n",
        "\n",
        "\n",
        "174. Write a Python program to add a number to each element in a given list of numbers.\n",
        "Original lists:\n",
        "[3, 8, 9, 4, 5, 0, 5, 0, 3]\n",
        "Add 3 to each element in the said list:\n",
        "[6, 11, 12, 7, 8, 3, 8, 3, 6]\n",
        "Original lists:\n",
        "[3.2, 8, 9.9, 4.2, 5, 0.1, 5, 3.11, 0]\n",
        "Add 0.51 to each element in the said list:\n",
        "[3.71, 8.51, 10.41, 4.71, 5.51, 0.61, 5.51, 3.62, 0.51]\n",
        "\n",
        "\n",
        "175. Write a Python program to find the minimum and maximum value for each tuple position in a given list of tuples.\n",
        "Original list:\n",
        "[(2, 3), (2, 4), (0, 6), (7, 1)]\n",
        "Maximum value for each tuple position in the said list of tuples:\n",
        "[7, 6]\n",
        "Minimum value for each tuple position in the said list of tuples:\n",
        "[0, 1]\n",
        "\n",
        "\n",
        "176. Write a Python program to create a new list by dividing two given lists of numbers.\n",
        "Original list:\n",
        "[7, 2, 3, 4, 9, 2, 3]\n",
        "[7, 2, 3, 4, 9, 2, 3]\n",
        "[0.7777777777777778, 0.25, 1.5, 1.3333333333333333, 3.0, 2.0, 1.5]\n",
        "\n",
        "\n",
        "177. Write a Python program to find common elements in a given list of lists.\n",
        "Original list:\n",
        "[[7, 2, 3, 4, 7], [9, 2, 3, 2, 5], [8, 2, 3, 4, 4]]\n",
        "Common elements of the said list of lists:\n",
        "[2, 3]\n",
        "Original list:\n",
        "[['a', 'b', 'c'], ['b', 'c', 'd'], ['c', 'd', 'e']]\n",
        "Common elements of the said list of lists:\n",
        "['c']\n",
        "\n",
        "\n",
        "178. Write a Python program to insert a specified element in a given list after every nth element.\n",
        "Original list:\n",
        "[1, 3, 5, 7, 9, 11, 0, 2, 4, 6, 8, 10, 8, 9, 0, 4, 3, 0]\n",
        "Insert 20 in said list after every 4 th element:\n",
        "[1, 3, 5, 7, 20, 9, 11, 0, 2, 20, 4, 6, 8, 10, 20, 8, 9, 0, 4, 20, 3, 0]\n",
        "Original list:\n",
        "['s', 'd', 'f', 'j', 's', 'a', 'j', 'd', 'f', 'd']\n",
        "Insert Z in said list after every 3 th element:\n",
        "['s', 'd', 'f', 'Z', 'j', 's', 'a', 'Z', 'j', 'd', 'f', 'Z', 'd']\n",
        "\n",
        "\n",
        "179. Write a Python program to create the largest possible number using the elements of a given list of positive integers.\n",
        "Original list:\n",
        "[3, 40, 41, 43, 74, 9]\n",
        "Largest possible number using the elements of the said list of positive integers:\n",
        "9744341403\n",
        "Original list:\n",
        "[10, 40, 20, 30, 50, 60]\n",
        "Largest possible number using the elements of the said list of positive integers:\n",
        "605040302010\n",
        "Original list:\n",
        "[8, 4, 2, 9, 5, 6, 1, 0]\n",
        "Largest possible number using the elements of the said list of positive integers:\n",
        "98654210\n",
        "\n",
        "\n",
        "180. Write a Python program to create the smallest possible number using the elements of a given list of positive integers.\n",
        "Original list:\n",
        "[3, 40, 41, 43, 74, 9]\n",
        "Smallest possible number using the elements of the said list of positive integers:\n",
        "3404143749\n",
        "Original list:\n",
        "[10, 40, 20, 30, 50, 60]\n",
        "Smallest possible number using the elements of the said list of positive integers:\n",
        "102030405060\n",
        "Original list:\n",
        "[8, 4, 2, 9, 5, 6, 1, 0]\n",
        "Smallest possible number using the elements of the said list of positive integers:\n",
        "01245689\n",
        "\n",
        "\n",
        "181. Write a Python program to iterate a given list cyclically at a specific index position.\n",
        "Original list:\n",
        "['a', 'b', 'c', 'd', 'e', 'f', 'g', 'h']\n",
        "Iterate the said list cyclically on specific index position 3 :\n",
        "['d', 'e', 'f', 'g', 'h', 'a', 'b', 'c']\n",
        "Iterate the said list cyclically on specific index position 5 :\n",
        "['f', 'g', 'h', 'a', 'b', 'c', 'd', 'e']\n",
        "\n",
        "\n",
        "182. Write a Python program to calculate the maximum and minimum sum of a sublist in a given list of lists.\n",
        "Original list:\n",
        "[[1, 2, 3, 5], [2, 3, 5, 4], [0, 5, 4, 1], [3, 7, 2, 1], [1, 2, 1, 2]]\n",
        "Maximum sum of sub list of the said list of lists:\n",
        "[2, 3, 5, 4]\n",
        "Minimum sum of sub list of the said list of lists:\n",
        "[1, 2, 1, 2]\n",
        "\n",
        "\n",
        "183. Write a Python program to get the unique values in a given list of lists.\n",
        "Original list:\n",
        "[[1, 2, 3, 5], [2, 3, 5, 4], [0, 5, 4, 1], [3, 7, 2, 1], [1, 2, 1, 2]]\n",
        "Unique values of the said list of lists:\n",
        "[0, 1, 2, 3, 4, 5, 7]\n",
        "Original list:\n",
        "[['h', 'g', 'l', 'k'], ['a', 'b', 'd', 'e', 'c'], ['j', 'i', 'y'], ['n', 'b', 'v', 'c'], ['x', 'z']]\n",
        "Unique values of the said list of lists:\n",
        "['e', 'd', 'c', 'b', 'x', 'k', 'n', 'h', 'g', 'j', 'i', 'a', 'l', 'y', 'v', 'z']\n",
        "\n",
        "\n",
        "184. Write a Python program to generate Bigrams of words from a given list of strings.\n",
        "From Wikipedia:\n",
        "A bigram or digram is a sequence of two adjacent elements from a string of tokens, which are typically letters, syllables, or words. A bigram is an n-gram for n=2. The frequency distribution of every bigram in a string is commonly used for simple statistical analysis of text in many applications, including in computational linguistics, cryptography, speech recognition, and so on.\n",
        "Original list:\n",
        "['Sum all the items in a list', 'Find the second smallest number in a list']\n",
        "Bigram sequence of the said list:\n",
        "[('Sum', 'all'), ('all', 'the'), ('the', 'items'), ('items', 'in'), ('in', 'a'), ('a', 'list'), ('Find', 'the'), ('the', 'second'), ('second', 'smallest'), ('smallest', 'number'), ('number', 'in'), ('in', 'a'), ('a', 'list')]\n",
        "\n",
        "\n",
        "185. Write a Python program to convert a given decimal number to a binary list.\n",
        "Original Number: 8\n",
        "Decimal number ( 8 ) to binary list:\n",
        "[1, 0, 0, 0]\n",
        "Original Number: 45\n",
        "Decimal number ( 45 ) to binary list:\n",
        "[1, 0, 1, 1, 0, 1]\n",
        "Original Number: 100\n",
        "Decimal number ( 100 ) to binary list:\n",
        "[1, 1, 0, 0, 1, 0, 0]\n",
        "\n",
        "\n",
        "186. Write a Python program to swap two sublists in a given list.\n",
        "Original list:\n",
        "[0, 1, 2, 3, 4, 5, 6, 7, 8, 9, 10, 11, 12, 13, 14, 15]\n",
        "Swap two sublists of the said list:\n",
        "[0, 6, 7, 8, 9, 3, 4, 5, 1, 2, 10, 11, 12, 13, 14, 15]\n",
        "Swap two sublists of the said list:\n",
        "[0, 9, 3, 8, 6, 7, 4, 5, 1, 2, 10, 11, 12, 13, 14, 15]\n",
        "\n",
        "\n",
        "187. Write a Python program to convert a given list of tuples to a list of strings.\n",
        "Original list of tuples:\n",
        "[('red', 'green'), ('black', 'white'), ('orange', 'pink')]\n",
        "Convert the said list of tuples to a list of strings:\n",
        "['red green', 'black white', 'orange pink']\n",
        "Original list of tuples:\n",
        "[('Laiba', 'Delacruz'), ('Mali', 'Stacey', 'Drummond'), ('Raja', 'Welch'), ('Saarah', 'Stone')]\n",
        "Convert the said list of tuples to a list of strings:\n",
        "['Laiba Delacruz', 'Mali Stacey Drummond', 'Raja Welch', 'Saarah Stone']\n",
        "\n",
        "\n",
        "188. Write a Python program to sort a given list of tuples by a specified element.\n",
        "Original list of tuples:\n",
        "[('item2', 10, 10.12), ('item3', 15, 25.1), ('item1', 11, 24.5), ('item4', 12, 22.5)]\n",
        "Sort on 1st element of the tuple of the said list:\n",
        "[('item1', 11, 24.5), ('item2', 10, 10.12), ('item3', 15, 25.1), ('item4', 12, 22.5)]\n",
        "Sort on 2nd element of the tuple of the said list:\n",
        "[('item2', 10, 10.12), ('item1', 11, 24.5), ('item4', 12, 22.5), ('item3', 15, 25.1)]\n",
        "Sort on 3rd element of the tuple of the said list:\n",
        "[('item2', 10, 10.12), ('item4', 12, 22.5), ('item1', 11, 24.5), ('item3', 15, 25.1)]\n",
        "\n",
        "\n",
        "189. Write a Python program to shift last element to first position and first element to last position in a given list.\n",
        "Original list:\n",
        "[1, 2, 3, 4, 5, 6, 7]\n",
        "Shift last element to first position and first element to last position of the said list:\n",
        "[7, 2, 3, 4, 5, 6, 1]\n",
        "Original list:\n",
        "['s', 'd', 'f', 'd', 's', 's', 'd', 'f']\n",
        "Shift last element to first position and first element to last position of the said list:\n",
        "['f', 'd', 'f', 'd', 's', 's', 'd', 's']\n",
        "\n",
        "\n",
        "190. Write a Python program to find the specified number of largest products from two given lists, multiplying an element from each list.\n",
        "Original lists:\n",
        "[1, 2, 3, 4, 5, 6]\n",
        "[3, 6, 8, 9, 10, 6]\n",
        "3 Number of largest products from the said two lists:\n",
        "[60, 54, 50]\n",
        "4 Number of largest products from the said two lists:\n",
        "[60, 54, 50, 48]\n",
        "\n",
        "\n",
        "191. Write a Python program to find the maximum and minimum values of the three given lists.\n",
        "Original lists:\n",
        "[2, 3, 5, 8, 7, 2, 3]\n",
        "[4, 3, 9, 0, 4, 3, 9]\n",
        "[2, 1, 5, 6, 5, 5, 4]\n",
        "Maximum value of the said three lists:\n",
        "9\n",
        "Minimum value of the said three lists:\n",
        "0\n",
        "\n",
        "\n",
        "192. Write a Python program to remove all strings from a given list of tuples.\n",
        "Original list:\n",
        "[(100, 'Math'), (80, 'Math'), (90, 'Math'), (88, 'Science', 89), (90, 'Science', 92)]\n",
        "Remove all strings from the said list of tuples:\n",
        "[(100,), (80,), (90,), (88, 89), (90, 92)]\n",
        "\n",
        "\n",
        "193. Write a Python program to find the dimension of a given matrix.\n",
        "Original list:\n",
        "[[1, 2], [2, 4]]\n",
        "Dimension of the said matrix:\n",
        "(2, 2)\n",
        "Original list:\n",
        "[[0, 1, 2], [2, 4, 5]]\n",
        "Dimension of the said matrix:\n",
        "(2, 3)\n",
        "Original list:\n",
        "[[0, 1, 2], [2, 4, 5], [2, 3, 4]]\n",
        "Dimension of the said matrix:\n",
        "(3, 3)\n",
        "\n",
        "\n",
        "194. Write a Python program to sum two or more lists. The lengths of the lists may be different.\n",
        "Original list:\n",
        "[[1, 2, 4], [2, 4, 4], [1, 2]]\n",
        "Sum said lists with different lengths:\n",
        "[4, 8, 8]\n",
        "Original list:\n",
        "[[1], [2, 4, 4], [1, 2], [4]]\n",
        "Sum said lists with different lengths:\n",
        "[8, 6, 4]\n",
        "\n",
        "\n",
        "195. Write a Python program to traverse a given list in reverse order, and print the elements with the original index.\n",
        "Original list:\n",
        "['red', 'green', 'white', 'black']\n",
        "Traverse the said list in reverse order:\n",
        "black\n",
        "white\n",
        "green\n",
        "red\n",
        "Traverse the said list in reverse order with original index:\n",
        "3 black\n",
        "2 white\n",
        "1 green\n",
        "0 red\n",
        "\n",
        "\n",
        "196. Write a Python program to move a specified element in a given list.\n",
        "Original list:\n",
        "['red', 'green', 'white', 'black', 'orange']\n",
        "Move white at the end of the said list:\n",
        "['red', 'green', 'black', 'orange', 'white']\n",
        "Original list:\n",
        "['red', 'green', 'white', 'black', 'orange']\n",
        "Move red at the end of the said list:\n",
        "['green', 'white', 'black', 'orange', 'red']\n",
        "Original list:\n",
        "['red', 'green', 'white', 'black', 'orange']\n",
        "Move black at the end of the said list:\n",
        "['red', 'green', 'white', 'orange', 'black']\n",
        "\n",
        "\n",
        "197. Write a Python program to compute the average of the n-th element in a given list of lists with different lengths.\n",
        "Original list:\n",
        "[[0, 1, 2], [2, 3, 4], [3, 4, 5, 6], [7, 8, 9, 10, 11], [12, 13, 14]]\n",
        "Average of n-th elements in the said list of lists with different lengths:\n",
        "[4.8, 5.8, 6.8, 8.0, 11.0]\n",
        "\n",
        "\n",
        "198. Write a Python program to compare two given lists and find the indices of the values present in both lists.\n",
        "Original lists:\n",
        "[1, 2, 3, 4, 5, 6]\n",
        "[7, 8, 5, 2, 10, 12]\n",
        "Compare said two lists and get the indices of the values present in both lists:\n",
        "[1, 4]\n",
        "Original lists:\n",
        "[1, 2, 3, 4, 5, 6]\n",
        "[7, 8, 5, 7, 10, 12]\n",
        "Compare said two lists and get the indices of the values present in both lists:\n",
        "[4]\n",
        "Original lists:\n",
        "[1, 2, 3, 4, 15, 6]\n",
        "[7, 8, 5, 7, 10, 12]\n",
        "Compare said two lists and get the indices of the values present in both lists:\n",
        "[]\n",
        "\n",
        "\n",
        "199. Write a Python program to convert a Unicode list to a list of strings.\n",
        "Original lists:\n",
        "['S001', 'S002', 'S003', 'S004']\n",
        "Convert the said unicode list to a list contains strings:\n",
        "['S001', 'S002', 'S003', 'S004']\n",
        "\n",
        "\n",
        "200. Write a Python program to pair consecutive elements of a given list.\n",
        "Original lists:\n",
        "[1, 2, 3, 4, 5, 6]\n",
        "Pair up the consecutive elements of the said list:\n",
        "[[1, 2], [2, 3], [3, 4], [4, 5], [5, 6]]\n",
        "Original lists:\n",
        "[1, 2, 3, 4, 5]\n",
        "Pair up the consecutive elements of the said list:\n",
        "[[1, 2], [2, 3], [3, 4], [4, 5]]\n",
        "\n",
        "\n",
        "201. Write a Python program to check if a given string contains an element that is present in a list.\n",
        "The original string and list:\n",
        "https://www.w3resource.com/python-exercises/list/\n",
        "['.com', '.edu', '.tv']\n",
        "Check if https://www.w3resource.com/python-exercises/list/ contains an element, which is present in the list ['.com', '.edu', '.tv']\n",
        "True\n",
        "The original string and list: https://www.w3resource.net\n",
        "https://www.w3resource.net\n",
        "['.com', '.edu', '.tv']\n",
        "Check if https://www.w3resource.net contains an element, which is present in the list ['.com', '.edu', '.tv']\n",
        "False\n",
        "\n",
        "\n",
        "202. Write a Python program to find the indexes of all None items in a given list.\n",
        "Original list:\n",
        "[1, None, 5, 4, None, 0, None, None]\n",
        "Indexes of all None items of the list:\n",
        "[1, 4, 6, 7]\n",
        "\n",
        "\n",
        "203. Write a Python program to join adjacent members of a given list.\n",
        "Original list:\n",
        "['1', '2', '3', '4', '5', '6', '7', '8']\n",
        "Join adjacent members of a given list:\n",
        "['12', '34', '56', '78']\n",
        "Original list:\n",
        "['1', '2', '3']\n",
        "Join adjacent members of a given list:\n",
        "['12']\n",
        "\n",
        "\n",
        "204. Write a Python program to check if the first digit or character of each element in a list is the same.\n",
        "Original list:\n",
        "[1234, 122, 1984, 19372, 100]\n",
        "Check if first digit in each element of the said given list is same or not!\n",
        "True\n",
        "Original list:\n",
        "[1234, 922, 1984, 19372, 100]\n",
        "Check if first digit in each element of the said given list is same or not!\n",
        "False\n",
        "Original list:\n",
        "['aabc', 'abc', 'ab', 'a']\n",
        "Check if first character in each element of the said given list is same or not!\n",
        "True\n",
        "Original list:\n",
        "['aabc', 'abc', 'ab', 'ha']\n",
        "Check if first character in each element of the said given list is same or not!\n",
        "False\n",
        "\n",
        "\n",
        "205. Write a Python program to find the indices of elements in a given list that are greater than a specified value.\n",
        "Original list:\n",
        "[1234, 1522, 1984, 19372, 1000, 2342, 7626]\n",
        "Indices of elements of the said list, greater than 3000\n",
        "[3, 6]\n",
        "Original list:\n",
        "[1234, 1522, 1984, 19372, 1000, 2342, 7626]\n",
        "Indices of elements of the said list, greater than 20000\n",
        "[]\n",
        "\n",
        "\n",
        "206. Write a Python program to remove additional spaces from a given list.\n",
        "Original list:\n",
        "['abc ', ' ', ' ', 'sdfds ', ' ', ' ', 'sdfds ', 'huy']\n",
        "Remove additional spaces from the said list:\n",
        "['abc', '', '', 'sdfds', '', '', 'sdfds', 'huy']\n",
        "\n",
        "\n",
        "207. Write a Python program to find the common tuples between two given lists.\n",
        "Original lists:\n",
        "[('red', 'green'), ('black', 'white'), ('orange', 'pink')]\n",
        "[('red', 'green'), ('orange', 'pink')]\n",
        "Common tuples between two said lists\n",
        "[('orange', 'pink'), ('red', 'green')]\n",
        "Original lists:\n",
        "[('red', 'green'), ('orange', 'pink')]\n",
        "[('red', 'green'), ('black', 'white'), ('orange', 'pink')]\n",
        "Common tuples between two said lists\n",
        "[('orange', 'pink'), ('red', 'green')]\n",
        "\n",
        "\n",
        "208. Sum a list of numbers. Write a Python program to sum the first number with the second and divide it by 2, then sum the second with the third and divide by 2, and so on.\n",
        "Original list:\n",
        "[1, 2, 3, 4, 5, 6, 7]\n",
        "Sum the said list of numbers:\n",
        "[1.5, 2.5, 3.5, 4.5, 5.5, 6.5]\n",
        "Original list:\n",
        "[0, 1, -3, 3, 7, -5, 6, 7, 11]\n",
        "Sum the said list of numbers:\n",
        "[0.5, -1.0, 0.0, 5.0, 1.0, 0.5, 6.5, 9.0]\n",
        "\n",
        "\n",
        "209. Write a Python program to count the number of groups of non-zero numbers separated by zeros in a given list of numbers.\n",
        "Original list:\n",
        "[3, 4, 6, 2, 0, 0, 0, 0, 0, 0, 6, 7, 6, 9, 10, 0, 0, 0, 0, 0, 5, 9, 9, 7, 4, 4, 0, 0, 0, 0, 0, 0, 5, 3, 2, 9, 7, 1]\n",
        "Number of groups of non-zero numbers separated by zeros of the said list: 4\n",
        "\n",
        "\n",
        "210. Write a Python program to compute the sum of non-zero groups (separated by zeros) of a given list of numbers.\n",
        "Original list:\n",
        "[3, 4, 6, 2, 0, 0, 0, 0, 0, 0, 6, 7, 6, 9, 10, 0, 0, 0, 0, 0, 7, 4, 4, 0, 0, 0, 0, 0, 0, 5, 3, 2, 9, 7, 1, 0, 0, 0]\n",
        "Compute the sum of non-zero groups (separated by zeros) of the said list of numbers: [15, 38, 15, 27]\n",
        "\n",
        "\n",
        "211. Write a Python program to remove an element from a given list.\n",
        "Original list:\n",
        "['Ricky Rivera', 98, 'Math', 90, 'Science']\n",
        "After deleting an element:, using index of the element: [98, 'Math', 90, 'Science']\n",
        "\n",
        "\n",
        "212. Write a Python program to remove all values except integer values from a given array of mixed values.\n",
        "Original list: [34.67, 12, -94.89, 'Python', 0, 'C#']\n",
        "After removing all the values except integer values from the said array of mixed values: [12, 0]\n",
        "\n",
        "\n",
        "213. Write a Python program to calculate the sum of two lowest negative numbers in a given array of integers.\n",
        "An integer (from the Latin integer meaning \"whole\") is colloquially defined as a number that can be written without a fractional component. For example, 21, 4, 0, and -2048 are integers.\n",
        "Original list elements: [-14, 15, -10, -11, -12, -13, 16, 17, 18, 19, 20]\n",
        "Sum of two lowest negative numbers of the said array of integers: -27\n",
        "Original list elements: [-4, 5, -2, 0, 3, -1, 4, 9]\n",
        "Sum of two lowest negative numbers of the said array of integers: -6\n",
        "\n",
        "\n",
        "214. Write a Python program to sort a given positive number in descending/ascending order.\n",
        "Descending -> Highest to lowest.\n",
        "Ascending -> Lowest to highest\n",
        "Original Number: 134543\n",
        "Descending order of the said number: 544331\n",
        "Ascending order of the said number: 133445\n",
        "Original Number: 43750973\n",
        "Descending order of the said number: 97754330\n",
        "Ascending order of the said number: 3345779\n",
        "\n",
        "\n",
        "215. Write a Python program to merge two or more lists into a list of lists, combining elements from each of the input lists based on their positions.\n",
        "Sample Output:\n",
        "After merging lists into a list of lists:\n",
        "[['a', 1, True], ['b', 2, False]]\n",
        "[['a', 1, True], [None, 2, False]]\n",
        "[['a', 1, True], ['_', 2, False]]\n",
        "\n",
        "\n",
        "216. Write a Python program to group the elements of a list based on the given function and return the count of elements in each group.\n",
        "Sample Output:\n",
        "{6: 2, 4: 1}\n",
        "{3: 2, 5: 1}\n",
        "\n",
        "\n",
        "217. Write a Python program to split values into two groups, based on the result of the given filtering function.\n",
        "Sample Output:\n",
        "[['white'], ['red', 'green', 'black']]\n",
        "\n",
        "\n",
        "218. Write a Python program to sort one list based on another list containing the desired indexes.\n",
        "Sample Output:\n",
        "['apples', 'bread', 'eggs', 'jam', 'milk', 'oranges']\n",
        "['oranges', 'milk', 'jam', 'eggs', 'bread', 'apples']\n",
        "\n",
        "\n",
        "219. Write a Python program to build a list, using an iterator function and an initial seed value.\n",
        "Sample Output:\n",
        "[-10, -20, -30, -40]\n",
        "\n",
        "\n",
        "220. Write a Python program to map the values of a list to a dictionary using a function, where the key-value pairs consist of the original value as the key and the result of the function as the value.\n",
        "Sample Output:\n",
        "{1: 1, 2: 4, 3: 9}\n",
        "\n",
        "\n",
        "221. Write a Python program to randomize the order of the values of a list, returning a new list.\n",
        "Sample Output:\n",
        "Original list: [1, 2, 3, 4, 5, 6]\n",
        "Shuffle the elements of the said list:\n",
        "[3, 2, 4, 1, 6, 5]\n",
        "\n",
        "\n",
        "222. Write a Python program to get the difference between two given lists, after applying the provided function to each list element of both.\n",
        "Sample Output:\n",
        "[1.2]\n",
        "[{'x': 2}]\n",
        "\n",
        "\n",
        "223. Write a Python program to create a list with non-unique values filtered out.\n",
        "Sample Output:\n",
        "[1, 3, 5]\n",
        "\n",
        "\n",
        "224. Write a Python program to create a list with unique values filtered out.\n",
        "Sample Output:\n",
        "[2, 4]\n",
        "\n",
        "\n",
        "225. Write a Python program to retrieve the value of the nested key indicated by the given selector list from a dictionary or list.\n",
        "Sample Output:\n",
        "Harwood\n",
        "2\n",
        "\n",
        "\n",
        "226. Write a Python program to get a list of elements that exist in both lists, after applying the provided function to each list element of both.\n",
        "Sample Output:\n",
        "[2.1]\n",
        "\n",
        "\n",
        "227. Write a Python program to get the symmetric difference between two lists, after applying the provided function to each list element of both.\n",
        "Sample Output:\n",
        "[1.2, 3.4]\n",
        "\n",
        "\n",
        "228. Write a Python program to get every element that exists in any of the two given lists once, after applying the provided function to each element of both.\n",
        "Sample Output:\n",
        "[2.2, 4.1]\n",
        "\n",
        "\n",
        "229. Write a Python program to find the index of the first element in the given list that satisfies the provided testing function.\n",
        "Sample Output:\n",
        "0\n",
        "\n",
        "\n",
        "230. Write a Python program to find the indexes of all elements in the given list that satisfy the provided testing function.\n",
        "Sample Output:\n",
        "[0, 2]\n",
        "\n",
        "\n",
        "231. Write a Python program to split values into two groups, based on the result of the given filter list.\n",
        "Sample Output:\n",
        "[['red', 'green', 'pink'], ['blue']]\n",
        "\n",
        "\n",
        "232. Write a Python program to chunk a given list into smaller lists of a specified size.\n",
        "Sample Output:\n",
        "[[1, 2, 3], [4, 5, 6], [7, 8]]\n",
        "\n",
        "\n",
        "233. Write a Python program to chunk a given list into n smaller lists.\n",
        "Sample Output:\n",
        "[[1, 2], [3, 4], [5, 6], [7]]\n",
        "\n",
        "\n",
        "234. Write a Python program to convert a given number (integer) to a list of digits.\n",
        "Sample Output:\n",
        "[1, 2, 3]\n",
        "[1, 3, 4, 7, 8, 2, 3]\n",
        "\n",
        "\n",
        "235. Write a Python program to find the index of the last element in the given list that satisfies the provided testing function.\n",
        "Sample Output:\n",
        "2\n",
        "\n",
        "\n",
        "236. Write a Python program to find items that are parity outliers in a given list.\n",
        "Sample Output:\n",
        "[1, 3]\n",
        "[2, 4, 6]\n",
        "\n",
        "\n",
        "237. Write a Python program to convert a given list of dictionaries into a list of values corresponding to the specified key.\n",
        "Sample Output:\n",
        "[8, 36, 34, 10]\n",
        "\n",
        "\n",
        "238. Write a Python program to calculate the average of a given list, after mapping each element to a value using the provided function.\n",
        "Sample Output:\n",
        "5.0\n",
        "15.0\n",
        "\n",
        "\n",
        "239. Write a Python program to find the value of the first element in the given list that satisfies the provided testing function.\n",
        "Sample Output:\n",
        "1\n",
        "2\n",
        "\n",
        "\n",
        "240. Write a Python program to find the value of the last element in the given list that satisfies the provided testing function.\n",
        "Sample Output:\n",
        "3\n",
        "4\n",
        "\n",
        "\n",
        "241. Write a Python program to create a dictionary with the unique values of a given list as keys and their frequencies as values.\n",
        "Sample Output:\n",
        "{'a': 4, 'b': 2, 'f': 2, 'c': 1, 'e': 2}\n",
        "{3: 4, 4: 2, 7: 1, 5: 2, 9: 1, 0: 1, 2: 1}\n",
        "\n",
        "\n",
        "242. Write a Python program to get the symmetric difference between two iterables, without filtering out duplicate values.\n",
        "Sample Output:\n",
        "[30, 40]\n",
        "\n",
        "\n",
        "243. Write a Python program to check if a given function returns True for every element in a list.\n",
        "Sample Output:\n",
        "True\n",
        "False\n",
        "False\n",
        "\n",
        "\n",
        "244. Write a Python program to initialize a list containing the numbers in the specified range where start and end are inclusive and the ratio between two terms is step. Return an error if step equals 1.\n",
        "Sample Output:\n",
        "[1, 2, 4, 8, 16, 32, 64, 128, 256]\n",
        "[3, 6, 12, 24, 48, 96, 192]\n",
        "[1, 4, 16, 64, 256]\n",
        "\n",
        "\n",
        "245. Write a Python program that takes any number of iterable objects or objects with a length property and returns the longest one.\n",
        "Sample Output:\n",
        "Green\n",
        "[1, 2, 3, 4, 5]\n",
        "[1, 2, 3, 4]\n",
        "\n",
        "\n",
        "246. Write a Python program to check if a given function returns True for at least one element in the list.\n",
        "Sample Output:\n",
        "True\n",
        "False\n",
        "\n",
        "\n",
        "247. Write a Python program to calculate the difference between two iterables, without filtering duplicate values.\n",
        "Sample Output:\n",
        "[3]\n",
        "\n",
        "\n",
        "248. Write a Python program to get the maximum value of a list, after mapping each element to a value using a given function.\n",
        "Sample Output:\n",
        "8\n",
        "\n",
        "\n",
        "249. Write a Python program to get the minimum value of a list, after mapping each element to a value using a given function.\n",
        "Sample Output:\n",
        "2\n",
        "\n",
        "\n",
        "250. Write a Python program to calculate the sum of a list, after mapping each element to a value using the provided function.\n",
        "Sample Output:\n",
        "20\n",
        "\n",
        "\n",
        "251. Write a Python program that fills a list with the specified value.\n",
        "Sample Output:\n",
        "[0, 0, 0, 0, 0, 0, 0]\n",
        "[3, 3, 3, 3, 3, 3, 3, 3]\n",
        "[-2, -2, -2, -2, -2]\n",
        "[3.2, 3.2, 3.2, 3.2, 3.2]\n",
        "\n",
        "\n",
        "252. Write a Python program to get the n maximum elements from a given list of numbers.\n",
        "Sample Output:\n",
        "Original list elements:\n",
        "[1, 2, 3]\n",
        "Maximum values of the said list: [3]\n",
        "Original list elements:\n",
        "[1, 2, 3]\n",
        "Two maximum values of the said list: [3, 2]\n",
        "Original list elements:\n",
        "[-2, -3, -1, -2, -4, 0, -5]\n",
        "Threee maximum values of the said list: [0, -1, -2]\n",
        "Original list elements:\n",
        "[2.2, 2, 3.2, 4.5, 4.6, 5.2, 2.9]\n",
        "Two maximum values of the said list: [5.2, 4.6]\n",
        "\n",
        "\n",
        "253. Write a Python program to get the n minimum elements from a given list of numbers.\n",
        "Sample Output:\n",
        "Original list elements:\n",
        "[1, 2, 3]\n",
        "Minimum values of the said list: [1]\n",
        "Original list elements:\n",
        "[1, 2, 3]\n",
        "Two minimum values of the said list: [1, 2]\n",
        "Original list elements:\n",
        "[-2, -3, -1, -2, -4, 0, -5]\n",
        "Threee minimum values of the said list: [-5, -4, -3]\n",
        "Original list elements:\n",
        "[2.2, 2, 3.2, 4.5, 4.6, 5.2, 2.9]\n",
        "Two minimum values of the said list: [2, 2.2]\n",
        "\n",
        "\n",
        "254. Write a Python program to get the weighted average of two or more numbers.\n",
        "Sample Output:\n",
        "Original list elements:\n",
        "[10, 50, 40]\n",
        "[2, 5, 3]\n",
        "Weighted average of the said two list of numbers:\n",
        "39.0\n",
        "Original list elements:\n",
        "[82, 90, 76, 83]\n",
        "[0.2, 0.35, 0.45, 32]\n",
        "Weighted average of the said two list of numbers:\n",
        "82.97272727272727\n",
        "\n",
        "\n",
        "255. Write a Python program to perform a deep flattening of a list.\n",
        "Sample Output:\n",
        "Original list elements:\n",
        "[1, [2], [[3], [4], 5], 6]\n",
        "Deep flatten the said list:\n",
        "[1, 2, 3, 4, 5, 6]\n",
        "Original list elements:\n",
        "[[[1, 2, 3], [4, 5]], 6]\n",
        "Deep flatten the said list:\n",
        "[1, 2, 3, 4, 5, 6]\n",
        "\n",
        "\n",
        "256. Write a Python program to get the powerset of a given iterable.\n",
        "Sample Output:\n",
        "Original list elements:\n",
        "[1, 2]\n",
        "Powerset of the said list:\n",
        "[(), (1,), (2,), (1, 2)]\n",
        "Original list elements:\n",
        "[1, 2, 3, 4]\n",
        "Powerset of the said list:\n",
        "[(), (1,), (2,), (3,), (4,), (1, 2), (1, 3), (1, 4), (2, 3), (2, 4), (3, 4), (1, 2, 3), (1, 2, 4), (1, 3, 4), (2, 3, 4), (1, 2, 3, 4)]\n",
        "\n",
        "\n",
        "257. Write a Python program to check if two given lists contain the same elements regardless of order.\n",
        "Sample Output:\n",
        "Original list elements:\n",
        "[1, 2, 4]\n",
        "[2, 4, 1]\n",
        "Check two said lists contain the same elements regardless of order!\n",
        "True\n",
        "Original list elements:\n",
        "[1, 2, 3]\n",
        "[1, 2, 3]\n",
        "Check two said lists contain the same elements regardless of order!\n",
        "True\n",
        "Original list elements:\n",
        "[1, 2, 3]\n",
        "[1, 2, 4]\n",
        "Check two said lists contain the same elements regardless of order!\n",
        "False\n",
        "\n",
        "\n",
        "258. Write a Python program to create a flat list of all the keys in a flat dictionary.\n",
        "Sample Output:\n",
        "Original directory elements:\n",
        "{'Laura': 10, 'Spencer': 11, 'Bridget': 9, 'Howard ': 10}\n",
        "Flat list of all the keys of the said dictionary:\n",
        "['Laura', 'Spencer', 'Bridget', 'Howard ']\n",
        "\n",
        "\n",
        "259. Write a Python program to check if a given function returns True for at least one element in the list.\n",
        "Sample Output:\n",
        "False\n",
        "True\n",
        "False\n",
        "\n",
        "\n",
        "260. Write a Python program to check if all the elements of a list are included in another given list.\n",
        "Sample Output:\n",
        "True\n",
        "False\n",
        "\n",
        "\n",
        "261. Write a Python program to get the most frequent element in a given list of numbers.\n",
        "Sample Output:\n",
        "2\n",
        "Original list:\n",
        "[2, 3, 8, 4, 7, 9, 8, 2, 6, 5, 1, 6, 1, 2, 3, 2, 4, 6, 9, 1, 2]\n",
        "Item with maximum frequency of the said list:\n",
        "2\n",
        "Original list:\n",
        "[1, 2, 3, 1, 2, 3, 2, 1, 4, 3, 3]\n",
        "Item with maximum frequency of the said list:\n",
        "3\n",
        "\n",
        "\n",
        "262. Write a Python program to move the specified number of elements to the end of the given list.\n",
        "Sample Output:\n",
        "[4, 5, 6, 7, 8, 1, 2, 3]\n",
        "[6, 7, 8, 1, 2, 3, 4, 5]\n",
        "[1, 2, 3, 4, 5, 6, 7, 8]\n",
        "[1, 2, 3, 4, 5, 6, 7, 8]\n",
        "[8, 1, 2, 3, 4, 5, 6, 7]\n",
        "[2, 3, 4, 5, 6, 7, 8, 1]\n",
        "\n",
        "\n",
        "263. Write a Python program to move the specified number of elements to the start of the given list.\n",
        "Sample Output:\n",
        "[4, 5, 6, 7, 8, 1, 2, 3]\n",
        "[6, 7, 8, 1, 2, 3, 4, 5]\n",
        "[1, 2, 3, 4, 5, 6, 7, 8]\n",
        "[1, 2, 3, 4, 5, 6, 7, 8]\n",
        "[8, 1, 2, 3, 4, 5, 6, 7]\n",
        "[2, 3, 4, 5, 6, 7, 8, 1]\n",
        "\n",
        "\n",
        "264. Write a Python program to create a two-dimensional list from a given list of lists.\n",
        "Sample Output:\n",
        "[(1, 4, 7, 10), (2, 5, 8, 11), (3, 6, 9, 12)]\n",
        "[(1, 4), (2, 5)]\n",
        "\n",
        "\n",
        "265. Write a Python program to generate a list containing the Fibonacci sequence, up until the nth term.\n",
        "Sample Output:\n",
        "First 7 Fibonacci numbers:\n",
        "[0, 1, 1, 2, 3, 5, 8, 13]\n",
        "First 15 Fibonacci numbers:\n",
        "[0, 1, 1, 2, 3, 5, 8, 13, 21, 34, 55, 89, 144, 233, 377, 610]\n",
        "First 50 Fibonacci numbers:\n",
        "[0, 1, 1, 2, 3, 5, 8, 13, 21, 34, 55, 89, 144, 233, 377, 610, 987, 1597, 2584, 4181, 6765, 10946, 17711, 28657, 46368, 75025, 121393, 196418, 317811, 514229, 832040, 1346269, 2178309, 3524578, 5702887, 9227465, 14930352, 24157817, 39088169, 63245986, 102334155, 165580141, 267914296, 433494437, 701408733, 1134903170, 1836311903, 2971215073, 4807526976, 7778742049, 12586269025]\n",
        "\n",
        "\n",
        "266. Write a Python program to cast the provided value as a list if it's not one.\n",
        "Sample Output:\n",
        "<class 'list'>\n",
        "[1]\n",
        "<class 'tuple'>\n",
        "['Red', 'Green']\n",
        "<class 'set'>\n",
        "['Green', 'Red']\n",
        "<class 'dict'>\n",
        "[1, 2, 3]\n",
        "\n",
        "\n",
        "267. Write a Python program to get the cumulative sum of the elements of a given list.\n",
        "Sample Output:\n",
        "Original list elements:\n",
        "[1, 2, 3, 4]\n",
        "Cumulative sum of the elements of the said list:\n",
        "[1, 3, 6, 10]\n",
        "Original list elements:\n",
        "[-1, -2, -3, 4]\n",
        "Cumulative sum of the elements of the said list:\n",
        "[-1, -3, -6, -2]\n",
        "\n",
        "\n",
        "268. Write a Python program to get a list with n elements removed from the left and right.\n",
        "Sample Output:\n",
        "Original list elements:\n",
        "[1, 2, 3]\n",
        "Remove 1 element from left of the said list:\n",
        "[2, 3]\n",
        "Remove 1 element from right of the said list:\n",
        "[1, 2]\n",
        "Original list elements:\n",
        "[1, 2, 3, 4]\n",
        "Remove 2 elements from left of the said list:\n",
        "[3, 4]\n",
        "Remove 2 elements from right of the said list:\n",
        "[1, 2]\n",
        "Original list elements:\n",
        "[1, 2, 3, 4, 5, 6]\n",
        "Remove 7 elements from left of the said list:\n",
        "[2, 3, 4, 5, 6]\n",
        "Remove 7 elements from right of the said list:\n",
        "[1, 2, 3, 4, 5]\n",
        "\n",
        "\n",
        "269. Write a Python program to get every nth element in a given list.\n",
        "Sample Output:\n",
        "[1, 2, 3, 4, 5, 6, 7, 8, 9, 10]\n",
        "[2, 4, 6, 8, 10]\n",
        "[5, 10]\n",
        "[6]\n",
        "\n",
        "\n",
        "270. Write a Python program to check if the elements of the first list are contained in the second one regardless of order.\n",
        "Sample Output:\n",
        "True\n",
        "True\n",
        "False\n",
        "True\n",
        "\n",
        "\n",
        "271. Write a Python program to check if there are duplicate values in a given flat list.\n",
        "Sample Output:\n",
        "Original list:\n",
        "[1, 2, 3, 4, 5, 6, 7]\n",
        "Check if there are duplicate values in the said given flat list:\n",
        "False\n",
        "Original list:\n",
        "[1, 2, 3, 3, 4, 5, 5, 6, 7]\n",
        "Check if there are duplicate values in the said given flat list:\n",
        "True\n",
        "\n",
        "\n",
        "272. Write a Python program to generate a list of numbers in the arithmetic progression starting with the given positive integer and up to the specified limit.\n",
        "Sample Output:\n",
        "[1, 2, 3, 4, 5, 6, 7, 8, 9, 10, 11, 12, 13, 14, 15]\n",
        "[3, 6, 9, 12, 15, 18, 21, 24, 27, 30, 33, 36]\n",
        "[5, 10, 15, 20, 25]\n",
        "\n",
        "\n",
        "273. Write a Python program to find an element that divides a given list of integers with the same sum value.\n",
        "Sample Output:\n",
        "Original list:\n",
        "[0, 9, 2, 4, 5, 6]\n",
        "Element that devides the said list of integers with the same sum value:\n",
        "4\n",
        "Original list:\n",
        "[-4, 0, 6, 1, 0, 2]\n",
        "Element that devides the said list of integers with the same sum value:\n",
        "1\n",
        "Original list:\n",
        "[1, 2, 3, 4]\n",
        "Element that devides the said list of integers with the same sum value:\n",
        "No such element!\n",
        "Original list:\n",
        "[-4, 0, 5, 1, 0, 1]\n",
        "Element that devides the said list of integers with the same sum value:\n",
        "1\n",
        "\n",
        "\n",
        "274. Write a Python program to count the lowercase letters in a given list of words.\n",
        "Sample Data:\n",
        "([\"Red\", \"Green\", \"Blue\", \"White\"]) -> 13\n",
        "([\"SQL\", \"C++\", \"C\"]) -> 0\n",
        "\n",
        "\n",
        "275. Write a Python program to add all elements of a list of integers except the number at index. Return the updated string.\n",
        "Sample Data:\n",
        "([0, 9, 2, 4, 5, 6] -> [26, 17, 24, 22, 21, 20]\n",
        "([-4, 0, 6, 1, 0, 2]) -> [9, 5, -1, 4, 5, 3]\n",
        "([1, 2, 3]) -> [5, 4, 3]\n",
        "([-4, 0, 5, 1, 0, 1]) -> [7, 3, -2, 2, 3, 2]\n",
        "\n",
        "\n",
        "276. Write a Python program to find the largest odd number in a given list of integers.\n",
        "Sample Data:\n",
        "([0, 9, 2, 4, 5, 6]) -> 9\n",
        "([-4, 0, 6, 1, 0, 2]) -> 1\n",
        "([1, 2, 3]) -> 3\n",
        "([-4, 0, 5, 1, 0, 1]) -> 5\n",
        "\n",
        "\n",
        "277. Write a Python program to calculate the largest and smallest gap between sorted elements of a list of integers.\n",
        "Sample Data:\n",
        "{1, 2 ,9, 0, 4, 6} -> 3\n",
        "{23, -2, 45, 38, 12, 4, 6} -> 15\n",
        "\n",
        "\n",
        "278. Write a Python program to sum the missing numbers in a given list of integers.\n",
        "Sample Data:\n",
        "([0, 3, 4, 7, 9]) -> 22\n",
        "([44, 45, 48]) -> 93\n",
        "([-7, -5, -4, 0]) -> -12\n",
        "\n",
        "\n",
        "279. Write a Python program to extract the first specified number of vowels from a given string. If the specified number is less than the number of vowels present in the string then display \"n is less than the number of vowels present in the string\".\n",
        "Sample Data:\n",
        "(\"Python\", 2) -> \"n is less than number of vowels present in the string.\"\n",
        "(\"Python Exercises\", 3) -> \"oEe\"\n",
        "(\"aeiou\") -> \"AEI\"\n",
        "\n",
        "\n",
        "280. Write a Python program that takes a list of integers and finds all pairs of integers that differ by three. Return all pairs of integers in a list.\n",
        "Sample Data:\n",
        "([0, 3, 4, 7, 9]) -> [[0, 3], [4, 7]]\n",
        "[0, -3, -5, -7, -8] -> [[-3, 0], [-8, -5]]\n",
        "([1, 2, 3, 4, 5]) -> [[1, 4], [2, 5]]\n",
        "([100, 102, 103, 114, 115]) -> [[100, 103]]\n"
      ],
      "metadata": {
        "id": "JLZ02PBTHJHa"
      }
    },
    {
      "cell_type": "markdown",
      "source": [
        "#257"
      ],
      "metadata": {
        "id": "aPF80t8-Lm8t"
      }
    },
    {
      "cell_type": "code",
      "source": [
        "l1=[1,2,4]\n",
        "l2=[4,2,1]\n",
        "l1.sort()\n",
        "l2.sort()\n",
        "if l1 == l2:\n",
        "  print(\"true\")\n",
        "else:\n",
        "  print(\"False\")"
      ],
      "metadata": {
        "colab": {
          "base_uri": "https://localhost:8080/"
        },
        "id": "kHXmh9JMLpfF",
        "outputId": "bfef1116-b5f3-4462-e336-ec9d23c8026b"
      },
      "execution_count": null,
      "outputs": [
        {
          "output_type": "stream",
          "name": "stdout",
          "text": [
            "true\n"
          ]
        }
      ]
    },
    {
      "cell_type": "markdown",
      "source": [],
      "metadata": {
        "id": "2iNTQZvVnO2p"
      }
    },
    {
      "cell_type": "code",
      "source": [],
      "metadata": {
        "id": "7P5gf3QHnTYr"
      },
      "execution_count": null,
      "outputs": []
    },
    {
      "cell_type": "code",
      "source": [
        "s1 = \"abc\"\n",
        "s2=s1\n",
        "print(s1)\n",
        "s1 = \"x\"\n",
        "print(s2)\n",
        "print(s1)"
      ],
      "metadata": {
        "id": "7rwgRa2JJuDt",
        "colab": {
          "base_uri": "https://localhost:8080/"
        },
        "outputId": "fdeb75cc-5e17-40a8-9f25-a9e87e4e5436"
      },
      "execution_count": null,
      "outputs": [
        {
          "output_type": "stream",
          "name": "stdout",
          "text": [
            "abc\n",
            "abc\n",
            "x\n"
          ]
        }
      ]
    },
    {
      "cell_type": "code",
      "source": [
        "\"CDAC\".count(\"C\")"
      ],
      "metadata": {
        "colab": {
          "base_uri": "https://localhost:8080/"
        },
        "id": "-sWYg_V2ElRA",
        "outputId": "8157a4e2-ddfa-40e7-aa9c-37e6f33d6cdd"
      },
      "execution_count": null,
      "outputs": [
        {
          "output_type": "execute_result",
          "data": {
            "text/plain": [
              "2"
            ]
          },
          "metadata": {},
          "execution_count": 5
        }
      ]
    },
    {
      "cell_type": "code",
      "source": [
        "\"10101\".count(\"101\")"
      ],
      "metadata": {
        "id": "yx4y2RxuFJuo",
        "outputId": "f1a1406e-eb81-4154-ef7a-dee273cd89d1",
        "colab": {
          "base_uri": "https://localhost:8080/"
        }
      },
      "execution_count": null,
      "outputs": [
        {
          "output_type": "execute_result",
          "data": {
            "text/plain": [
              "1"
            ]
          },
          "metadata": {},
          "execution_count": 6
        }
      ]
    },
    {
      "cell_type": "code",
      "source": [
        "s = {1,2,3,4,5}\n",
        "l=[1,1,2,2,2,3,4,5]\n",
        "d={}\n",
        "for x in s:\n",
        "  d[x]=l.count(x)\n",
        "print(d)"
      ],
      "metadata": {
        "id": "EWDq0-4JFPYn",
        "colab": {
          "base_uri": "https://localhost:8080/"
        },
        "outputId": "bdb849e4-6290-456f-97c7-24d0ed508c28"
      },
      "execution_count": null,
      "outputs": [
        {
          "output_type": "stream",
          "name": "stdout",
          "text": [
            "{1: 2, 2: 3, 3: 1, 4: 1, 5: 1}\n"
          ]
        }
      ]
    },
    {
      "cell_type": "code",
      "source": [
        "x=d.values()\n",
        "m=1\n",
        "for i in x:\n",
        "  print(index(i),i)"
      ],
      "metadata": {
        "colab": {
          "base_uri": "https://localhost:8080/",
          "height": 176
        },
        "id": "cPRBX14j20-t",
        "outputId": "2b692103-8265-463c-a0d9-5a5df11f8c87"
      },
      "execution_count": null,
      "outputs": [
        {
          "output_type": "error",
          "ename": "NameError",
          "evalue": "name 'index' is not defined",
          "traceback": [
            "\u001b[0;31m---------------------------------------------------------------------------\u001b[0m",
            "\u001b[0;31mNameError\u001b[0m                                 Traceback (most recent call last)",
            "\u001b[0;32m<ipython-input-3-be23a657b307>\u001b[0m in \u001b[0;36m<cell line: 3>\u001b[0;34m()\u001b[0m\n\u001b[1;32m      2\u001b[0m \u001b[0mm\u001b[0m\u001b[0;34m=\u001b[0m\u001b[0;36m1\u001b[0m\u001b[0;34m\u001b[0m\u001b[0;34m\u001b[0m\u001b[0m\n\u001b[1;32m      3\u001b[0m \u001b[0;32mfor\u001b[0m \u001b[0mi\u001b[0m \u001b[0;32min\u001b[0m \u001b[0mx\u001b[0m\u001b[0;34m:\u001b[0m\u001b[0;34m\u001b[0m\u001b[0;34m\u001b[0m\u001b[0m\n\u001b[0;32m----> 4\u001b[0;31m   \u001b[0mprint\u001b[0m\u001b[0;34m(\u001b[0m\u001b[0mindex\u001b[0m\u001b[0;34m(\u001b[0m\u001b[0mi\u001b[0m\u001b[0;34m)\u001b[0m\u001b[0;34m,\u001b[0m\u001b[0mi\u001b[0m\u001b[0;34m)\u001b[0m\u001b[0;34m\u001b[0m\u001b[0;34m\u001b[0m\u001b[0m\n\u001b[0m",
            "\u001b[0;31mNameError\u001b[0m: name 'index' is not defined"
          ]
        }
      ]
    },
    {
      "cell_type": "code",
      "source": [
        "ld = [{1:1},{2:2},{3:3},{4:4}]\n",
        "d2=dict(ld)\n",
        "d2"
      ],
      "metadata": {
        "colab": {
          "base_uri": "https://localhost:8080/",
          "height": 176
        },
        "id": "2aVNTpqo3jP0",
        "outputId": "c11d700b-75b7-42c8-ff15-47a451655e74"
      },
      "execution_count": null,
      "outputs": [
        {
          "output_type": "error",
          "ename": "ValueError",
          "evalue": "dictionary update sequence element #0 has length 1; 2 is required",
          "traceback": [
            "\u001b[0;31m---------------------------------------------------------------------------\u001b[0m",
            "\u001b[0;31mValueError\u001b[0m                                Traceback (most recent call last)",
            "\u001b[0;32m<ipython-input-4-987545b33736>\u001b[0m in \u001b[0;36m<cell line: 2>\u001b[0;34m()\u001b[0m\n\u001b[1;32m      1\u001b[0m \u001b[0mld\u001b[0m \u001b[0;34m=\u001b[0m \u001b[0;34m[\u001b[0m\u001b[0;34m{\u001b[0m\u001b[0;36m1\u001b[0m\u001b[0;34m:\u001b[0m\u001b[0;36m1\u001b[0m\u001b[0;34m}\u001b[0m\u001b[0;34m,\u001b[0m\u001b[0;34m{\u001b[0m\u001b[0;36m2\u001b[0m\u001b[0;34m:\u001b[0m\u001b[0;36m2\u001b[0m\u001b[0;34m}\u001b[0m\u001b[0;34m,\u001b[0m\u001b[0;34m{\u001b[0m\u001b[0;36m3\u001b[0m\u001b[0;34m:\u001b[0m\u001b[0;36m3\u001b[0m\u001b[0;34m}\u001b[0m\u001b[0;34m,\u001b[0m\u001b[0;34m{\u001b[0m\u001b[0;36m4\u001b[0m\u001b[0;34m:\u001b[0m\u001b[0;36m4\u001b[0m\u001b[0;34m}\u001b[0m\u001b[0;34m]\u001b[0m\u001b[0;34m\u001b[0m\u001b[0;34m\u001b[0m\u001b[0m\n\u001b[0;32m----> 2\u001b[0;31m \u001b[0md2\u001b[0m\u001b[0;34m=\u001b[0m\u001b[0mdict\u001b[0m\u001b[0;34m(\u001b[0m\u001b[0mld\u001b[0m\u001b[0;34m)\u001b[0m\u001b[0;34m\u001b[0m\u001b[0;34m\u001b[0m\u001b[0m\n\u001b[0m\u001b[1;32m      3\u001b[0m \u001b[0md2\u001b[0m\u001b[0;34m\u001b[0m\u001b[0;34m\u001b[0m\u001b[0m\n",
            "\u001b[0;31mValueError\u001b[0m: dictionary update sequence element #0 has length 1; 2 is required"
          ]
        }
      ]
    },
    {
      "cell_type": "code",
      "source": [],
      "metadata": {
        "id": "zN8xQ5we4VYa"
      },
      "execution_count": null,
      "outputs": []
    }
  ]
}