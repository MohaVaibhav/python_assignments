{
 "cells": [
  {
   "cell_type": "code",
   "execution_count": 3,
   "id": "1ad9729e",
   "metadata": {},
   "outputs": [],
   "source": [
    "def add(a,b):\n",
    "    \"\"\" Adding two nos\"\"\"\n",
    "    print(\"Addition is \", a+b)"
   ]
  },
  {
   "cell_type": "code",
   "execution_count": 4,
   "id": "fecc21d7",
   "metadata": {},
   "outputs": [
    {
     "name": "stdout",
     "output_type": "stream",
     "text": [
      "Addition is  30\n"
     ]
    }
   ],
   "source": [
    "add(10,20)"
   ]
  },
  {
   "cell_type": "code",
   "execution_count": 5,
   "id": "ae4f55c5",
   "metadata": {},
   "outputs": [
    {
     "data": {
      "text/plain": [
       "' Adding two nos'"
      ]
     },
     "execution_count": 5,
     "metadata": {},
     "output_type": "execute_result"
    }
   ],
   "source": [
    "add.__doc__"
   ]
  },
  {
   "cell_type": "code",
   "execution_count": 6,
   "id": "18a65b99",
   "metadata": {},
   "outputs": [
    {
     "name": "stdout",
     "output_type": "stream",
     "text": [
      "<class 'function'>\n"
     ]
    }
   ],
   "source": [
    "print(type(add))"
   ]
  },
  {
   "cell_type": "code",
   "execution_count": 5,
   "id": "edfc3d16",
   "metadata": {},
   "outputs": [
    {
     "name": "stdout",
     "output_type": "stream",
     "text": [
      "10\n"
     ]
    }
   ],
   "source": [
    "add=10\n",
    "print(add)"
   ]
  },
  {
   "cell_type": "code",
   "execution_count": 6,
   "id": "7d35f9d1",
   "metadata": {},
   "outputs": [
    {
     "name": "stdout",
     "output_type": "stream",
     "text": [
      "<class 'int'>\n"
     ]
    }
   ],
   "source": [
    "print(type(add))"
   ]
  },
  {
   "cell_type": "code",
   "execution_count": 1,
   "id": "304638cd",
   "metadata": {},
   "outputs": [
    {
     "name": "stdout",
     "output_type": "stream",
     "text": [
      "<class 'type'>\n"
     ]
    }
   ],
   "source": [
    "print(type(str))"
   ]
  },
  {
   "cell_type": "code",
   "execution_count": 7,
   "id": "051b9d90",
   "metadata": {},
   "outputs": [],
   "source": [
    "str=10"
   ]
  },
  {
   "cell_type": "code",
   "execution_count": 8,
   "id": "372650a0",
   "metadata": {},
   "outputs": [
    {
     "name": "stdout",
     "output_type": "stream",
     "text": [
      "10\n"
     ]
    }
   ],
   "source": [
    "print(str)"
   ]
  },
  {
   "cell_type": "code",
   "execution_count": 2,
   "id": "262fbbaf",
   "metadata": {},
   "outputs": [
    {
     "data": {
      "text/plain": [
       "'10'"
      ]
     },
     "execution_count": 2,
     "metadata": {},
     "output_type": "execute_result"
    }
   ],
   "source": [
    "str(10)"
   ]
  },
  {
   "cell_type": "code",
   "execution_count": null,
   "id": "068fdb68",
   "metadata": {},
   "outputs": [],
   "source": [
    "# solution :: load the kernel again / restart kernel"
   ]
  },
  {
   "cell_type": "code",
   "execution_count": 11,
   "id": "b1fe3944",
   "metadata": {},
   "outputs": [],
   "source": [
    "add_copy= add  "
   ]
  },
  {
   "cell_type": "code",
   "execution_count": 12,
   "id": "4558a006",
   "metadata": {},
   "outputs": [
    {
     "name": "stdout",
     "output_type": "stream",
     "text": [
      "1899651022048 1899651022048\n"
     ]
    }
   ],
   "source": [
    "print(id(add_copy),id(add))"
   ]
  },
  {
   "cell_type": "code",
   "execution_count": 13,
   "id": "853884d1",
   "metadata": {},
   "outputs": [
    {
     "name": "stdout",
     "output_type": "stream",
     "text": [
      "Addition is  30\n"
     ]
    }
   ],
   "source": [
    "add_copy(10,20)"
   ]
  },
  {
   "cell_type": "code",
   "execution_count": 14,
   "id": "520a1ff4",
   "metadata": {},
   "outputs": [],
   "source": [
    "p=print"
   ]
  },
  {
   "cell_type": "code",
   "execution_count": 15,
   "id": "46e49199",
   "metadata": {},
   "outputs": [
    {
     "name": "stdout",
     "output_type": "stream",
     "text": [
      "Hi This is python ......!!! Suprised!!\n"
     ]
    }
   ],
   "source": [
    "p(\"Hi This is python ......!!! Suprised!!\")"
   ]
  },
  {
   "cell_type": "code",
   "execution_count": 16,
   "id": "ac2ea77d",
   "metadata": {},
   "outputs": [],
   "source": [
    "def p():\n",
    "    print(\"trial\")"
   ]
  },
  {
   "cell_type": "code",
   "execution_count": 17,
   "id": "8e66f559",
   "metadata": {},
   "outputs": [
    {
     "name": "stdout",
     "output_type": "stream",
     "text": [
      "trial\n"
     ]
    }
   ],
   "source": [
    "p()"
   ]
  },
  {
   "cell_type": "code",
   "execution_count": 22,
   "id": "5bc5f6fc",
   "metadata": {},
   "outputs": [],
   "source": [
    "def add(a,b):\n",
    "    print(a+b)"
   ]
  },
  {
   "cell_type": "code",
   "execution_count": 23,
   "id": "427dabba",
   "metadata": {},
   "outputs": [
    {
     "name": "stdout",
     "output_type": "stream",
     "text": [
      "30\n"
     ]
    }
   ],
   "source": [
    "add(10,20)"
   ]
  },
  {
   "cell_type": "code",
   "execution_count": 24,
   "id": "20f2d433",
   "metadata": {},
   "outputs": [],
   "source": [
    "def add(a,b):\n",
    "    print(\"Addition of 2 nos is \", a+b)"
   ]
  },
  {
   "cell_type": "code",
   "execution_count": 26,
   "id": "c2c6e990",
   "metadata": {},
   "outputs": [
    {
     "name": "stdout",
     "output_type": "stream",
     "text": [
      "Addition of 2 nos is  30\n"
     ]
    }
   ],
   "source": [
    "add(10,20)"
   ]
  },
  {
   "cell_type": "code",
   "execution_count": 29,
   "id": "039368af",
   "metadata": {},
   "outputs": [],
   "source": [
    "# \n",
    "def odd_mult():\n",
    "    \"\"\"Function to multiply all odd nos from 1 to 100\"\"\"\n",
    "    res=1\n",
    "    for idx in range(1,100,2):\n",
    "        res = res * idx\n",
    "    print(res)"
   ]
  },
  {
   "cell_type": "code",
   "execution_count": 30,
   "id": "9b96e1d6",
   "metadata": {},
   "outputs": [
    {
     "name": "stdout",
     "output_type": "stream",
     "text": [
      "2725392139750729502980713245400918633290796330545803413734328823443106201171875\n"
     ]
    }
   ],
   "source": [
    "odd_mult()"
   ]
  },
  {
   "cell_type": "code",
   "execution_count": 31,
   "id": "37f90da2",
   "metadata": {},
   "outputs": [],
   "source": [
    "def factorial(n):\n",
    "    \"\"\"Print factorial of n\"\"\"\n",
    "    res=1\n",
    "    for idx in range(1,n+1):\n",
    "        res = res * idx\n",
    "    print(res)"
   ]
  },
  {
   "cell_type": "code",
   "execution_count": 33,
   "id": "cb316d0d",
   "metadata": {},
   "outputs": [
    {
     "name": "stdout",
     "output_type": "stream",
     "text": [
      "402387260077093773543702433923003985719374864210714632543799910429938512398629020592044208486969404800479988610197196058631666872994808558901323829669944590997424504087073759918823627727188732519779505950995276120874975462497043601418278094646496291056393887437886487337119181045825783647849977012476632889835955735432513185323958463075557409114262417474349347553428646576611667797396668820291207379143853719588249808126867838374559731746136085379534524221586593201928090878297308431392844403281231558611036976801357304216168747609675871348312025478589320767169132448426236131412508780208000261683151027341827977704784635868170164365024153691398281264810213092761244896359928705114964975419909342221566832572080821333186116811553615836546984046708975602900950537616475847728421889679646244945160765353408198901385442487984959953319101723355556602139450399736280750137837615307127761926849034352625200015888535147331611702103968175921510907788019393178114194545257223865541461062892187960223838971476088506276862967146674697562911234082439208160153780889893964518263243671616762179168909779911903754031274622289988005195444414282012187361745992642956581746628302955570299024324153181617210465832036786906117260158783520751516284225540265170483304226143974286933061690897968482590125458327168226458066526769958652682272807075781391858178889652208164348344825993266043367660176999612831860788386150279465955131156552036093988180612138558600301435694527224206344631797460594682573103790084024432438465657245014402821885252470935190620929023136493273497565513958720559654228749774011413346962715422845862377387538230483865688976461927383814900140767310446640259899490222221765904339901886018566526485061799702356193897017860040811889729918311021171229845901641921068884387121855646124960798722908519296819372388642614839657382291123125024186649353143970137428531926649875337218940694281434118520158014123344828015051399694290153483077644569099073152433278288269864602789864321139083506217095002597389863554277196742822248757586765752344220207573630569498825087968928162753848863396909959826280956121450994871701244516461260379029309120889086942028510640182154399457156805941872748998094254742173582401063677404595741785160829230135358081840096996372524230560855903700624271243416909004153690105933983835777939410970027753472000000000000000000000000000000000000000000000000000000000000000000000000000000000000000000000000000000000000000000000000000000000000000000000000000000000000000000000000000000000000000000000000000000000000000000000000000000000000000000000000000000000\n"
     ]
    }
   ],
   "source": [
    "factorial(1000)"
   ]
  },
  {
   "cell_type": "markdown",
   "id": "34943ccb",
   "metadata": {},
   "source": [
    "# return multiple values"
   ]
  },
  {
   "cell_type": "code",
   "execution_count": 41,
   "id": "25abbec0",
   "metadata": {},
   "outputs": [],
   "source": [
    "def maxmin(list_1):\n",
    "    max_val = max(list_1)\n",
    "    min_val = min(list_1)\n",
    "    return max_val, min_val"
   ]
  },
  {
   "cell_type": "code",
   "execution_count": 42,
   "id": "8d09a052",
   "metadata": {},
   "outputs": [
    {
     "data": {
      "text/plain": [
       "(99, 11)"
      ]
     },
     "execution_count": 42,
     "metadata": {},
     "output_type": "execute_result"
    }
   ],
   "source": [
    "maxmin([99,23,67,11,78])"
   ]
  },
  {
   "cell_type": "markdown",
   "id": "5cd123f5",
   "metadata": {},
   "source": [
    "# return nothing (None)"
   ]
  },
  {
   "cell_type": "code",
   "execution_count": 34,
   "id": "0b7e5b8d",
   "metadata": {},
   "outputs": [],
   "source": [
    "# return no value\n",
    "def return_novalue():\n",
    "    print(\"This returns nothing!\")\n",
    "    # return None"
   ]
  },
  {
   "cell_type": "code",
   "execution_count": null,
   "id": "8fecb2e3",
   "metadata": {},
   "outputs": [],
   "source": []
  },
  {
   "cell_type": "code",
   "execution_count": 38,
   "id": "a0729b63",
   "metadata": {},
   "outputs": [],
   "source": [
    "def return_novalue_v1():\n",
    "    print(\"This returns nothing!\")\n",
    "    return  # return None"
   ]
  },
  {
   "cell_type": "code",
   "execution_count": 40,
   "id": "029162cf",
   "metadata": {},
   "outputs": [],
   "source": [
    "def return_novalue_v2():\n",
    "    print(\"This returns nothing!\")\n",
    "    return None # return None"
   ]
  },
  {
   "cell_type": "code",
   "execution_count": 35,
   "id": "ba62174a",
   "metadata": {},
   "outputs": [
    {
     "name": "stdout",
     "output_type": "stream",
     "text": [
      "This returns nothing!\n"
     ]
    }
   ],
   "source": [
    "return_novalue()"
   ]
  },
  {
   "cell_type": "code",
   "execution_count": 36,
   "id": "d6c20304",
   "metadata": {},
   "outputs": [
    {
     "name": "stdout",
     "output_type": "stream",
     "text": [
      "This returns nothing!\n",
      "None\n"
     ]
    }
   ],
   "source": [
    "v1 = return_novalue()\n",
    "print(v1)"
   ]
  },
  {
   "cell_type": "code",
   "execution_count": 39,
   "id": "f24c46fb",
   "metadata": {},
   "outputs": [
    {
     "name": "stdout",
     "output_type": "stream",
     "text": [
      "This returns nothing!\n",
      "None\n"
     ]
    }
   ],
   "source": [
    "v2 = return_novalue_v1()\n",
    "print(v2)"
   ]
  },
  {
   "cell_type": "code",
   "execution_count": 37,
   "id": "32124888",
   "metadata": {},
   "outputs": [
    {
     "name": "stdout",
     "output_type": "stream",
     "text": [
      "HI\n",
      "None\n"
     ]
    }
   ],
   "source": [
    "print(print(\"HI\"))"
   ]
  },
  {
   "cell_type": "markdown",
   "id": "a2f2f8cb",
   "metadata": {},
   "source": [
    "# recurssive function"
   ]
  },
  {
   "cell_type": "code",
   "execution_count": 43,
   "id": "0c28dd1f",
   "metadata": {},
   "outputs": [],
   "source": [
    "def recc(n):\n",
    "    \"\"\"print hello 3 times\"\"\"\n",
    "    if n > 0: # breaking condition\n",
    "        print(\"Hello\")\n",
    "        recc(n-1)\n",
    "    else:\n",
    "        return"
   ]
  },
  {
   "cell_type": "code",
   "execution_count": 44,
   "id": "1550d048",
   "metadata": {},
   "outputs": [
    {
     "name": "stdout",
     "output_type": "stream",
     "text": [
      "Hello\n",
      "Hello\n",
      "Hello\n"
     ]
    }
   ],
   "source": [
    "recc(3)"
   ]
  },
  {
   "cell_type": "code",
   "execution_count": 45,
   "id": "6ebcbb5c",
   "metadata": {},
   "outputs": [],
   "source": [
    "def factorial_recc(n):\n",
    "    if n> 0:\n",
    "        return n * factorial_recc(n-1)\n",
    "    else:\n",
    "        return 1 # factorial of 0 is 1"
   ]
  },
  {
   "cell_type": "code",
   "execution_count": 46,
   "id": "40f90dd2",
   "metadata": {},
   "outputs": [
    {
     "data": {
      "text/plain": [
       "5040"
      ]
     },
     "execution_count": 46,
     "metadata": {},
     "output_type": "execute_result"
    }
   ],
   "source": [
    "factorial_recc(7)"
   ]
  },
  {
   "cell_type": "code",
   "execution_count": 47,
   "id": "e0a60827",
   "metadata": {},
   "outputs": [
    {
     "name": "stdout",
     "output_type": "stream",
     "text": [
      "5040\n"
     ]
    }
   ],
   "source": [
    "factorial(7)"
   ]
  },
  {
   "cell_type": "code",
   "execution_count": 48,
   "id": "df5ca600",
   "metadata": {},
   "outputs": [
    {
     "name": "stdout",
     "output_type": "stream",
     "text": [
      "After copy by assignment\n",
      "1899664751104 1899664751104\n",
      "After changing\n",
      "1899664751104 1899665012992\n"
     ]
    }
   ],
   "source": [
    "l1=[10,20,30]\n",
    "\n",
    "l1_copy = l1\n",
    "print(\"After copy by assignment\")\n",
    "print(id(l1),id(l1_copy))\n",
    "\n",
    "l1_copy = [500,600]\n",
    "print(\"After changing\")\n",
    "print(id(l1),id(l1_copy))"
   ]
  },
  {
   "cell_type": "code",
   "execution_count": null,
   "id": "6ed795e6",
   "metadata": {},
   "outputs": [],
   "source": []
  }
 ],
 "metadata": {
  "kernelspec": {
   "display_name": "Python 3 (ipykernel)",
   "language": "python",
   "name": "python3"
  },
  "language_info": {
   "codemirror_mode": {
    "name": "ipython",
    "version": 3
   },
   "file_extension": ".py",
   "mimetype": "text/x-python",
   "name": "python",
   "nbconvert_exporter": "python",
   "pygments_lexer": "ipython3",
   "version": "3.11.4"
  }
 },
 "nbformat": 4,
 "nbformat_minor": 5
}
