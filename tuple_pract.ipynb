{
  "nbformat": 4,
  "nbformat_minor": 0,
  "metadata": {
    "colab": {
      "provenance": [],
      "authorship_tag": "ABX9TyObm+HbHjVgumzbSRgA7sTA",
      "include_colab_link": true
    },
    "kernelspec": {
      "name": "python3",
      "display_name": "Python 3"
    },
    "language_info": {
      "name": "python"
    }
  },
  "cells": [
    {
      "cell_type": "markdown",
      "metadata": {
        "id": "view-in-github",
        "colab_type": "text"
      },
      "source": [
        "<a href=\"https://colab.research.google.com/github/MohaVaibhav/python_assignments/blob/main/tuple_pract.ipynb\" target=\"_parent\"><img src=\"https://colab.research.google.com/assets/colab-badge.svg\" alt=\"Open In Colab\"/></a>"
      ]
    },
    {
      "cell_type": "markdown",
      "source": [
        "1. Write a Python program to create a tuple.\n",
        "\n",
        "\n",
        "\n",
        "2. Write a Python program to create a tuple with different data types.\n",
        "\n",
        "\n",
        "\n",
        "3. Write a Python program to create a tuple of numbers and print one item.\n",
        "\n",
        "\n",
        "\n",
        "4. Write a Python program to unpack a tuple into several variables.\n",
        "\n",
        "\n",
        "\n",
        "5. Write a Python program to add an item to a tuple.\n",
        "\n",
        "\n",
        "\n",
        "6. Write a Python program to convert a tuple to a string.\n",
        "\n",
        "\n",
        "\n",
        "7. Write a Python program to get the 4th element from the last element of a tuple.\n",
        "\n",
        "\n"
      ],
      "metadata": {
        "id": "DCVu8k-N-aq4"
      }
    },
    {
      "cell_type": "code",
      "execution_count": null,
      "metadata": {
        "colab": {
          "base_uri": "https://localhost:8080/"
        },
        "id": "q9W8nvXg8M8T",
        "outputId": "55a0abb1-58e3-4325-e00f-619ea9f0f18a"
      },
      "outputs": [
        {
          "output_type": "execute_result",
          "data": {
            "text/plain": [
              "int"
            ]
          },
          "metadata": {},
          "execution_count": 2
        }
      ],
      "source": [
        "#\n",
        "t2 =(56)\n",
        "type(t2)"
      ]
    },
    {
      "cell_type": "code",
      "source": [
        "t2 =(56,)\n",
        "type(t2)"
      ],
      "metadata": {
        "colab": {
          "base_uri": "https://localhost:8080/"
        },
        "id": "-8ZNIxKw8Tp_",
        "outputId": "81b15c90-ad99-47d6-c4bb-85676e0df3c5"
      },
      "execution_count": null,
      "outputs": [
        {
          "output_type": "execute_result",
          "data": {
            "text/plain": [
              "tuple"
            ]
          },
          "metadata": {},
          "execution_count": 3
        }
      ]
    },
    {
      "cell_type": "code",
      "source": [
        "# wap to create  a tuple\n",
        "t1 = (1,2,3)\n",
        "t2 = (\"ghgh\")\n",
        "t3= (,\"jk\")"
      ],
      "metadata": {
        "id": "cDzj6J_G8cVY"
      },
      "execution_count": null,
      "outputs": []
    },
    {
      "cell_type": "markdown",
      "source": [
        "7. Write a Python program to get the 4th element from the last element of a tuple.\n"
      ],
      "metadata": {
        "id": "O8N2ygzG-gnd"
      }
    },
    {
      "cell_type": "code",
      "source": [
        "t7 = (0,(1,2,3),[4,5,6],[0,1,2,3,4,5])\n",
        "t7[len(t7)-1][3]"
      ],
      "metadata": {
        "colab": {
          "base_uri": "https://localhost:8080/"
        },
        "id": "glzZZgiO-hgI",
        "outputId": "ac152f0c-6912-4248-aa4a-d9d9fdcb7a67"
      },
      "execution_count": null,
      "outputs": [
        {
          "output_type": "execute_result",
          "data": {
            "text/plain": [
              "3"
            ]
          },
          "metadata": {},
          "execution_count": 6
        }
      ]
    },
    {
      "cell_type": "markdown",
      "source": [
        "\n",
        "8. Write a Python program to create the colon of a tuple.\n",
        "nested tuple"
      ],
      "metadata": {
        "id": "BtFSKoe8_Hdd"
      }
    },
    {
      "cell_type": "code",
      "source": [
        "l1= [0,1,23]\n",
        "l2=[2,3,4]\n",
        "t8 = tuple(zip(l1,l2))\n",
        "t8"
      ],
      "metadata": {
        "colab": {
          "base_uri": "https://localhost:8080/"
        },
        "id": "EFRnCLZT-4qo",
        "outputId": "b4f4ec75-226f-4e56-9c8c-db2536c83bc3"
      },
      "execution_count": null,
      "outputs": [
        {
          "output_type": "execute_result",
          "data": {
            "text/plain": [
              "((0, 2), (1, 3), (23, 4))"
            ]
          },
          "metadata": {},
          "execution_count": 31
        }
      ]
    },
    {
      "cell_type": "markdown",
      "source": [
        "9. Write a Python program to find repeated items in a tuple."
      ],
      "metadata": {
        "id": "6FzwIiLW_YSc"
      }
    },
    {
      "cell_type": "code",
      "source": [
        "t9 = (0,0,1,2,3,4,5,5)\n",
        "s9 = set(t9)\n",
        "d9 = {}\n",
        "for i in s9:\n",
        "  value = t9.count(i)\n",
        "  d9[i]= value\n",
        "  print(\"element:\",i)\n",
        "d9\n"
      ],
      "metadata": {
        "colab": {
          "base_uri": "https://localhost:8080/"
        },
        "id": "tpggcglO_e1e",
        "outputId": "070c5fe6-4e87-4956-a3a7-c037999203e5"
      },
      "execution_count": null,
      "outputs": [
        {
          "output_type": "execute_result",
          "data": {
            "text/plain": [
              "{0: 2, 1: 1, 2: 1, 3: 1, 4: 1, 5: 2}"
            ]
          },
          "metadata": {},
          "execution_count": 11
        }
      ]
    },
    {
      "cell_type": "code",
      "source": [
        "t1 = (1,2,3,3)\n",
        "repeated_set = set()\n",
        "for idx1 in range(len(t1)):\n",
        "  for idx2 in range(len(t1)):\n",
        "    if(idx1 != idx2) and (t1[idx1] == t1[idx2]) and (t1[idx1] not in repeated_set):\n",
        "      repeated_set.add(t1[idx1])\n",
        "print(repeated_set)"
      ],
      "metadata": {
        "colab": {
          "base_uri": "https://localhost:8080/"
        },
        "id": "7os0VsKHSe8S",
        "outputId": "7e09f3e4-c350-4792-a381-1ef1bf31b144"
      },
      "execution_count": null,
      "outputs": [
        {
          "output_type": "stream",
          "name": "stdout",
          "text": [
            "{3}\n"
          ]
        }
      ]
    },
    {
      "cell_type": "code",
      "source": [
        "# to create empty set\n",
        "s9 =set()\n",
        "type(s9)"
      ],
      "metadata": {
        "colab": {
          "base_uri": "https://localhost:8080/"
        },
        "id": "5eTgWYV2_4a_",
        "outputId": "dec4279c-d338-4ac2-fe16-836be33f46ca"
      },
      "execution_count": null,
      "outputs": [
        {
          "output_type": "execute_result",
          "data": {
            "text/plain": [
              "set"
            ]
          },
          "metadata": {},
          "execution_count": 9
        }
      ]
    },
    {
      "cell_type": "code",
      "source": [
        "# to create empty dictionary\n",
        "s10 ={}\n",
        "type(s10)"
      ],
      "metadata": {
        "colab": {
          "base_uri": "https://localhost:8080/"
        },
        "id": "fALPrfDfAomu",
        "outputId": "ab194c6d-280d-4421-edef-9ede9f6269c8"
      },
      "execution_count": null,
      "outputs": [
        {
          "output_type": "execute_result",
          "data": {
            "text/plain": [
              "dict"
            ]
          },
          "metadata": {},
          "execution_count": 10
        }
      ]
    },
    {
      "cell_type": "markdown",
      "source": [
        "10. Write a Python program to check whether an element exists within a tuple.\n",
        "use in function"
      ],
      "metadata": {
        "id": "Qe4X1cOmBUx4"
      }
    },
    {
      "cell_type": "code",
      "source": [],
      "metadata": {
        "colab": {
          "base_uri": "https://localhost:8080/"
        },
        "id": "k9ycKKVwAta0",
        "outputId": "6c8b0e50-c7bf-4dca-a5f0-267f13cafa09"
      },
      "execution_count": null,
      "outputs": [
        {
          "output_type": "stream",
          "name": "stdout",
          "text": [
            "{3}\n"
          ]
        }
      ]
    },
    {
      "cell_type": "markdown",
      "source": [
        "11. Write a Python program to convert a list to a tuple."
      ],
      "metadata": {
        "id": "cDxa2quwDvH4"
      }
    },
    {
      "cell_type": "code",
      "source": [
        "l1 = [1,2,3,3]\n",
        "t11 = tuple(l1)\n",
        "print(\"list:\",l1)\n",
        "print(\"Tuple:\",t11)"
      ],
      "metadata": {
        "colab": {
          "base_uri": "https://localhost:8080/"
        },
        "id": "-r-SUDrpDwLG",
        "outputId": "d742cc4b-5de3-41cd-c412-81c4cb8a8005"
      },
      "execution_count": null,
      "outputs": [
        {
          "output_type": "stream",
          "name": "stdout",
          "text": [
            "list: [1, 2, 3, 3]\n",
            "Tuple: (1, 2, 3, 3)\n"
          ]
        }
      ]
    },
    {
      "cell_type": "markdown",
      "source": [
        "12. Write a Python program to remove an item from a tuple.\n",
        "Explanation: Tuple is immutable"
      ],
      "metadata": {
        "id": "A6oCnc-mEGfO"
      }
    },
    {
      "cell_type": "code",
      "source": [
        "t12 = (1,2,3,3)\n",
        "del t12[3]\n",
        "t12"
      ],
      "metadata": {
        "colab": {
          "base_uri": "https://localhost:8080/",
          "height": 176
        },
        "id": "EQbqtAXKEKdm",
        "outputId": "deff79eb-6109-4451-e449-4ed89613f17a"
      },
      "execution_count": null,
      "outputs": [
        {
          "output_type": "error",
          "ename": "TypeError",
          "evalue": "'tuple' object doesn't support item deletion",
          "traceback": [
            "\u001b[0;31m---------------------------------------------------------------------------\u001b[0m",
            "\u001b[0;31mTypeError\u001b[0m                                 Traceback (most recent call last)",
            "\u001b[0;32m<ipython-input-20-241457f243da>\u001b[0m in \u001b[0;36m<cell line: 2>\u001b[0;34m()\u001b[0m\n\u001b[1;32m      1\u001b[0m \u001b[0mt12\u001b[0m \u001b[0;34m=\u001b[0m \u001b[0;34m(\u001b[0m\u001b[0;36m1\u001b[0m\u001b[0;34m,\u001b[0m\u001b[0;36m2\u001b[0m\u001b[0;34m,\u001b[0m\u001b[0;36m3\u001b[0m\u001b[0;34m,\u001b[0m\u001b[0;36m3\u001b[0m\u001b[0;34m)\u001b[0m\u001b[0;34m\u001b[0m\u001b[0;34m\u001b[0m\u001b[0m\n\u001b[0;32m----> 2\u001b[0;31m \u001b[0;32mdel\u001b[0m \u001b[0mt12\u001b[0m\u001b[0;34m[\u001b[0m\u001b[0;36m3\u001b[0m\u001b[0;34m]\u001b[0m\u001b[0;34m\u001b[0m\u001b[0;34m\u001b[0m\u001b[0m\n\u001b[0m\u001b[1;32m      3\u001b[0m \u001b[0mt12\u001b[0m\u001b[0;34m\u001b[0m\u001b[0;34m\u001b[0m\u001b[0m\n",
            "\u001b[0;31mTypeError\u001b[0m: 'tuple' object doesn't support item deletion"
          ]
        }
      ]
    },
    {
      "cell_type": "markdown",
      "source": [
        "13. Write a Python program to slice a tuple."
      ],
      "metadata": {
        "id": "9jGAVbZmE4Vm"
      }
    },
    {
      "cell_type": "code",
      "source": [
        "t13 =(1,2,3,3)\n",
        "t13[2:4]"
      ],
      "metadata": {
        "colab": {
          "base_uri": "https://localhost:8080/"
        },
        "id": "DNmUTLmxE82W",
        "outputId": "d05e7cd9-f5f7-44c2-b1a7-a6a65bb8faa5"
      },
      "execution_count": null,
      "outputs": [
        {
          "output_type": "execute_result",
          "data": {
            "text/plain": [
              "(3, 3)"
            ]
          },
          "metadata": {},
          "execution_count": 21
        }
      ]
    },
    {
      "cell_type": "markdown",
      "source": [
        "14. Write a Python program to find the index of an item in a tuple.\n",
        "for loop and index"
      ],
      "metadata": {
        "id": "O6SqYszuFSKE"
      }
    },
    {
      "cell_type": "code",
      "source": [
        "t14 = (1,2,3,3)\n"
      ],
      "metadata": {
        "id": "o_fPl2-7FUC8"
      },
      "execution_count": null,
      "outputs": []
    },
    {
      "cell_type": "markdown",
      "source": [
        "\n",
        "15. Write a Python program to find the length of a tuple."
      ],
      "metadata": {
        "id": "fruOpu4fFxY0"
      }
    },
    {
      "cell_type": "code",
      "source": [
        "t15 = (1,2,3,3)\n",
        "len(t15)"
      ],
      "metadata": {
        "colab": {
          "base_uri": "https://localhost:8080/"
        },
        "id": "9d_8D7ZpFzVT",
        "outputId": "7da9af26-f0ab-419b-c14a-d6358f1e1f4b"
      },
      "execution_count": null,
      "outputs": [
        {
          "output_type": "execute_result",
          "data": {
            "text/plain": [
              "4"
            ]
          },
          "metadata": {},
          "execution_count": 22
        }
      ]
    },
    {
      "cell_type": "markdown",
      "source": [
        "16. Write a Python program to convert a tuple to a dictionary."
      ],
      "metadata": {
        "id": "D0Zus1-ZF55b"
      }
    },
    {
      "cell_type": "code",
      "source": [
        "t16 = ((00,11),(22,33),(44,55),(66,77))\n",
        "d16 =dict(t16)\n",
        "d16"
      ],
      "metadata": {
        "colab": {
          "base_uri": "https://localhost:8080/"
        },
        "id": "xcfefy6KF8sz",
        "outputId": "2483c306-181d-4800-f08c-68f4045fb772"
      },
      "execution_count": null,
      "outputs": [
        {
          "output_type": "execute_result",
          "data": {
            "text/plain": [
              "{0: 11, 22: 33, 44: 55, 66: 77}"
            ]
          },
          "metadata": {},
          "execution_count": 24
        }
      ]
    },
    {
      "cell_type": "code",
      "source": [
        "t17 = ('00','11',(9,9),[90,78])\n",
        "d17 =dict(t17)\n",
        "d17"
      ],
      "metadata": {
        "colab": {
          "base_uri": "https://localhost:8080/"
        },
        "id": "A8IWqnbsHXdB",
        "outputId": "4a57aa0b-e5c9-4ec5-d0d0-60e71fa39744"
      },
      "execution_count": null,
      "outputs": [
        {
          "output_type": "execute_result",
          "data": {
            "text/plain": [
              "{'0': '0', '1': '1', 9: 9, 90: 78}"
            ]
          },
          "metadata": {},
          "execution_count": 41
        }
      ]
    },
    {
      "cell_type": "code",
      "source": [
        "t17 = ((00,11),)\n",
        "o17 = dict(t17)"
      ],
      "metadata": {
        "id": "IGr_PrBGHyT5"
      },
      "execution_count": null,
      "outputs": []
    },
    {
      "cell_type": "markdown",
      "source": [
        "\n",
        "17. Write a Python program to unzip a list of tuples into individual lists."
      ],
      "metadata": {
        "id": "a3iKT0AqGxmy"
      }
    },
    {
      "cell_type": "code",
      "source": [
        "t17 =[(0, 2), (1, 3), (23, 4)]\n",
        "for i in t17:\n",
        "  print(list(i))\n"
      ],
      "metadata": {
        "colab": {
          "base_uri": "https://localhost:8080/"
        },
        "id": "lb8tVGY6Gyzx",
        "outputId": "9b5f97d0-055a-449d-9169-66a784912479"
      },
      "execution_count": null,
      "outputs": [
        {
          "output_type": "stream",
          "name": "stdout",
          "text": [
            "[0, 2]\n",
            "[1, 3]\n",
            "[23, 4]\n"
          ]
        }
      ]
    },
    {
      "cell_type": "markdown",
      "source": [
        "18. Write a Python program to reverse a tuple.\n"
      ],
      "metadata": {
        "id": "CMGC-cBcG5H5"
      }
    },
    {
      "cell_type": "code",
      "source": [
        "t18 = (1,2,3,4)\n",
        "t18[::-1]"
      ],
      "metadata": {
        "colab": {
          "base_uri": "https://localhost:8080/"
        },
        "id": "zDKRzRqcG7mJ",
        "outputId": "04a29db7-f85b-4358-9530-0e863237c62c"
      },
      "execution_count": null,
      "outputs": [
        {
          "output_type": "execute_result",
          "data": {
            "text/plain": [
              "(4, 3, 2, 1)"
            ]
          },
          "metadata": {},
          "execution_count": 25
        }
      ]
    },
    {
      "cell_type": "code",
      "source": [
        "t18 = (1,2,3,4)\n",
        "print(tuple(reversed(t18)))"
      ],
      "metadata": {
        "colab": {
          "base_uri": "https://localhost:8080/"
        },
        "id": "_vQZDgD2Kux6",
        "outputId": "6e931a4d-217f-4f4d-8263-8d589bbb6e36"
      },
      "execution_count": null,
      "outputs": [
        {
          "output_type": "stream",
          "name": "stdout",
          "text": [
            "(4, 3, 2, 1)\n"
          ]
        }
      ]
    },
    {
      "cell_type": "code",
      "source": [
        "print(sorted(t18,reverse=True))"
      ],
      "metadata": {
        "colab": {
          "base_uri": "https://localhost:8080/"
        },
        "id": "zi40KDPqLErT",
        "outputId": "0639aaf8-90d1-4f58-b08a-efa196a49d64"
      },
      "execution_count": null,
      "outputs": [
        {
          "output_type": "stream",
          "name": "stdout",
          "text": [
            "[4, 3, 2, 1]\n"
          ]
        }
      ]
    },
    {
      "cell_type": "markdown",
      "source": [
        "19. Write a Python program to convert a list of tuples into a dictionary."
      ],
      "metadata": {
        "id": "QJUhQAHeHLSV"
      }
    },
    {
      "cell_type": "code",
      "source": [
        "t17 =[(0, 2), (1, 3), (23, 4)]\n",
        "d17=dict(t17)\n",
        "d17\n"
      ],
      "metadata": {
        "colab": {
          "base_uri": "https://localhost:8080/"
        },
        "id": "kF2Q3o3THP-_",
        "outputId": "f1e5eca5-e966-4f2c-8366-13e5aeae2e44"
      },
      "execution_count": null,
      "outputs": [
        {
          "output_type": "execute_result",
          "data": {
            "text/plain": [
              "{0: 2, 1: 3, 23: 4}"
            ]
          },
          "metadata": {},
          "execution_count": 38
        }
      ]
    },
    {
      "cell_type": "markdown",
      "source": [
        "20. Write a Python program to print a tuple with string formatting.\n",
        "Sample tuple : (100, 200, 300)\n",
        "Output : This is a tuple (100, 200, 300)"
      ],
      "metadata": {
        "id": "rDPGTqIsH-NJ"
      }
    },
    {
      "cell_type": "code",
      "source": [
        "t20 = (100,200,300)\n",
        "print(\"this is a tuple:\",str(t20))"
      ],
      "metadata": {
        "colab": {
          "base_uri": "https://localhost:8080/"
        },
        "id": "KGO095K-H_Gq",
        "outputId": "8096e9e7-ad74-4b78-9ad6-1a1225ca5a54"
      },
      "execution_count": null,
      "outputs": [
        {
          "output_type": "stream",
          "name": "stdout",
          "text": [
            "this is a tuple: (100, 200, 300)\n"
          ]
        }
      ]
    },
    {
      "cell_type": "markdown",
      "source": [
        "21. Write a Python program to replace the last value of tuples in a list.\n",
        "Sample list: [(10, 20, 40), (40, 50, 60), (70, 80, 90)]\n",
        "Expected Output: [(10, 20, 100), (40, 50, 100), (70, 80, 100)]"
      ],
      "metadata": {
        "id": "BdCPAK20KglE"
      }
    },
    {
      "cell_type": "code",
      "source": [
        "l21=[(10, 20, 40), (40, 50, 60), (70, 80, 90)]\n",
        "\n"
      ],
      "metadata": {
        "id": "WMoLgjNTKkHb"
      },
      "execution_count": null,
      "outputs": []
    },
    {
      "cell_type": "markdown",
      "source": [
        "22. Write a Python program to remove an empty tuple(s) from a list of tuples.\n",
        "Sample data: [(), (), ('',), ('a', 'b'), ('a', 'b', 'c'), ('d')]\n",
        "Expected output: [('',), ('a', 'b'), ('a', 'b', 'c'), 'd']"
      ],
      "metadata": {
        "id": "09pzhJd9KmTU"
      }
    },
    {
      "cell_type": "code",
      "source": [],
      "metadata": {
        "id": "iwkoPGl-Lvnl"
      },
      "execution_count": null,
      "outputs": []
    },
    {
      "cell_type": "markdown",
      "source": [
        "23. Write a Python program to sort a tuple by its float element.\n",
        "Sample data: [('item1', '12.20'), ('item2', '15.10'), ('item3', '24.5')]\n",
        "Expected Output: [('item3', '24.5'), ('item2', '15.10'), ('item1', '12.20')]"
      ],
      "metadata": {
        "id": "hG9qYYl5LtRP"
      }
    },
    {
      "cell_type": "code",
      "source": [
        "s23=[('item1', '12.20'), ('item2', '15.10'), ('item3', '24.5')]\n",
        "l=[('1',1.2),('2',33.4),('3',78.6),('4',5.4),('5',45)]\n",
        "l1 =[t[1] for t in l]\n",
        "l1.sort(reverse =True)\n",
        "l2 =[()]*len(l1)\n",
        "for tup in l:\n",
        "  indx = l1.index(tup[1])\n",
        "  l2[indx]=tup\n",
        "l2\n"
      ],
      "metadata": {
        "colab": {
          "base_uri": "https://localhost:8080/"
        },
        "id": "RX8ueK9MLvAM",
        "outputId": "579579dd-1264-4237-9c5f-34dd98aebc5c"
      },
      "execution_count": null,
      "outputs": [
        {
          "output_type": "execute_result",
          "data": {
            "text/plain": [
              "[('3', 78.6), ('5', 45), ('2', 33.4), ('4', 5.4), ('1', 1.2)]"
            ]
          },
          "metadata": {},
          "execution_count": 48
        }
      ]
    },
    {
      "cell_type": "markdown",
      "source": [
        "24. Write a Python program to count the elements in a list until an element is a tuple."
      ],
      "metadata": {
        "id": "QmailclyNe0x"
      }
    },
    {
      "cell_type": "code",
      "source": [
        "s24=[('item1', '12.20'), ('item2', '15.10'), ('item3', '24.5'),{1,2,3},{1:2,2:3},(00,)]\n",
        "count = 0\n",
        "for i in s24:\n",
        "  if type(i) == tuple:\n",
        "    count = count +1\n",
        "print(count)"
      ],
      "metadata": {
        "colab": {
          "base_uri": "https://localhost:8080/"
        },
        "id": "ZMw-wOcCNhBQ",
        "outputId": "d094e68e-9039-4778-82c9-768eb7501fe4"
      },
      "execution_count": null,
      "outputs": [
        {
          "output_type": "stream",
          "name": "stdout",
          "text": [
            "4\n"
          ]
        }
      ]
    },
    {
      "cell_type": "markdown",
      "source": [
        "25. Write a Python program to convert a given string list to a tuple.\n",
        "Original string: python 3.0\n",
        "<class 'str'>\n",
        "Convert the said string to a tuple:\n",
        "('p', 'y', 't', 'h', 'o', 'n', '3', '.', '0')\n",
        "<class 'tuple'>"
      ],
      "metadata": {
        "id": "cjZ7IX5zNkNg"
      }
    },
    {
      "cell_type": "markdown",
      "source": [
        "\n",
        "26. Write a Python program to calculate the product, multiplying all the numbers in a given tuple.\n",
        "Original Tuple:\n",
        "(4, 3, 2, 2, -1, 18)\n",
        "Product - multiplying all the numbers of the said tuple: -864\n",
        "Original Tuple:\n",
        "(2, 4, 8, 8, 3, 2, 9)\n",
        "Product - multiplying all the numbers of the said tuple: 27648\n",
        "\n",
        "\n",
        "\n",
        "27. Write a Python program to calculate the average value of the numbers in a given tuple of tuples.\n",
        "Original Tuple:\n",
        "((10, 10, 10, 12), (30, 45, 56, 45), (81, 80, 39, 32), (1, 2, 3, 4))\n",
        "Average value of the numbers of the said tuple of tuples:\n",
        "[30.5, 34.25, 27.0, 23.25]\n",
        "Original Tuple:\n",
        "((1, 1, -5), (30, -15, 56), (81, -60, -39), (-10, 2, 3))\n",
        "Average value of the numbers of the said tuple of tuples:\n",
        "[25.5, -18.0, 3.75]\n",
        "\n",
        "\n",
        "\n",
        "28. Write a Python program to convert a tuple of string values to a tuple of integer values.\n",
        "Original tuple values:\n",
        "(('333', '33'), ('1416', '55'))\n",
        "New tuple values:\n",
        "((333, 33), (1416, 55))\n",
        "\n",
        "\n",
        "\n",
        "29. Write a Python program to convert a given tuple of positive integers into an integer.\n",
        "Original tuple:\n",
        "(1, 2, 3)\n",
        "Convert the said tuple of positive integers into an integer:\n",
        "123\n",
        "Original tuple:\n",
        "(10, 20, 40, 5, 70)\n",
        "Convert the said tuple of positive integers into an integer:\n",
        "102040570\n",
        "\n",
        "\n",
        "\n",
        "30. Write a Python program to check if a specified element appears in a tuple of tuples.\n",
        "Original list:\n",
        "(('Red', 'White', 'Blue'), ('Green', 'Pink', 'Purple'), ('Orange', 'Yellow', 'Lime'))\n",
        "Check if White presenet in said tuple of tuples!\n",
        "True\n",
        "Check if White presenet in said tuple of tuples!\n",
        "True\n",
        "Check if Olive presenet in said tuple of tuples!\n",
        "False\n",
        "\n",
        "\n",
        "\n",
        "31. Write a Python program to compute the element-wise sum of given tuples.\n",
        "Original lists:\n",
        "(1, 2, 3, 4)\n",
        "(3, 5, 2, 1)\n",
        "(2, 2, 3, 1)\n",
        "Element-wise sum of the said tuples:\n",
        "(6, 9, 8, 6)\n",
        "\n",
        "\n",
        "\n",
        "32. Write a Python program to compute the sum of all the elements of each tuple stored inside a list of tuples.\n",
        "Original list of tuples:\n",
        "[(1, 2), (2, 3), (3, 4)]\n",
        "Sum of all the elements of each tuple stored inside the said list of tuples:\n",
        "[3, 5, 7]\n",
        "Original list of tuples:\n",
        "[(1, 2, 6), (2, 3, -6), (3, 4), (2, 2, 2, 2)]\n",
        "Sum of all the elements of each tuple stored inside the said list of tuples:\n",
        "[9, -1, 7, 8]\n",
        "\n",
        "\n",
        "\n",
        "33. Write a Python program to convert a given list of tuples to a list of lists.\n",
        "Original list of tuples: [(1, 2), (2, 3), (3, 4)]\n",
        "Convert the said list of tuples to a list of lists: [[1, 2], [2, 3], [3, 4]]\n",
        "Original list of tuples: [(1, 2), (2, 3, 5), (3, 4), (2, 3, 4, 2)]\n",
        "Convert the said list of tuples to a list of lists: [[1, 2], [2, 3, 5], [3, 4], [2, 3, 4, 2]]\n"
      ],
      "metadata": {
        "id": "cW84iiFqBuB0"
      }
    }
  ]
}