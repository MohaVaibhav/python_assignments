{
  "nbformat": 4,
  "nbformat_minor": 0,
  "metadata": {
    "colab": {
      "provenance": [],
      "authorship_tag": "ABX9TyOkmBEau5kVNu3vs1ghnbr8",
      "include_colab_link": true
    },
    "kernelspec": {
      "name": "python3",
      "display_name": "Python 3"
    },
    "language_info": {
      "name": "python"
    }
  },
  "cells": [
    {
      "cell_type": "markdown",
      "metadata": {
        "id": "view-in-github",
        "colab_type": "text"
      },
      "source": [
        "<a href=\"https://colab.research.google.com/github/MohaVaibhav/python_assignments/blob/main/Decorators.ipynb\" target=\"_parent\"><img src=\"https://colab.research.google.com/assets/colab-badge.svg\" alt=\"Open In Colab\"/></a>"
      ]
    },
    {
      "cell_type": "code",
      "execution_count": 31,
      "metadata": {
        "id": "RXf1M7Om72Im"
      },
      "outputs": [],
      "source": [
        "# Normal Function\n",
        "def wish(name):\n",
        "  print(\"Hello\",name,\"Good Morning\")"
      ]
    },
    {
      "cell_type": "code",
      "source": [
        "wish(\"Moha\")"
      ],
      "metadata": {
        "colab": {
          "base_uri": "https://localhost:8080/"
        },
        "id": "vOnJK54Z8V61",
        "outputId": "45c2c93e-a9ca-49a5-c8a5-bbe7f925d706"
      },
      "execution_count": 32,
      "outputs": [
        {
          "output_type": "stream",
          "name": "stdout",
          "text": [
            "Hello Moha Good Morning\n"
          ]
        }
      ]
    },
    {
      "cell_type": "code",
      "source": [
        "def decor(func):\n",
        "  def inner(name):\n",
        "    if name == \"Sunny\":\n",
        "      print(\"Hello Sunny Bad Morning!!\")\n",
        "    else:\n",
        "      func(name)\n",
        "  return inner"
      ],
      "metadata": {
        "id": "_x9Cah_D8ZKF"
      },
      "execution_count": 62,
      "outputs": []
    },
    {
      "cell_type": "code",
      "source": [
        "@decor\n",
        "def wish(name):\n",
        "  print(\"Hello\",name,\"Good Morning\")\n",
        "\n"
      ],
      "metadata": {
        "id": "bMt5dAwR8zI9"
      },
      "execution_count": 63,
      "outputs": []
    },
    {
      "cell_type": "code",
      "source": [
        "out = decor(wish)\n",
        "wish(\"Sunny\")"
      ],
      "metadata": {
        "colab": {
          "base_uri": "https://localhost:8080/"
        },
        "id": "jChDuL6G85wR",
        "outputId": "c7b8cfee-66ec-4452-b5f0-823150f89fb9"
      },
      "execution_count": 65,
      "outputs": [
        {
          "output_type": "stream",
          "name": "stdout",
          "text": [
            "Hello Sunny Bad Morning!!\n"
          ]
        }
      ]
    },
    {
      "cell_type": "code",
      "source": [
        "wish(\"Moha\")"
      ],
      "metadata": {
        "colab": {
          "base_uri": "https://localhost:8080/"
        },
        "id": "RANnaDBY8-yH",
        "outputId": "f5f65331-7c21-4e97-e89b-d445d62d024d"
      },
      "execution_count": 64,
      "outputs": [
        {
          "output_type": "stream",
          "name": "stdout",
          "text": [
            "Hello Moha Good Morning\n"
          ]
        }
      ]
    },
    {
      "cell_type": "code",
      "source": [
        "def smart_division(func):\n",
        "  def inner(a,b):\n",
        "    if b==0:\n",
        "      print(\"cannot divide by zero\")\n",
        "      return\n",
        "    else:\n",
        "      return func(a,b)\n",
        "  return inner"
      ],
      "metadata": {
        "id": "LkKSZpyz9_nC"
      },
      "execution_count": 66,
      "outputs": []
    },
    {
      "cell_type": "code",
      "source": [
        "@smart_division\n",
        "def division(a,b):\n",
        "  return a/b"
      ],
      "metadata": {
        "id": "A_p_bs4IIzCd"
      },
      "execution_count": 67,
      "outputs": []
    },
    {
      "cell_type": "code",
      "source": [
        "division(20,0)"
      ],
      "metadata": {
        "colab": {
          "base_uri": "https://localhost:8080/"
        },
        "id": "KhPtMs4fI994",
        "outputId": "8fd67bb6-7244-47e5-ac40-a21246cce1cc"
      },
      "execution_count": 69,
      "outputs": [
        {
          "output_type": "stream",
          "name": "stdout",
          "text": [
            "cannot divide\n"
          ]
        }
      ]
    },
    {
      "cell_type": "code",
      "source": [
        "def decor1(func):\n",
        "  def inner():\n",
        "    x= func()\n",
        "    return x*x\n",
        "  return inner"
      ],
      "metadata": {
        "id": "K2bM_LGPJCul"
      },
      "execution_count": 21,
      "outputs": []
    },
    {
      "cell_type": "code",
      "source": [
        "def decor(func):\n",
        "  def inner():\n",
        "    x= func()\n",
        "    return 2*x\n",
        "  return inner"
      ],
      "metadata": {
        "id": "QwsA_2MkKrCa"
      },
      "execution_count": 28,
      "outputs": []
    },
    {
      "cell_type": "code",
      "source": [
        "@decor1\n",
        "@decor\n",
        "def num():\n",
        "  return 10"
      ],
      "metadata": {
        "id": "3HAS0zekKbjH"
      },
      "execution_count": 29,
      "outputs": []
    },
    {
      "cell_type": "code",
      "source": [
        "num()"
      ],
      "metadata": {
        "colab": {
          "base_uri": "https://localhost:8080/"
        },
        "id": "c3Y3iHYRKh21",
        "outputId": "04ba6304-f9d8-4784-efb9-306f99089f40"
      },
      "execution_count": 30,
      "outputs": [
        {
          "output_type": "execute_result",
          "data": {
            "text/plain": [
              "400"
            ]
          },
          "metadata": {},
          "execution_count": 30
        }
      ]
    },
    {
      "cell_type": "code",
      "source": [
        "##Decorator Program for Chaining"
      ],
      "metadata": {
        "id": "36I2pGOHKj8r"
      },
      "execution_count": 70,
      "outputs": []
    },
    {
      "cell_type": "code",
      "source": [
        "def decor1(func):\n",
        "  def inner(name):\n",
        "    print(\"First Decor function is executing\")\n",
        "    func(name)\n",
        "  return inner"
      ],
      "metadata": {
        "id": "d2Y_04sjM8dr"
      },
      "execution_count": 71,
      "outputs": []
    },
    {
      "cell_type": "code",
      "source": [
        "def decor2(func):\n",
        "  def inner(name):\n",
        "    print(\"Second decor function is executing\")\n",
        "    func(name)\n",
        "  return inner"
      ],
      "metadata": {
        "id": "cXnKPwQ6NYrw"
      },
      "execution_count": 72,
      "outputs": []
    },
    {
      "cell_type": "code",
      "source": [
        "@decor2\n",
        "@decor1\n",
        "def wish(name):\n",
        "  print(\"Hello\",name,\"good morning\")"
      ],
      "metadata": {
        "id": "mLT9AsPKNluq"
      },
      "execution_count": 73,
      "outputs": []
    },
    {
      "cell_type": "code",
      "source": [
        "wish(\"Moha\")"
      ],
      "metadata": {
        "colab": {
          "base_uri": "https://localhost:8080/"
        },
        "id": "gEk7LxJCNvMh",
        "outputId": "d242a131-030c-4450-f4e8-eeb40b1bac87"
      },
      "execution_count": 74,
      "outputs": [
        {
          "output_type": "stream",
          "name": "stdout",
          "text": [
            "Second decor function is executing\n",
            "First Decor function is executing\n",
            "Hello Moha good morning\n"
          ]
        }
      ]
    },
    {
      "cell_type": "code",
      "source": [
        "def star(func):\n",
        "  def inner(*args):\n",
        "    print(\"*\"*30)\n",
        "    func()\n",
        "    print(\"*\"*30)\n",
        "  return inner\n",
        "\n",
        "def percent(func):\n",
        "  def inner(*args):\n",
        "    print(\"%\"*30)\n",
        "    func()\n",
        "    print(\"%\"*30)\n",
        "  return inner\n",
        "\n",
        "@star\n",
        "@percent\n",
        "def printer():\n",
        "  print(\"Learning Python is very Easy...!!!\")\n"
      ],
      "metadata": {
        "id": "DweT3J9VNxWk"
      },
      "execution_count": 87,
      "outputs": []
    },
    {
      "cell_type": "code",
      "source": [
        "printer()"
      ],
      "metadata": {
        "colab": {
          "base_uri": "https://localhost:8080/"
        },
        "id": "G0w0IyI2O7mJ",
        "outputId": "508c4f01-f2dc-49ea-ef7b-993183faf08e"
      },
      "execution_count": 88,
      "outputs": [
        {
          "output_type": "stream",
          "name": "stdout",
          "text": [
            "******************************\n",
            "%%%%%%%%%%%%%%%%%%%%%%%%%%%%%%\n",
            "Learning Python is very Easy...!!!\n",
            "%%%%%%%%%%%%%%%%%%%%%%%%%%%%%%\n",
            "******************************\n"
          ]
        }
      ]
    },
    {
      "cell_type": "code",
      "source": [],
      "metadata": {
        "id": "2im6aDpdPpSI"
      },
      "execution_count": null,
      "outputs": []
    }
  ]
}