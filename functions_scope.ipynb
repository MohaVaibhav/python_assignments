{
 "cells": [
  {
   "cell_type": "code",
   "execution_count": 104,
   "id": "10e6eb06",
   "metadata": {},
   "outputs": [],
   "source": [
    "def add(a,b): # local variables a and b\n",
    "    print(a)\n",
    "    print(b)\n",
    "    print(c)\n",
    "    return a+b"
   ]
  },
  {
   "cell_type": "code",
   "execution_count": null,
   "id": "b14f30d5",
   "metadata": {},
   "outputs": [],
   "source": [
    "def sub(c,d):\n",
    "    return c-d"
   ]
  },
  {
   "cell_type": "code",
   "execution_count": 87,
   "id": "c4fd0c3c",
   "metadata": {},
   "outputs": [
    {
     "name": "stdout",
     "output_type": "stream",
     "text": [
      "10\n",
      "20\n",
      "30\n"
     ]
    },
    {
     "ename": "NameError",
     "evalue": "name 'a' is not defined",
     "output_type": "error",
     "traceback": [
      "\u001b[1;31m---------------------------------------------------------------------------\u001b[0m",
      "\u001b[1;31mNameError\u001b[0m                                 Traceback (most recent call last)",
      "Cell \u001b[1;32mIn[87], line 2\u001b[0m\n\u001b[0;32m      1\u001b[0m \u001b[38;5;28mprint\u001b[39m(add(\u001b[38;5;241m10\u001b[39m,\u001b[38;5;241m20\u001b[39m))\n\u001b[1;32m----> 2\u001b[0m \u001b[38;5;28mprint\u001b[39m(a)\n",
      "\u001b[1;31mNameError\u001b[0m: name 'a' is not defined"
     ]
    }
   ],
   "source": [
    "print(add(10,20))\n",
    "print(a)"
   ]
  },
  {
   "cell_type": "code",
   "execution_count": 6,
   "id": "dc2bf467",
   "metadata": {},
   "outputs": [
    {
     "name": "stdout",
     "output_type": "stream",
     "text": [
      "9999 899999999\n",
      "78\n",
      "90\n",
      "9999 899999999\n",
      "168\n"
     ]
    }
   ],
   "source": [
    "v1=899999999 # global variable\n",
    "global_g=9999 # global variable\n",
    "def add(a,b): # local variables a and b\n",
    "    print(a)\n",
    "    print(b)\n",
    "    print(global_g, v1)\n",
    "    v2 = a*b #local v2\n",
    "    print(\"Multiply \",v2)\n",
    "    return a+b\n",
    "print(global_g,v1)\n",
    "print(add(78,90))\n",
    "# print(v2) # cannot access outside add"
   ]
  },
  {
   "cell_type": "markdown",
   "id": "b6188474",
   "metadata": {},
   "source": [
    "# global variable read and modify"
   ]
  },
  {
   "cell_type": "code",
   "execution_count": 18,
   "id": "69c9dfff",
   "metadata": {},
   "outputs": [],
   "source": [
    "bal = 1000\n",
    "def display_bal():\n",
    "    print(bal) # read is directly allowed\n",
    "\n",
    "def withdraw_bal(withdraw_amount):\n",
    "    global bal  # access the global variable for modification\n",
    "    bal = bal - withdraw_amount # modifying global variable \n",
    "                                #directly is not allowed\n",
    "\n",
    "def deposit_bal(dep_amount):\n",
    "    global bal\n",
    "    bal = bal + dep_amount"
   ]
  },
  {
   "cell_type": "code",
   "execution_count": 19,
   "id": "6c8bb1de",
   "metadata": {},
   "outputs": [
    {
     "name": "stdout",
     "output_type": "stream",
     "text": [
      "1000\n",
      "700\n",
      "1200\n"
     ]
    }
   ],
   "source": [
    "bal = 1000\n",
    "display_bal()\n",
    "withdraw_bal(300)\n",
    "print(bal)\n",
    "deposit_bal(500)\n",
    "print(bal)"
   ]
  },
  {
   "cell_type": "code",
   "execution_count": 21,
   "id": "afa23da5",
   "metadata": {},
   "outputs": [
    {
     "name": "stdout",
     "output_type": "stream",
     "text": [
      "1000\n",
      "700\n",
      "1200\n"
     ]
    }
   ],
   "source": [
    "def display_bal(bal):\n",
    "    print(bal) # read is directly allowed\n",
    "\n",
    "def withdraw_bal(bal,withdraw_amount):\n",
    "    bal = bal - withdraw_amount # modifying global variable \n",
    "                                #directly is not allowed\n",
    "    return bal\n",
    "\n",
    "def deposit_bal(bal,dep_amount):\n",
    "    bal = bal + dep_amount\n",
    "    return bal\n",
    "\n",
    "bal = 1000\n",
    "display_bal(bal)\n",
    "bal = withdraw_bal(bal, 300)\n",
    "print(bal)\n",
    "bal = deposit_bal(bal,500)\n",
    "print(bal)"
   ]
  },
  {
   "cell_type": "markdown",
   "id": "30e2825b",
   "metadata": {},
   "source": [
    "# Inner function ( function within function)"
   ]
  },
  {
   "cell_type": "code",
   "execution_count": 50,
   "id": "268131f0",
   "metadata": {},
   "outputs": [],
   "source": [
    "def outside():\n",
    "    v1=100\n",
    "    v2=90\n",
    "    def inner_func():\n",
    "        # v1 and v2 are directly accessible to inner_func\n",
    "        print(v1,v2)\n",
    "        # cannot modify v1 v2\n",
    "        # otherwise python expects local copy of a variable\n",
    "    inner_func()"
   ]
  },
  {
   "cell_type": "code",
   "execution_count": 51,
   "id": "989ecf67",
   "metadata": {},
   "outputs": [
    {
     "name": "stdout",
     "output_type": "stream",
     "text": [
      "100 90\n"
     ]
    }
   ],
   "source": [
    "outside()"
   ]
  },
  {
   "cell_type": "markdown",
   "id": "49eddbb1",
   "metadata": {},
   "source": [
    "### Non-local variables (in inner function)\n",
    "\n",
    "use nonlocal keyword to access and modify variables of outer function from inner function"
   ]
  },
  {
   "cell_type": "code",
   "execution_count": 105,
   "id": "4a67ffe8",
   "metadata": {},
   "outputs": [],
   "source": [
    "gv1=90\n",
    "def outer_func():\n",
    "    v1=90\n",
    "    def inner_func():\n",
    "        nonlocal v1\n",
    "        v1 +=90\n",
    "        print(v1)\n",
    "    inner_func()"
   ]
  },
  {
   "cell_type": "code",
   "execution_count": 106,
   "id": "6ec69063",
   "metadata": {},
   "outputs": [
    {
     "name": "stdout",
     "output_type": "stream",
     "text": [
      "90\n"
     ]
    }
   ],
   "source": [
    "outer_func()"
   ]
  },
  {
   "cell_type": "code",
   "execution_count": 107,
   "id": "200cc168",
   "metadata": {},
   "outputs": [
    {
     "ename": "SyntaxError",
     "evalue": "no binding for nonlocal 'gv1' found (1106994319.py, line 3)",
     "output_type": "error",
     "traceback": [
      "\u001b[1;36m  Cell \u001b[1;32mIn[107], line 3\u001b[1;36m\u001b[0m\n\u001b[1;33m    nonlocal gv1\u001b[0m\n\u001b[1;37m    ^\u001b[0m\n\u001b[1;31mSyntaxError\u001b[0m\u001b[1;31m:\u001b[0m no binding for nonlocal 'gv1' found\n"
     ]
    }
   ],
   "source": [
    "gv1=999\n",
    "def add(a,b):\n",
    "    nonlocal gv1\n"
   ]
  },
  {
   "cell_type": "markdown",
   "id": "c3f85dfb",
   "metadata": {},
   "source": [
    "# Built in scope"
   ]
  },
  {
   "cell_type": "code",
   "execution_count": 109,
   "id": "4ee07eb0",
   "metadata": {},
   "outputs": [
    {
     "data": {
      "text/plain": [
       "9"
      ]
     },
     "execution_count": 109,
     "metadata": {},
     "output_type": "execute_result"
    }
   ],
   "source": [
    "abs(-9)"
   ]
  },
  {
   "cell_type": "code",
   "execution_count": 111,
   "id": "d692a211",
   "metadata": {},
   "outputs": [
    {
     "data": {
      "text/plain": [
       "81"
      ]
     },
     "execution_count": 111,
     "metadata": {},
     "output_type": "execute_result"
    }
   ],
   "source": [
    "def abs(no):\n",
    "    return no**2\n",
    "abs(-9)"
   ]
  },
  {
   "cell_type": "markdown",
   "id": "21df8180",
   "metadata": {},
   "source": [
    "# lambda functions\n",
    "Syntax:\n",
    "\n",
    "< lambda keyword > < parameters > : < single line operation>\n",
    "\n",
    "call \n",
    "\n",
    "(< lambda keyword > < parameters > : < single line operation>)()"
   ]
  },
  {
   "cell_type": "code",
   "execution_count": 52,
   "id": "e1558861",
   "metadata": {},
   "outputs": [
    {
     "data": {
      "text/plain": [
       "510"
      ]
     },
     "execution_count": 52,
     "metadata": {},
     "output_type": "execute_result"
    }
   ],
   "source": [
    "(lambda a,b: a+b )(10,500)"
   ]
  },
  {
   "cell_type": "code",
   "execution_count": 53,
   "id": "a46e2bdd",
   "metadata": {},
   "outputs": [
    {
     "data": {
      "text/plain": [
       "-490"
      ]
     },
     "execution_count": 53,
     "metadata": {},
     "output_type": "execute_result"
    }
   ],
   "source": [
    "(lambda a,b: a-b )(10,500)"
   ]
  },
  {
   "cell_type": "code",
   "execution_count": 55,
   "id": "9428330f",
   "metadata": {},
   "outputs": [
    {
     "data": {
      "text/plain": [
       "(510, -490, 5000, 0.02)"
      ]
     },
     "execution_count": 55,
     "metadata": {},
     "output_type": "execute_result"
    }
   ],
   "source": [
    "(lambda a,b: (a+b,a-b,a*b,a/b))(10,500)"
   ]
  },
  {
   "cell_type": "code",
   "execution_count": 56,
   "id": "0a6e2d6e",
   "metadata": {},
   "outputs": [
    {
     "ename": "SyntaxError",
     "evalue": "invalid syntax. Maybe you meant '==' or ':=' instead of '='? (2866786055.py, line 1)",
     "output_type": "error",
     "traceback": [
      "\u001b[1;36m  Cell \u001b[1;32mIn[56], line 1\u001b[1;36m\u001b[0m\n\u001b[1;33m    (lambda a,b: (a = a+10,a+b) )(10,500)\u001b[0m\n\u001b[1;37m                  ^\u001b[0m\n\u001b[1;31mSyntaxError\u001b[0m\u001b[1;31m:\u001b[0m invalid syntax. Maybe you meant '==' or ':=' instead of '='?\n"
     ]
    }
   ],
   "source": [
    "(lambda a,b: (a = a+10,a+b) )(10,500)"
   ]
  },
  {
   "cell_type": "markdown",
   "id": "7ce796bb",
   "metadata": {},
   "source": [
    "# Use of lambda function"
   ]
  },
  {
   "cell_type": "code",
   "execution_count": 61,
   "id": "98f5f135",
   "metadata": {},
   "outputs": [
    {
     "name": "stdout",
     "output_type": "stream",
     "text": [
      "[40, 30, 20, 10]\n"
     ]
    }
   ],
   "source": [
    "l=[10,20,30,40]\n",
    "l = sorted(l, reverse=True)\n",
    "print(l)"
   ]
  },
  {
   "cell_type": "code",
   "execution_count": 60,
   "id": "3d67ef91",
   "metadata": {},
   "outputs": [
    {
     "name": "stdout",
     "output_type": "stream",
     "text": [
      "Return a new list containing all items from the iterable in ascending order.\n",
      "\n",
      "A custom key function can be supplied to customize the sort order, and the\n",
      "reverse flag can be set to request the result in descending order.\n"
     ]
    }
   ],
   "source": [
    "print(sorted.__doc__)"
   ]
  },
  {
   "cell_type": "code",
   "execution_count": 62,
   "id": "1250a839",
   "metadata": {},
   "outputs": [],
   "source": [
    "# take list of words \n",
    "# and sort the words alphabetically as per 2nd character of the word"
   ]
  },
  {
   "cell_type": "code",
   "execution_count": 64,
   "id": "e2b853db",
   "metadata": {},
   "outputs": [
    {
     "name": "stdout",
     "output_type": "stream",
     "text": [
      "['have', 'has', 'want', 'aa', 'def', 'word', 'function']\n"
     ]
    }
   ],
   "source": [
    "words = ['have',\"has\",\"want\",\"def\",\"function\",\"word\",\"aa\"]\n",
    "def sec_char(str1):\n",
    "    return str1[1]\n",
    "print(sorted(words, key = sec_char))"
   ]
  },
  {
   "cell_type": "code",
   "execution_count": 67,
   "id": "fe539be8",
   "metadata": {},
   "outputs": [
    {
     "name": "stdout",
     "output_type": "stream",
     "text": [
      "['aa', 'word', 'have', 'def', 'function', 'has', 'want']\n",
      "['aa', 'word', 'have', 'def', 'function', 'has', 'want']\n"
     ]
    }
   ],
   "source": [
    "words = ['have',\"has\",\"want\",\"def\",\"function\",\"word\",\"aa\"]\n",
    "def sec_char(str1):\n",
    "    return str1[-1]\n",
    "print(sorted(words, key = sec_char))\n",
    "print(sorted(words, key = (lambda str1 : str1[-1])))"
   ]
  },
  {
   "cell_type": "code",
   "execution_count": 112,
   "id": "009f87a2",
   "metadata": {},
   "outputs": [
    {
     "data": {
      "text/plain": [
       "<function __main__.sec_char(str1)>"
      ]
     },
     "execution_count": 112,
     "metadata": {},
     "output_type": "execute_result"
    }
   ],
   "source": [
    "sec_char"
   ]
  },
  {
   "cell_type": "code",
   "execution_count": 68,
   "id": "38b97611",
   "metadata": {},
   "outputs": [
    {
     "data": {
      "text/plain": [
       "(-10, 10)"
      ]
     },
     "execution_count": 68,
     "metadata": {},
     "output_type": "execute_result"
    }
   ],
   "source": [
    "(lambda a,b: (a:=a-20,a+b))(10,20)"
   ]
  },
  {
   "cell_type": "code",
   "execution_count": 69,
   "id": "f748247d",
   "metadata": {},
   "outputs": [
    {
     "name": "stdout",
     "output_type": "stream",
     "text": [
      "[[10, 1], [1, 2], [100, 50]]\n"
     ]
    }
   ],
   "source": [
    "l2d = [[1,2],[10,1],[100,50]]\n",
    "print(sorted(l2d,key = (lambda l: l[1])))"
   ]
  },
  {
   "cell_type": "markdown",
   "id": "dbfef7a0",
   "metadata": {},
   "source": [
    "### sort dictionary keys based on their value"
   ]
  },
  {
   "cell_type": "code",
   "execution_count": 113,
   "id": "f3891912",
   "metadata": {},
   "outputs": [
    {
     "name": "stdout",
     "output_type": "stream",
     "text": [
      "[790, 200, 1]\n"
     ]
    }
   ],
   "source": [
    "d={1:23,200:2,790:1}\n",
    "sorted_keys = sorted(d,key = (lambda k:d[k]))\n",
    "print(sorted_keys)"
   ]
  },
  {
   "cell_type": "markdown",
   "id": "e47ab6b0",
   "metadata": {},
   "source": [
    "# Assign name to lambda function"
   ]
  },
  {
   "cell_type": "code",
   "execution_count": 115,
   "id": "6ca98bf6",
   "metadata": {},
   "outputs": [],
   "source": [
    "fun1 = (lambda x:print(x))"
   ]
  },
  {
   "cell_type": "code",
   "execution_count": 116,
   "id": "2648b251",
   "metadata": {},
   "outputs": [
    {
     "name": "stdout",
     "output_type": "stream",
     "text": [
      "hi\n"
     ]
    }
   ],
   "source": [
    "fun1(\"hi\")"
   ]
  },
  {
   "cell_type": "markdown",
   "id": "0a5a1989",
   "metadata": {},
   "source": [
    "# Map function"
   ]
  },
  {
   "cell_type": "code",
   "execution_count": 121,
   "id": "ed6669bc",
   "metadata": {},
   "outputs": [
    {
     "name": "stdout",
     "output_type": "stream",
     "text": [
      "<map object at 0x0000017EE041E290> [3.1622776601683795, 4.47213595499958, 5.477225575051661]\n"
     ]
    }
   ],
   "source": [
    "numbers=[10,20,30]\n",
    "result=map(lambda x: x**0.5,numbers)\n",
    "print(result, list(result))"
   ]
  },
  {
   "cell_type": "code",
   "execution_count": 123,
   "id": "87d3c826",
   "metadata": {},
   "outputs": [
    {
     "name": "stdout",
     "output_type": "stream",
     "text": [
      "[1, 1, 1, 0, 0, 0, 2]\n"
     ]
    }
   ],
   "source": [
    "words = ['have',\"has\",\"want\",\"def\",\"function\",\"word\",\"aa\"]\n",
    "def count_a_occ(str1):\n",
    "    return str1.count('a')\n",
    "a_count = map(count_a_occ, words)\n",
    "a_count = map(lambda word: word.count('a'), words)\n",
    "print(list(a_count))"
   ]
  },
  {
   "cell_type": "code",
   "execution_count": 126,
   "id": "f94fd754",
   "metadata": {},
   "outputs": [
    {
     "name": "stdout",
     "output_type": "stream",
     "text": [
      "[101, 202, 303, 405]\n",
      "[101, 202, 303, 405]\n"
     ]
    }
   ],
   "source": [
    "num1=[1,2,3,5,6]\n",
    "num2=[100,200,300,400]\n",
    "def add(a,b):\n",
    "    return a+b\n",
    "add_2_nums = map(add, num1,num2)\n",
    "print(list(add_2_nums))\n",
    "add_2_nums = map(lambda x,y:x+y, num1,num2)\n",
    "print(list(add_2_nums))"
   ]
  },
  {
   "cell_type": "code",
   "execution_count": null,
   "id": "64ebe989",
   "metadata": {},
   "outputs": [],
   "source": []
  }
 ],
 "metadata": {
  "kernelspec": {
   "display_name": "Python 3 (ipykernel)",
   "language": "python",
   "name": "python3"
  },
  "language_info": {
   "codemirror_mode": {
    "name": "ipython",
    "version": 3
   },
   "file_extension": ".py",
   "mimetype": "text/x-python",
   "name": "python",
   "nbconvert_exporter": "python",
   "pygments_lexer": "ipython3",
   "version": "3.11.4"
  }
 },
 "nbformat": 4,
 "nbformat_minor": 5
}
